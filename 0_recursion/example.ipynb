{
 "cells": [
  {
   "cell_type": "code",
   "execution_count": 2,
   "id": "4685a9bc-f2da-46d7-9b78-601ed2bd65ea",
   "metadata": {},
   "outputs": [
    {
     "name": "stdout",
     "output_type": "stream",
     "text": [
      "n is less than 1\n",
      "1\n",
      "2\n",
      "3\n",
      "4\n"
     ]
    }
   ],
   "source": [
    "# recursive原理測試\n",
    "def recursiveMethod(n):\n",
    "    if n<1:\n",
    "        print(\"n is less than 1\")\n",
    "    else: \n",
    "        #print(n)\n",
    "        recursiveMethod(n-1)\n",
    "        print(n)\n",
    "\n",
    "recursiveMethod(4)"
   ]
  },
  {
   "cell_type": "code",
   "execution_count": 4,
   "id": "9c365f46-2619-4bbf-96a8-5769804acfc6",
   "metadata": {},
   "outputs": [
    {
     "name": "stdout",
     "output_type": "stream",
     "text": [
      "4\n",
      "3\n",
      "2\n",
      "1\n",
      "n is less than 1\n"
     ]
    }
   ],
   "source": [
    "# recursive原理測試\n",
    "def recursiveMethod(n):\n",
    "    if n<1:\n",
    "        print(\"n is less than 1\")\n",
    "    else: \n",
    "        print(n)\n",
    "        recursiveMethod(n-1)\n",
    "        #print(n)\n",
    "\n",
    "recursiveMethod(4)"
   ]
  },
  {
   "cell_type": "code",
   "execution_count": 1,
   "id": "29262618-af36-49ca-9a9d-34f591fd69e2",
   "metadata": {},
   "outputs": [
    {
     "name": "stdout",
     "output_type": "stream",
     "text": [
      "6\n"
     ]
    }
   ],
   "source": [
    "# 加總字串數字\n",
    "def sumofDigits(n):\n",
    "    assert n>=0 and int(n) == n , 'The number has to be a postive integer only!'\n",
    "    if n == 0:\n",
    "        return 0\n",
    "    else:\n",
    "        return int(n%10) + sumofDigits(int(n/10))\n",
    "\n",
    "print(sumofDigits(12111))"
   ]
  },
  {
   "cell_type": "code",
   "execution_count": 8,
   "id": "01da192d-6edd-4bd3-9c39-5cdf61e6ca96",
   "metadata": {},
   "outputs": [
    {
     "name": "stdout",
     "output_type": "stream",
     "text": [
      "10000\n"
     ]
    }
   ],
   "source": [
    "# 數值轉二進位\n",
    "def decimalToBinary(n):\n",
    "    if n == 0:\n",
    "        return 0\n",
    "    else:\n",
    "        return n%2 + 10*decimalToBinary(int(n/2))\n",
    "\n",
    "\n",
    "print(decimalToBinary(16))\n"
   ]
  },
  {
   "cell_type": "code",
   "execution_count": 12,
   "id": "5448726d-5faf-4cb5-9c5a-c3455026ba84",
   "metadata": {
    "tags": []
   },
   "outputs": [
    {
     "name": "stdout",
     "output_type": "stream",
     "text": [
      "0.0625\n"
     ]
    }
   ],
   "source": [
    "#  計算次方函數，Question 2 - How to calculcate the power of number using recursion?\n",
    "\n",
    "def power(base, exp):\n",
    "    assert int(exp) == exp, 'The exponent must be integer number only'\n",
    "    if exp == 0:\n",
    "        return 1 \n",
    "    elif exp==1:\n",
    "        return base\n",
    "    elif exp < 0 :\n",
    "        return 1/base * power(base , exp + 1 )\n",
    "    else:\n",
    "        return base * (power(base , exp - 1 ))\n",
    "\n",
    "print(power(4,-2))"
   ]
  },
  {
   "cell_type": "code",
   "execution_count": 17,
   "id": "6d4fba76-d0e5-4020-9ab4-155e80f651e0",
   "metadata": {},
   "outputs": [],
   "source": [
    "def powerOfTwoIt(n):\n",
    "    if n ==0:\n",
    "        return 1\n",
    "    else:\n",
    "        return 2 * powerOfTwoIt( n-1 )"
   ]
  },
  {
   "cell_type": "code",
   "execution_count": 21,
   "id": "89e65688-67ea-481d-b17c-f4c85975a1be",
   "metadata": {},
   "outputs": [
    {
     "data": {
      "text/plain": [
       "32"
      ]
     },
     "execution_count": 21,
     "metadata": {},
     "output_type": "execute_result"
    }
   ],
   "source": [
    "powerOfTwoIt(5)"
   ]
  },
  {
   "cell_type": "code",
   "execution_count": 22,
   "id": "4056a3c6-4adc-4985-81e9-9590d83eb549",
   "metadata": {},
   "outputs": [],
   "source": [
    "def factorial(n):\n",
    "    if n ==1:\n",
    "        return 1 \n",
    "    else:\n",
    "        return n * factorial( n-1 )"
   ]
  },
  {
   "cell_type": "code",
   "execution_count": 24,
   "id": "047850f1-f1be-438f-82f8-7894f276844a",
   "metadata": {},
   "outputs": [
    {
     "data": {
      "text/plain": [
       "6"
      ]
     },
     "execution_count": 24,
     "metadata": {},
     "output_type": "execute_result"
    }
   ],
   "source": [
    "factorial(3)"
   ]
  },
  {
   "cell_type": "code",
   "execution_count": 25,
   "id": "cd7fab29-6060-4672-9af7-88b0e235fc91",
   "metadata": {},
   "outputs": [],
   "source": [
    "# 1 1 2 3 5 8\n",
    "def fibonacci(n):\n",
    "    if n in [0 , 1 ]:\n",
    "        return 1\n",
    "    else:\n",
    "        return fibonacci(n-1)+fibonacci(n-2)"
   ]
  },
  {
   "cell_type": "code",
   "execution_count": 29,
   "id": "458105b3-54db-4ef2-8fc7-0960cd255d74",
   "metadata": {},
   "outputs": [
    {
     "data": {
      "text/plain": [
       "8"
      ]
     },
     "execution_count": 29,
     "metadata": {},
     "output_type": "execute_result"
    }
   ],
   "source": [
    "fibonacci(5)"
   ]
  },
  {
   "cell_type": "code",
   "execution_count": 53,
   "id": "7c567e1d-4fcf-4dbb-b7b2-d77d8f80a1b5",
   "metadata": {},
   "outputs": [
    {
     "name": "stdout",
     "output_type": "stream",
     "text": [
      "a:12 , b:18\n",
      "a:18 , b:12\n",
      "a:12 , b:6\n"
     ]
    },
    {
     "data": {
      "text/plain": [
       "6"
      ]
     },
     "execution_count": 53,
     "metadata": {},
     "output_type": "execute_result"
    }
   ],
   "source": [
    "def gcd(a, b):# 最大公因數\n",
    "    assert int(a) == a and int(b) == b, 'The numbers must be integer only!'\n",
    "    if a < 0:\n",
    "        a = -1 * a\n",
    "    if b < 0:\n",
    "        b = -1 * b\n",
    "    if b == 0:\n",
    "        return a\n",
    "    else:\n",
    "        print('a:{a} , b:{b}'.format(a= a,b=b))\n",
    "        return gcd(b, a%b)\n",
    "        \n",
    "\n",
    "gcd(12,18)"
   ]
  },
  {
   "cell_type": "code",
   "execution_count": 48,
   "id": "35c9dc3a-3948-4238-8ad5-cd2a746b28f6",
   "metadata": {},
   "outputs": [
    {
     "data": {
      "text/plain": [
       "0"
      ]
     },
     "execution_count": 48,
     "metadata": {},
     "output_type": "execute_result"
    }
   ],
   "source": [
    "0%6"
   ]
  },
  {
   "cell_type": "code",
   "execution_count": 39,
   "id": "46583c97-0133-43ea-a5a7-9b4365c432dc",
   "metadata": {},
   "outputs": [
    {
     "data": {
      "text/plain": [
       "1011"
      ]
     },
     "execution_count": 39,
     "metadata": {},
     "output_type": "execute_result"
    }
   ],
   "source": [
    "def decimalToBinary(n):\n",
    "    if n == 0:\n",
    "        return 0\n",
    "    else:\n",
    "        return n%2 + 10*decimalToBinary(int(n/2))# 不能在此階段整除者會送到下一階段\n",
    "decimalToBinary(11)"
   ]
  },
  {
   "cell_type": "markdown",
   "id": "46815bd3-ea84-4d4e-9468-be1a348c201e",
   "metadata": {},
   "source": [
    "# The wheat/rice and chessboard problem\n",
    "https://www.codewars.com/kata/5b0d67c1cb35dfa10b0022c7/solutions/python"
   ]
  },
  {
   "cell_type": "code",
   "execution_count": null,
   "id": "914f9c57-6ac7-4069-a7bf-b82a3368fe1e",
   "metadata": {},
   "outputs": [],
   "source": [
    "def squares_needed(grains):\n",
    "    if grains < 1:\n",
    "        return 0\n",
    "    else:\n",
    "        return 1 + squares_needed(grains // 2)"
   ]
  },
  {
   "cell_type": "code",
   "execution_count": null,
   "id": "2d854cbd-5cef-4c86-9bf0-989e1144f2a6",
   "metadata": {},
   "outputs": [],
   "source": [
    "test.describe(\"Basic tests\")\n",
    "test.assert_equals(squares_needed(0), 0)\n",
    "test.assert_equals(squares_needed(1), 1)\n",
    "test.assert_equals(squares_needed(2), 2)\n",
    "test.assert_equals(squares_needed(3), 2)\n",
    "test.assert_equals(squares_needed(4), 3)\n",
    "print(\"<COMPLETEDIN::>\")"
   ]
  },
  {
   "cell_type": "code",
   "execution_count": null,
   "id": "0a090210-b514-47c7-8709-928dff164fb9",
   "metadata": {},
   "outputs": [],
   "source": [
    "# This function should return n!\n",
    "def factorial(n):\n",
    "    if n<0 or n==None:\n",
    "        return None\n",
    "    elif n==1:\n",
    "        return 1 \n",
    "    else:\n",
    "        return int(n) * factorial( int(n-1) )"
   ]
  },
  {
   "cell_type": "code",
   "execution_count": null,
   "id": "29556cda-725a-43e6-b04f-d28f9a9642fb",
   "metadata": {},
   "outputs": [],
   "source": []
  }
 ],
 "metadata": {
  "kernelspec": {
   "display_name": "Python 3 (ipykernel)",
   "language": "python",
   "name": "python3"
  },
  "language_info": {
   "codemirror_mode": {
    "name": "ipython",
    "version": 3
   },
   "file_extension": ".py",
   "mimetype": "text/x-python",
   "name": "python",
   "nbconvert_exporter": "python",
   "pygments_lexer": "ipython3",
   "version": "3.9.13"
  }
 },
 "nbformat": 4,
 "nbformat_minor": 5
}
