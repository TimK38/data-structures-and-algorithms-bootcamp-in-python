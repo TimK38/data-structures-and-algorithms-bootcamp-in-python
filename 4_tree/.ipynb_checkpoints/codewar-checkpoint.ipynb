{
 "cells": [
  {
   "cell_type": "code",
   "execution_count": 1,
   "id": "e5e59a2e-965e-458a-925a-1087c58fd464",
   "metadata": {},
   "outputs": [],
   "source": [
    "from random import randrange\n",
    "a = [randrange(10) for i in range(10)]\n"
   ]
  },
  {
   "cell_type": "code",
   "execution_count": 2,
   "id": "36c32c72-f71b-4b5d-b796-efda9f8e1d7c",
   "metadata": {},
   "outputs": [
    {
     "data": {
      "text/plain": [
       "[2, 0, 3, 2, 9, 9, 4, 1, 0, 6]"
      ]
     },
     "execution_count": 2,
     "metadata": {},
     "output_type": "execute_result"
    }
   ],
   "source": [
    "a"
   ]
  },
  {
   "cell_type": "code",
   "execution_count": null,
   "id": "66f5f873-676b-456e-b228-a3b5ccfc0033",
   "metadata": {},
   "outputs": [],
   "source": [
    "Complete Binary Tree\n",
    "def complete_binary_tree(a):\n",
    "    def tree(i):\n",
    "        if i<len(a): \n",
    "            tree(2 * i + 1)\n",
    "            res[i] = next(k)\n",
    "            return tree(2 * i + 2)\n",
    "    res = a[:] \n",
    "    k = iter(a)\n",
    "    tree(0)\n",
    "    return res    \n",
    "def complete_binary_tree(a):\n",
    "    def in_order(n=0):\n",
    "        if n < len(a):\n",
    "            yield from in_order(2 * n + 1)\n",
    "            yield n\n",
    "            yield from in_order(2 * n + 2)\n",
    "\n",
    "    result = [None] * len(a)\n",
    "    for i, x in zip(in_order(), a):\n",
    "        result[i] = x\n",
    "    return result"
   ]
  },
  {
   "cell_type": "markdown",
   "id": "75959330-44fb-44c6-b75b-4664aecaa695",
   "metadata": {},
   "source": [
    "# Tree to list\n",
    "https://www.codewars.com/kata/56ef9790740d30a7ff000199/train/python"
   ]
  },
  {
   "cell_type": "code",
   "execution_count": null,
   "id": "27d62a4b-7e0d-424b-8aca-8871a2fe3c4e",
   "metadata": {},
   "outputs": [],
   "source": [
    "#Tree to list\n",
    "\n",
    "class Node:\n",
    "    def __init__(self, data, child_nodes=None):\n",
    "        self.data = data\n",
    "        self.child_nodes = [] if child_nodes is None else child_nodes\n",
    "\n",
    "def tree_to_list(tree_root):\n",
    "    queue = []\n",
    "    result = []\n",
    "    \n",
    "    if tree_root:\n",
    "        queue.append(tree_root)\n",
    "        result.append(tree_root.data)\n",
    "        \n",
    "    while len(queue) != 0:\n",
    "        tree = queue.pop(0)\n",
    "        \n",
    "        for child in tree.child_nodes:\n",
    "            queue.append(child)\n",
    "            result.append(child.data)\n",
    "            \n",
    "    return result\n",
    "\n",
    "class Node:\n",
    "    def __init__(self, data, child_nodes=None):\n",
    "        self.data = data\n",
    "        self.child_nodes = [] if child_nodes is None else child_nodes\n",
    "\n",
    "def tree_to_list(tree_root):\n",
    "    ls = []\n",
    "    queue = [tree_root]\n",
    "    \n",
    "    while len(queue)!=0:\n",
    "        current = queue.pop(0)\n",
    "        if current != []:\n",
    "            ls.append(current.data)\n",
    "            children = current.child_nodes\n",
    "            queue += children\n",
    "\n",
    "    return ls"
   ]
  },
  {
   "cell_type": "code",
   "execution_count": 11,
   "id": "c09d2198-8f77-499c-9c57-043b475ed926",
   "metadata": {},
   "outputs": [],
   "source": [
    "class Node:\n",
    "    def __init__(self, data, child_nodes=None):\n",
    "        self.data = data\n",
    "        self.child_nodes = [] if child_nodes is None else child_nodes\n",
    "tree_root = Node(1, [Node(2, \n",
    "                     [Node(3), Node(4), Node(5)]), \n",
    "                Node(3, [Node(7)])])"
   ]
  },
  {
   "cell_type": "code",
   "execution_count": 31,
   "id": "98d588e5-f31b-400e-b891-5260128a8ad6",
   "metadata": {},
   "outputs": [],
   "source": [
    "tree_node = Node(1, [Node(2, [Node(3), Node(4)]), Node(5, [Node(6)]), Node(7)])"
   ]
  },
  {
   "cell_type": "code",
   "execution_count": 107,
   "id": "f9523d0e-093e-4645-9e09-8a984164cf1e",
   "metadata": {},
   "outputs": [],
   "source": [
    "def tree_to_list(tree_root):\n",
    "    ls = []\n",
    "    if tree_root:\n",
    "        queue = [tree_root] \n",
    "        while len(queue)>0:\n",
    "            a = queue.pop(0)\n",
    "            #print(a.data)\n",
    "            ls.append(a.data)\n",
    "            queue += a.child_nodes\n",
    "        return ls\n",
    "    else:\n",
    "        return []"
   ]
  },
  {
   "cell_type": "markdown",
   "id": "1855a39c-bbe0-4435-9062-6d225a32240b",
   "metadata": {},
   "source": [
    "# Family Relations\n",
    "https://www.codewars.com/kata/5eaf798e739e39001218a2f4/train/python\n",
    "樹由下到上會是key值"
   ]
  },
  {
   "cell_type": "code",
   "execution_count": null,
   "id": "ba44be8a-d064-45cf-a4dc-cd8f035bd57c",
   "metadata": {},
   "outputs": [],
   "source": [
    "test.describe(\"Basic tests\")\n",
    "\n",
    "family_a = [(\"Enid\", \"Susan\"), (\"Susan\", \"Deborah\")]\n",
    "test.assert_equals(relations(family_a, (\"Deborah\",\"Enid\")), \"Grandmother\")\n",
    "test.assert_equals(relations(family_a, (\"Enid\",\"Susan\")), \"Daughter\")\n",
    "\n",
    "\n",
    "family_b = [('Enid', 'Susan'), ('Susan', 'Deborah'), ('Enid', 'Dianne'), ('Dianne', 'Judy'), ('Dianne', 'Fern')]\n",
    "test.assert_equals(relations(family_b, (\"Judy\",\"Fern\")), \"Sister\")\n",
    "test.assert_equals(relations(family_b, (\"Deborah\",\"Fern\")), \"Cousin\")"
   ]
  },
  {
   "cell_type": "code",
   "execution_count": 1,
   "id": "06a0c0bd-a390-472f-b9bd-664720a17a9f",
   "metadata": {},
   "outputs": [],
   "source": [
    "def relations(family_list, target_pair):\n",
    "    parents = {}\n",
    "    for parent, child in family_list:\n",
    "        parents[child] = parent\n",
    "\n",
    "    a, b = target_pair\n",
    "    ap = parents.get(a)\n",
    "    app = parents.get(ap)\n",
    "    bp = parents.get(b)\n",
    "    bpp = parents.get(bp)\n",
    "\n",
    "    if b == ap:\n",
    "        return 'Mother'\n",
    "    if b == app:\n",
    "        return 'Grandmother'\n",
    "    if a == bp:\n",
    "        return 'Daughter'\n",
    "    if a == bpp:\n",
    "        return 'Granddaughter'\n",
    "    if ap == bp:\n",
    "        return 'Sister'\n",
    "    if app == bpp:\n",
    "        return 'Cousin'\n",
    "    if app == bp:\n",
    "        return 'Aunt'\n",
    "    if ap == bpp:\n",
    "        return 'Niece'"
   ]
  },
  {
   "cell_type": "code",
   "execution_count": 11,
   "id": "b2e7f71d-e7a0-4755-a46f-5b66f9a4e5c1",
   "metadata": {},
   "outputs": [],
   "source": [
    "family_b = [('Enid', 'Susan'), ('Susan', 'Deborah'), ('Enid', 'Dianne'), ('Dianne', 'Judy'), ('Dianne', 'Fern')]"
   ]
  },
  {
   "cell_type": "code",
   "execution_count": 12,
   "id": "4b68bb20-3d71-4cfa-86c3-cd119c56f4c7",
   "metadata": {},
   "outputs": [],
   "source": [
    "family_list = family_b\n",
    "target_pair = (\"Deborah\",\"Fern\")"
   ]
  },
  {
   "cell_type": "code",
   "execution_count": 13,
   "id": "0de8a078-f524-43e0-bea1-bf5fdbf7db85",
   "metadata": {},
   "outputs": [],
   "source": [
    "parents = {}\n",
    "for parent, child in family_list:\n",
    "    parents[child] = parent\n"
   ]
  },
  {
   "cell_type": "code",
   "execution_count": 14,
   "id": "ed037565-a1d5-421d-8c15-9e0a78db303a",
   "metadata": {},
   "outputs": [
    {
     "data": {
      "text/plain": [
       "{'Susan': 'Enid',\n",
       " 'Deborah': 'Susan',\n",
       " 'Dianne': 'Enid',\n",
       " 'Judy': 'Dianne',\n",
       " 'Fern': 'Dianne'}"
      ]
     },
     "execution_count": 14,
     "metadata": {},
     "output_type": "execute_result"
    }
   ],
   "source": [
    "parents"
   ]
  },
  {
   "cell_type": "code",
   "execution_count": 15,
   "id": "cefe41c4-8c76-4a3f-99ed-d2f8110728d4",
   "metadata": {},
   "outputs": [],
   "source": [
    "a, b = target_pair"
   ]
  },
  {
   "cell_type": "code",
   "execution_count": 16,
   "id": "59b146ba-82a4-42a3-98a8-2f01ec961f45",
   "metadata": {},
   "outputs": [
    {
     "data": {
      "text/plain": [
       "'Susan'"
      ]
     },
     "execution_count": 16,
     "metadata": {},
     "output_type": "execute_result"
    }
   ],
   "source": [
    "parents.get(a)# 找出a的親人\n"
   ]
  },
  {
   "cell_type": "code",
   "execution_count": 17,
   "id": "f9ef203b-9e6c-4eba-a8bb-2b3756be01a1",
   "metadata": {},
   "outputs": [
    {
     "data": {
      "text/plain": [
       "{'Susan': 'Enid',\n",
       " 'Deborah': 'Susan',\n",
       " 'Dianne': 'Enid',\n",
       " 'Judy': 'Dianne',\n",
       " 'Fern': 'Dianne'}"
      ]
     },
     "execution_count": 17,
     "metadata": {},
     "output_type": "execute_result"
    }
   ],
   "source": [
    "parents"
   ]
  },
  {
   "cell_type": "code",
   "execution_count": 18,
   "id": "19f83eca-a430-4e41-8664-2308edc69c82",
   "metadata": {},
   "outputs": [
    {
     "data": {
      "text/plain": [
       "'Deborah'"
      ]
     },
     "execution_count": 18,
     "metadata": {},
     "output_type": "execute_result"
    }
   ],
   "source": [
    "a"
   ]
  },
  {
   "cell_type": "code",
   "execution_count": 19,
   "id": "f3e5d1db-e2b1-44c2-ac88-d92997a62d68",
   "metadata": {},
   "outputs": [
    {
     "data": {
      "text/plain": [
       "'Dianne'"
      ]
     },
     "execution_count": 19,
     "metadata": {},
     "output_type": "execute_result"
    }
   ],
   "source": [
    "parents.get(b)# 找出Ｂ的親人"
   ]
  },
  {
   "cell_type": "markdown",
   "id": "fe5bcb59-8a89-421d-9de0-bf3f063b50c5",
   "metadata": {},
   "source": [
    "# Binary Tree Serpentine Traversal\n",
    "https://www.codewars.com/kata/5268988a1034287628000156/train/python"
   ]
  },
  {
   "cell_type": "code",
   "execution_count": null,
   "id": "c37ba3f7-0258-4c38-b1e4-d30577abc14f",
   "metadata": {},
   "outputs": [],
   "source": [
    "import codewars_test as test\n",
    "from solution import serpentine_traversal\n",
    "from preloaded import Node, tree_to_string\n",
    "\n",
    "@test.describe(\"sample tests\")\n",
    "def sample_tests():\n",
    "\tdef do_test(tree, expected):\n",
    "\t\tlog = tree_to_string(tree)\n",
    "\t\tactual = serpentine_traversal(tree)\n",
    "\t\ttest.assert_equals(actual, expected, log)\n",
    "\n",
    "\t@test.it(\"empty tree\")\n",
    "\tdef empty_tree():\n",
    "\t\tdo_test(None, [])\n",
    "\n",
    "\t@test.it(\"example from description\")\n",
    "\tdef example_from_description():\n",
    "\t\ttree = (\n",
    "\t\t\tNode('A',\n",
    "\t\t\t\tNode('B',\n",
    "\t\t\t\t\t Node('D'),\n",
    "\t\t\t\t\t Node('E')\n",
    "\t\t\t\t),\n",
    "\t\t\t\tNode('C',\n",
    "\t\t\t\t\t Node('F'),\n",
    "\t\t\t\t\t Node('G')\n",
    "\t\t\t\t)\n",
    "\t\t\t)\n",
    "\t\t)\n",
    "\t\tdo_test(tree, [\"A\", \"C\", \"B\", \"D\", \"E\", \"F\", \"G\"])\n",
    "\n",
    "\t@test.it(\"unbalanced tree\")\n",
    "\tdef unbalanced_tree():\n",
    "\t\ttree = (\n",
    "\t\t\tNode('A',\n",
    "\t\t\t\tNone,\n",
    "\t\t\t\tNode('B',\n",
    "\t\t\t\t\t Node('C',\n",
    "\t\t\t\t\t\t  None,\n",
    "\t\t\t\t\t\t  Node('F',\n",
    "\t\t\t\t\t\t\t   Node('G',\n",
    "\t\t\t\t\t\t\t\t\tNode('H')\n",
    "\t\t\t\t\t\t\t\t)\n",
    "\t\t\t\t\t\t  )\n",
    "\t\t\t\t     ),\n",
    "\t\t\t\t\t Node('D',\n",
    "\t\t\t\t\t\t  None,\n",
    "\t\t\t\t\t\t  Node('E')\n",
    "\t\t\t\t\t)\n",
    "\t\t\t\t)\n",
    "\t\t\t)\n",
    "\t\t)\n",
    "\t\tdo_test(tree, ['A', 'B', 'C', 'D', 'E', 'F', 'G', 'H'])"
   ]
  },
  {
   "cell_type": "code",
   "execution_count": 305,
   "id": "ad83faab-b533-42a6-8490-2e9823d17df5",
   "metadata": {},
   "outputs": [],
   "source": [
    "class Node(object):\n",
    "    def __init__(self, data=0, left=None, right=None):\n",
    "        self.data = data\n",
    "        self.left = left\n",
    "        self.right = right\n",
    "    def insertLeft(self,node):\n",
    "        if self.left==None:\n",
    "            self.left=TreeNode(node)\n",
    "        else:\n",
    "            self.left.insertLeft(node)\n",
    "    def insertRight(self,node):\n",
    "        if self.right==None:\n",
    "            self.right=TreeNode(node)\n",
    "        else:\n",
    "            self.right.insertRight(node)\n",
    "    def printTree(self):\n",
    "        root = self\n",
    "        stack=[root]\n",
    "        flag = 1\n",
    "        while stack:\n",
    "            root=stack.pop(0)\n",
    "            if flag==1:\n",
    "                print(root.data,end='')\n",
    "                flag=0\n",
    "            if root.left:\n",
    "                print('->',root.left.data,end='')\n",
    "                stack.append(root.left)\n",
    "            if root.right:\n",
    "                print('->',root.right.data,end='')\n",
    "                stack.append(root.right)\n",
    "        print('\\n')"
   ]
  },
  {
   "cell_type": "code",
   "execution_count": 307,
   "id": "1d46eb0b-2c98-49cc-ad3b-99caa23ba48b",
   "metadata": {},
   "outputs": [
    {
     "data": {
      "text/plain": [
       "['A', 'B', 'C', 'D', 'E', 'F', 'G', 'H']"
      ]
     },
     "execution_count": 307,
     "metadata": {},
     "output_type": "execute_result"
    }
   ],
   "source": [
    "#from preloaded import Node\n",
    "\n",
    "def gen_children(a):\n",
    "    res = []\n",
    "    for r in a: \n",
    "        if not r: continue\n",
    "        res.extend([r.left, r.right])\n",
    "    return res\n",
    "    \n",
    "def serpentine_traversal(r : Node) -> list:\n",
    "    if not r: return []\n",
    "\n",
    "    cur = [r]\n",
    "    res = [i.data for i in cur]# 先做出root.data \n",
    "    rev = True\n",
    "    while 1:\n",
    "        #print(cur)\n",
    "        cur = gen_children(cur)# [<__main__.Node at 0x7fa6a0dbbf10>] => [[<__main__.Node at 0x7fa6a0dbb4f0>, <__main__.Node at 0x7fa6a0dbbe80>], None]\n",
    "        if not cur: break\n",
    "        res += [i.data for i in (cur[::-1] if rev else cur) if i]\n",
    "        rev = not rev\n",
    "    return res\n",
    "\n",
    "r = Node('A',\n",
    "\t\t\t\tNone,\n",
    "\t\t\t\tNode('B',\n",
    "\t\t\t\t\t Node('C',\n",
    "\t\t\t\t\t\t  None,\n",
    "\t\t\t\t\t\t  Node('F',\n",
    "\t\t\t\t\t\t\t   Node('G',\n",
    "\t\t\t\t\t\t\t\t\tNode('H')\n",
    "\t\t\t\t\t\t\t\t)\n",
    "\t\t\t\t\t\t  )\n",
    "\t\t\t\t     ),\n",
    "\t\t\t\t\t Node('D',\n",
    "\t\t\t\t\t\t  None,\n",
    "\t\t\t\t\t\t  Node('E')\n",
    "\t\t\t\t\t)\n",
    "\t\t\t\t)\n",
    "\t\t\t)\n",
    "serpentine_traversal(r)"
   ]
  },
  {
   "cell_type": "markdown",
   "id": "f1cb05b7-df53-4487-b4d9-148181651812",
   "metadata": {},
   "source": [
    "# Sort binary tree by levels\n",
    "https://www.codewars.com/kata/52bef5e3588c56132c0003bc/train/python"
   ]
  },
  {
   "cell_type": "code",
   "execution_count": null,
   "id": "811e2578-fb8f-4086-afed-5126a40b9249",
   "metadata": {},
   "outputs": [],
   "source": [
    "test.assert_equals(tree_by_levels(None), [])\n",
    "test.assert_equals(tree_by_levels(Node( Node(None, Node(None, None, 4), 2), \n",
    "                                        Node(Node(None, None, 5), \n",
    "                                                        Node(None, None, 6), 3), \n",
    "                                    1)\n",
    "                                 \n",
    "                                 ), [1, 2, 3, 4, 5, 6])\n",
    "\n"
   ]
  },
  {
   "cell_type": "code",
   "execution_count": 309,
   "id": "ab1a4d22-ec21-4a55-8dd1-b6fb71f3baed",
   "metadata": {},
   "outputs": [],
   "source": [
    "class Node:\n",
    "    def __init__(self, L, R, n):\n",
    "        self.left = L\n",
    "        self.right = R\n",
    "        self.value = n"
   ]
  },
  {
   "cell_type": "code",
   "execution_count": 310,
   "id": "948be08e-6892-43ce-8147-66b53f7624ea",
   "metadata": {},
   "outputs": [],
   "source": [
    "tree = Node( Node(None, Node(None, None, 4), 2), \n",
    "                                        Node(Node(None, None, 5), \n",
    "                                                        Node(None, None, 6), 3), \n",
    "                                    1)"
   ]
  },
  {
   "cell_type": "code",
   "execution_count": 315,
   "id": "7298e68a-2007-4345-983e-4ee98e85f16b",
   "metadata": {},
   "outputs": [
    {
     "data": {
      "text/plain": [
       "[<__main__.Node at 0x7fa6b037e730>]"
      ]
     },
     "execution_count": 315,
     "metadata": {},
     "output_type": "execute_result"
    }
   ],
   "source": [
    "[tree]"
   ]
  },
  {
   "cell_type": "code",
   "execution_count": 316,
   "id": "9c476bc8-7766-4ac5-988c-0a25e50aac07",
   "metadata": {},
   "outputs": [],
   "source": [
    "cur = [tree]\n",
    "res = [i.value for i in cur]# 先做出root.data \n",
    "rev = True\n",
    "while 1:\n",
    "    #print(cur)\n",
    "    cur = gen_children(cur)# [<__main__.Node at 0x7fa6a0dbbf10>] => [[<__main__.Node at 0x7fa6a0dbb4f0>, <__main__.Node at 0x7fa6a0dbbe80>], None]\n",
    "    if not cur: break\n",
    "    res += [i.value for i in cur if i]"
   ]
  },
  {
   "cell_type": "code",
   "execution_count": 317,
   "id": "88ca0b49-43b9-4d35-b3b1-e7fe5a35cf8c",
   "metadata": {},
   "outputs": [
    {
     "data": {
      "text/plain": [
       "[1, 2, 3, 4, 5, 6]"
      ]
     },
     "execution_count": 317,
     "metadata": {},
     "output_type": "execute_result"
    }
   ],
   "source": [
    "res"
   ]
  },
  {
   "cell_type": "code",
   "execution_count": 323,
   "id": "1a2ada46-9724-4abc-9e05-523fd30c53b6",
   "metadata": {},
   "outputs": [],
   "source": [
    "def gen_children(a):\n",
    "    res = []\n",
    "    for r in a: \n",
    "        if not r: continue\n",
    "        res.extend([r.left, r.right])\n",
    "    return res\n",
    "\n",
    "\n",
    "def tree_by_levels(node):\n",
    "    if node ==None:\n",
    "        return []\n",
    "    else:\n",
    "        cur = [node]\n",
    "        res = [i.value for i in cur]# 先做出root.data \n",
    "        while 1:\n",
    "            cur = gen_children(cur)# [<__main__.Node at 0x7fa6a0dbbf10>] => [[<__main__.Node at 0x7fa6a0dbb4f0>, <__main__.Node at 0x7fa6a0dbbe80>], None]\n",
    "            if not cur: break\n",
    "            res += [i.value for i in cur if i]\n",
    "        return res"
   ]
  },
  {
   "cell_type": "code",
   "execution_count": 324,
   "id": "febc9127-a805-4b4f-b1c7-d928dfd88e5d",
   "metadata": {},
   "outputs": [
    {
     "data": {
      "text/plain": [
       "[1, 2, 3, 4, 5, 6]"
      ]
     },
     "execution_count": 324,
     "metadata": {},
     "output_type": "execute_result"
    }
   ],
   "source": [
    "tree_by_levels(tree)"
   ]
  },
  {
   "cell_type": "code",
   "execution_count": 320,
   "id": "c55725cb-951d-48dc-9d8b-c7e4bf590f77",
   "metadata": {},
   "outputs": [
    {
     "data": {
      "text/plain": [
       "<__main__.Node at 0x7fa6b037e730>"
      ]
     },
     "execution_count": 320,
     "metadata": {},
     "output_type": "execute_result"
    }
   ],
   "source": [
    "iftree"
   ]
  },
  {
   "cell_type": "markdown",
   "id": "12522cbd-114f-4964-a9cb-8f59bcb08d20",
   "metadata": {},
   "source": [
    "# Binary search tree validation\n",
    "https://www.codewars.com/kata/588534713472944a9e000029/train/python"
   ]
  },
  {
   "cell_type": "code",
   "execution_count": null,
   "id": "e0b30b80-f596-4de0-80c8-bc382c6f8c9b",
   "metadata": {},
   "outputs": [],
   "source": [
    "test.describe(\"Basic Tests\")\n",
    "#Example test cases\n",
    "test.assert_equals(is_bst(T(5, T(2, T(1), T(3)), T(7, None, T(9)))), True)\n",
    "test.assert_equals(is_bst(T(7, T(9), T(2))), True)\n",
    "test.assert_equals(is_bst(T(1, T(2), T(3))), False)\n",
    "test.assert_equals(is_bst(T(5, T(2, None, T(7)), T(9))), False)\n",
    "\n",
    "#Empty tree\n",
    "test.assert_equals(is_bst(None), True)\n",
    "\n",
    "#Trivial tree\n",
    "test.assert_equals(is_bst(T(5)), True)\n",
    "\n",
    "#2-node trees\n",
    "test.assert_equals(is_bst(T(5, T(4))), True)\n",
    "test.assert_equals(is_bst(T(5, None, T(4))), True)\n",
    "\n",
    "#List trees\n",
    "test.assert_equals(is_bst(T(5, T(4, T(3, T(2, T(1, T(-1, T(-5000)))))))), True)\n",
    "test.assert_equals(is_bst(T(5, None, T(4, None, T(3, None, T(2, None, T(1, None, T(-1, None, T(-5000)))))))), True)\n",
    "test.assert_equals(is_bst(T(5, T(4, T(3, T(2, T(1, T(7))))))), False)\n",
    "test.assert_equals(is_bst(T(5, None, T(4, None, T(3, None, T(2, None, T(1, None, T(7))))))), False)\n",
    "\n",
    "#Edge cases\n",
    "test.assert_equals(is_bst(T(50, T(30, None, T(40, T(20), T(45))))), False)\n",
    "test.assert_equals(is_bst(T(50, None, T(30, T(40, T(45), T(20))))), False)\n",
    "test.assert_equals(is_bst(T(50, None, T(70, T(60, T(55), T(75))))), False)\n",
    "test.assert_equals(is_bst(T(50, T(70, None, T(60, T(75), T(55))))), False)\n",
    "\n",
    "#Direction tests\n",
    "test.assert_equals(is_bst(T(500, T(100, T(50, None, T(75)), T(150, T(125))), T(900, T(800, T(700)), T(1000, None, T(1100))))), True)\n",
    "test.assert_equals(is_bst(T(500, T(900, T(1000, T(1100), T(800, None, T(700))), T(100, T(150, None, T(125)), T(50, T(75)))))), False)\n",
    "print(\"<COMPLETEDIN::>\")"
   ]
  },
  {
   "cell_type": "code",
   "execution_count": 405,
   "id": "fa3e2eb9-13a9-46a9-9347-6c031777f413",
   "metadata": {},
   "outputs": [],
   "source": [
    "class T:\n",
    "    def __init__(self,value,left=None,right=None):\n",
    "        self.value=value\n",
    "        self.left=left\n",
    "        self.right=right\n",
    "        \n",
    "def inOrderTraversal(rootNode):\n",
    "    # 產出output結果為string T(5, T(2, T(1), T(3)), T(7, None, T(9)))  '>1>>2>>3>>5>>7>>9>'\n",
    "    if not rootNode:\n",
    "        return ''\n",
    "    return inOrderTraversal(rootNode.left) +'>'+ str(rootNode.value) +'>'+ inOrderTraversal(rootNode.right)\n",
    "    \n",
    "def is_bst(node):\n",
    "    \n",
    "    inorder_string =  inOrderTraversal(node)\n",
    "    inorder_list = [ int(i) for i in inorder_string.split('>') if i != '']#產出inorder string結果\n",
    "    # 若該結果順向與逆向皆相同，則返回True\n",
    "    if sorted(inorder_list)==inorder_list or sorted(inorder_list)[::-1]==inorder_list:\n",
    "        return True\n",
    "    else:\n",
    "        return False"
   ]
  },
  {
   "cell_type": "code",
   "execution_count": 415,
   "id": "d75c0b3e-0e96-473e-91a8-c1ee8c0d5f5c",
   "metadata": {},
   "outputs": [],
   "source": [
    "tree = T(5, T(2, T(1), T(3,T(4),T(8)  )), T(7, T(6), T(9)))"
   ]
  },
  {
   "cell_type": "code",
   "execution_count": 412,
   "id": "9b1bc5da-86c7-48e3-b7ee-63d4a4a3e653",
   "metadata": {
    "tags": []
   },
   "outputs": [
    {
     "data": {
      "text/plain": [
       "True"
      ]
     },
     "execution_count": 412,
     "metadata": {},
     "output_type": "execute_result"
    }
   ],
   "source": [
    "is_bst(tree)"
   ]
  },
  {
   "cell_type": "code",
   "execution_count": 392,
   "id": "a526ef5a-2e03-4f23-b1fb-d340e943c6a5",
   "metadata": {},
   "outputs": [],
   "source": [
    "#z = []\n",
    "def inOrderTraversal(rootNode):\n",
    "    if not rootNode:\n",
    "        return ''\n",
    "    return inOrderTraversal(rootNode.left) +'>'+ str(rootNode.value) +'>'+ inOrderTraversal(rootNode.right)"
   ]
  },
  {
   "cell_type": "code",
   "execution_count": 416,
   "id": "ade72d49-4852-4d72-9228-7811fdd18265",
   "metadata": {},
   "outputs": [],
   "source": [
    "inorder_string = inOrderTraversal(tree)"
   ]
  },
  {
   "cell_type": "code",
   "execution_count": 417,
   "id": "0146ff0c-df9c-451e-9d81-c2173618ca7f",
   "metadata": {},
   "outputs": [
    {
     "data": {
      "text/plain": [
       "'>1>>2>>4>>3>>8>>5>>6>>7>>9>'"
      ]
     },
     "execution_count": 417,
     "metadata": {},
     "output_type": "execute_result"
    }
   ],
   "source": [
    "inorder_string"
   ]
  },
  {
   "cell_type": "code",
   "execution_count": null,
   "id": "541b0934-3def-4674-a129-bc82d67eaef4",
   "metadata": {},
   "outputs": [],
   "source": []
  }
 ],
 "metadata": {
  "kernelspec": {
   "display_name": "Python 3 (ipykernel)",
   "language": "python",
   "name": "python3"
  },
  "language_info": {
   "codemirror_mode": {
    "name": "ipython",
    "version": 3
   },
   "file_extension": ".py",
   "mimetype": "text/x-python",
   "name": "python",
   "nbconvert_exporter": "python",
   "pygments_lexer": "ipython3",
   "version": "3.9.13"
  }
 },
 "nbformat": 4,
 "nbformat_minor": 5
}
