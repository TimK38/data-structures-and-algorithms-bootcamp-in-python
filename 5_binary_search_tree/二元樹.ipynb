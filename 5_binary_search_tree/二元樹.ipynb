{
 "cells": [
  {
   "cell_type": "markdown",
   "id": "3857a7b7-25d3-43d4-bac4-c48398e0385c",
   "metadata": {},
   "source": [
    "# 參考網址\n",
    "https://lovedrinkcafe.com/python-binary-search-tree-part-1/"
   ]
  },
  {
   "cell_type": "markdown",
   "id": "85830738-1c74-4423-8806-f963dab3a204",
   "metadata": {},
   "source": [
    "## 二元樹基本概念\n",
    "### 二元樹就是由多個node組成\n",
    "\n",
    "而BST就是以 node-based 為基礎的資料結構，當中要注意到BST有以下幾點特性：\n",
    "\n",
    "* node左子樹只會包含比本身還要小得值\n",
    "* node的右子樹只會包含比自己大的node\n",
    "* 每個左右子樹都要是二元搜尋樹\n",
    "* 不可以有值重複的 node\n"
   ]
  },
  {
   "cell_type": "code",
   "execution_count": 308,
   "id": "6af90d6f-ca63-41eb-8de5-034904f12868",
   "metadata": {},
   "outputs": [],
   "source": [
    "# 建立二元樹\n",
    "class Node:\n",
    "    def __init__(self , value = None):\n",
    "        self.value = value\n",
    "        self.left_child = None\n",
    "        self.right_child = None\n",
    "        self.parent = None # pointer to parent node in tree\n"
   ]
  },
  {
   "cell_type": "code",
   "execution_count": 427,
   "id": "9d422353-1c64-4a44-90e3-18dedc07055d",
   "metadata": {},
   "outputs": [],
   "source": [
    "\n",
    "class Binary_search_tree:\n",
    "    def __init__(self):\n",
    "        self.root = None\n",
    "\n",
    "\n",
    "    def insert(self, value):\n",
    "        #判斷tree是否為空\n",
    "        if self.root == None:\n",
    "            self.root = Node(value)\n",
    "        else:\n",
    "            self._insert(value, self.root)\n",
    "\n",
    "\n",
    "    def _insert(self, value, cur_node):\n",
    "        if value < cur_node.value:\n",
    "            if cur_node.left_child == None:\n",
    "                cur_node.left_child = Node(value)\n",
    "                cur_node.left_child.parent = cur_node #set parent\n",
    "            else:\n",
    "                self._insert(value, cur_node.left_child)\n",
    "\n",
    "\n",
    "        elif value > cur_node.value:\n",
    "            if cur_node.right_child == None:\n",
    "                cur_node.right_child = Node(value)\n",
    "                cur_node.right_child.parent = cur_node #set parent\n",
    "            else:\n",
    "                self._insert(value, cur_node.right_child)\n",
    "\n",
    "\n",
    "        # value == cur_node.value\n",
    "        else:\n",
    "            print(\"This value has existed\")\n",
    "\n",
    "\n",
    "    def print_tree(self):\n",
    "        if self.root!=None:\n",
    "        \tself._print_tree(self.root)\n",
    "\n",
    "\n",
    "    def _print_tree(self,cur_node):\n",
    "    \tif cur_node!=None:\n",
    "        \tself._print_tree(cur_node.left_child)\n",
    "        \tprint(str(cur_node.value))\n",
    "        \tself._print_tree(cur_node.right_child)\n",
    "\n",
    "\n",
    "\n",
    "\n",
    "\n",
    "\n",
    "    def height(self):\n",
    "        if self.root != None:\n",
    "            return self._height(self.root,0)\n",
    "        else:\n",
    "            return\n",
    "\n",
    "\n",
    "    # 我們要在每一次遞迴呼叫時傳入cur_height，如果沒有像parameter\n",
    "    # 樣傳入或儲存成global variable會造成 無法儲存cur_height\n",
    "    def _height(self, cur_node, cur_height):\n",
    "        if cur_node == None:\n",
    "            return cur_height #0\n",
    "        # 找一個最高的子樹\n",
    "        left_height = self._height(cur_node.left_child,cur_height+1)\n",
    "        right_height = self._height(cur_node.right_child,cur_height+1)\n",
    "\n",
    "\n",
    "        return max(left_height, right_height)\n",
    "\n",
    "\n",
    "    # returns the node with specified input value\n",
    "        # 如果數值等於當前的數值，返回當前node\n",
    "        # 如果數值不對便繼續往下找\n",
    "\n",
    "    def find(self, value):\n",
    "        if self.root != None:\n",
    "            return self._find(value, self.root)\n",
    "        else:\n",
    "            return None\n",
    "\n",
    "\n",
    "    def _find(self, value, cur_node):\n",
    "        if value == cur_node.value:\n",
    "            return cur_node\n",
    "        elif value < cur_node.value and cur_node.left_child != None:\n",
    "            return self._find(value, cur_node.left_child)\n",
    "        elif value > cur_node.value and cur_node.right_child != None:\n",
    "            return self._find(value, cur_node.right_child)\n",
    "\n",
    "\n",
    "    def delete_value(self, value):\n",
    "        return self.delete_node(self.find(value))\n",
    "\n",
    "\n",
    "    def delete_node(self, node):\n",
    "                # 刪除bst有三種情境，1.為樹葉節點（下方無數值）2.下方有任一邊有樹葉節點 3.下方兩邊都有樹葉節點\n",
    "        # 首先要先做function 計算這些節點屬於哪一情境， 如果是第三情境，也要計算節點右半部分該葉子下最小的數值是啥，\n",
    "\n",
    "        def min_value_node(n):\n",
    "            current = n\n",
    "            # traverse down to the left of the tree until it finds the smallest element returning this value\n",
    "            while current.left_child != None:\n",
    "                current = current.left_child\n",
    "            return current\n",
    "\n",
    "            #returns the number of children for the specified node\n",
    "            # return the number of the children and attach the input node either 0,1 or two\n",
    "        def num_children(n):\n",
    "            num_children = 0\n",
    "            if n.left_child != None:\n",
    "                num_children +=1\n",
    "            if n.right_child != None:\n",
    "                num_children += 1\n",
    "            return num_children\n",
    "\n",
    "\n",
    "        #create variable to hold both the parent of the node to delete as well as\n",
    "        #the number of children get the parent of the node to be deleted\n",
    "        node_parent = node.parent\n",
    "\n",
    "\n",
    "        #get the number of children of the node to be deleted\n",
    "        node_children = num_children(node)\n",
    "\n",
    "\n",
    "        #break operation into different cases based on the\n",
    "        #structure of the tree & node to be delete\n",
    "\n",
    "\n",
    "        #CASE 1 (node has no children)\n",
    "        if node_children == 0:\n",
    "            #remove reference to the node from the node_parent\n",
    "            # try:\n",
    "            #     node_parent.left_child = None\n",
    "            # except:\n",
    "            #     node_parent.right_child = None\n",
    "            if node_parent.left_child == node:\n",
    "                node_parent.left_child = None\n",
    "            else:\n",
    "                node_parent.right_child = None\n",
    "            print('delete self')\n",
    "\n",
    "\n",
    "        #CASE 2 (node has a single child)\n",
    "        if node_children == 1:\n",
    "\n",
    "            # get the single child node\n",
    "            if node.left_child != None:\n",
    "                child = node.left_child\n",
    "            else:\n",
    "                child = node.right_child\n",
    "            print('child = {c}'.format(c = child.value ))\n",
    "\n",
    "            #replace the node to be deleted with its child\n",
    "            try:\n",
    "            #if node_parent.left_child == node:\n",
    "                node_parent.left_child = child\n",
    "            except:\n",
    "            #else:\n",
    "                node_parent.right_child = child\n",
    "\n",
    "            #print('node_parent = {np}'.format(np = node_parent.value ))\n",
    "            #correct the parent pointer in node\n",
    "            child.parent = node_parent\n",
    "\n",
    "\n",
    "        #CASE 3 (node has two children)\n",
    "        if node_children == 2:\n",
    "\n",
    "\n",
    "            # get the inorder successor of the deleted node\n",
    "            successor = min_value_node(node.right_child)\n",
    "\n",
    "\n",
    "            #copy the inorder successor's value to the node formerly\n",
    "            #holding the value we wished th delete\n",
    "            node.value = successor.value\n",
    "            print('successor.value = {c}'.format(c = successor.value ))\n",
    "\n",
    "            #delete the inorder successor now that it's value was\n",
    "            #copied into the other node\n",
    "            self.delete_node(successor)        \n",
    "            ###\n",
    "    def search(self, value):\n",
    "        if self.root != None:\n",
    "            return self._search(value, self.root)\n",
    "        else:\n",
    "            return False\n",
    "\n",
    "\n",
    "    def _search(self, value, cur_node):\n",
    "        if value == cur_node.value:\n",
    "            return True\n",
    "        elif value < cur_node.value and cur_node.left_child != None:\n",
    "            return self._search(value, cur_node.left_child)\n",
    "        elif value > cur_node.value and cur_node.right_child != None:\n",
    "            return self._search(value, cur_node.right_child)\n",
    "        else:\n",
    "            return False\n",
    "\n",
    "\n",
    "def fill_tree(tree, num_elems=10, max_int=50):\n",
    "    from random import randint\n",
    "    for _ in range(num_elems): #10個 value\n",
    "        cur_elem = randint(0, max_int) #隨機0~50(不含50)的值\n",
    "        tree.insert(cur_elem)\n",
    "    return tree\n",
    "\n",
    "\n",
    "# # def array_manip(array):\n",
    "# array = [ 2, 4, 18, 16, 7, 3, 9,8, 13, 10 ,14,15]\n",
    "# tree = Binary_search_tree()\n",
    "# for i in array:\n",
    "#     tree.insert( int(i) )"
   ]
  },
  {
   "cell_type": "code",
   "execution_count": 418,
   "id": "5aa64a82-1494-4e42-931e-3b8cb2b0684d",
   "metadata": {},
   "outputs": [
    {
     "ename": "AttributeError",
     "evalue": "'NoneType' object has no attribute 'value'",
     "output_type": "error",
     "traceback": [
      "\u001b[0;31m---------------------------------------------------------------------------\u001b[0m",
      "\u001b[0;31mAttributeError\u001b[0m                            Traceback (most recent call last)",
      "\u001b[0;32m/var/folders/gc/dmcxjgm51rj29_6hhf4csfbm0000gn/T/ipykernel_90938/409042966.py\u001b[0m in \u001b[0;36m<module>\u001b[0;34m\u001b[0m\n\u001b[0;32m----> 1\u001b[0;31m \u001b[0mtree\u001b[0m\u001b[0;34m.\u001b[0m\u001b[0mfind\u001b[0m\u001b[0;34m(\u001b[0m\u001b[0;36m14\u001b[0m\u001b[0;34m)\u001b[0m\u001b[0;34m.\u001b[0m\u001b[0mleft_child\u001b[0m\u001b[0;34m.\u001b[0m\u001b[0mvalue\u001b[0m\u001b[0;34m\u001b[0m\u001b[0;34m\u001b[0m\u001b[0m\n\u001b[0m",
      "\u001b[0;31mAttributeError\u001b[0m: 'NoneType' object has no attribute 'value'"
     ]
    }
   ],
   "source": [
    "tree.find(14).left_child.value"
   ]
  },
  {
   "cell_type": "code",
   "execution_count": 417,
   "id": "7a7ca668-5cf5-48bf-9a46-34c18c3238a2",
   "metadata": {},
   "outputs": [
    {
     "ename": "AttributeError",
     "evalue": "'NoneType' object has no attribute 'value'",
     "output_type": "error",
     "traceback": [
      "\u001b[0;31m---------------------------------------------------------------------------\u001b[0m",
      "\u001b[0;31mAttributeError\u001b[0m                            Traceback (most recent call last)",
      "\u001b[0;32m/var/folders/gc/dmcxjgm51rj29_6hhf4csfbm0000gn/T/ipykernel_90938/3738161083.py\u001b[0m in \u001b[0;36m<module>\u001b[0;34m\u001b[0m\n\u001b[0;32m----> 1\u001b[0;31m \u001b[0mtree\u001b[0m\u001b[0;34m.\u001b[0m\u001b[0mfind\u001b[0m\u001b[0;34m(\u001b[0m\u001b[0;36m14\u001b[0m\u001b[0;34m)\u001b[0m\u001b[0;34m.\u001b[0m\u001b[0mright_child\u001b[0m\u001b[0;34m.\u001b[0m\u001b[0mvalue\u001b[0m\u001b[0;34m\u001b[0m\u001b[0;34m\u001b[0m\u001b[0m\n\u001b[0m",
      "\u001b[0;31mAttributeError\u001b[0m: 'NoneType' object has no attribute 'value'"
     ]
    }
   ],
   "source": [
    "tree.find(14).right_child.value"
   ]
  },
  {
   "cell_type": "code",
   "execution_count": 398,
   "id": "bd21516b-dbb3-4f1d-aaae-b7d4419354c5",
   "metadata": {},
   "outputs": [
    {
     "name": "stdout",
     "output_type": "stream",
     "text": [
      "2\n",
      "3\n",
      "4\n",
      "7\n",
      "8\n",
      "9\n",
      "10\n",
      "13\n",
      "16\n",
      "18\n"
     ]
    }
   ],
   "source": [
    "tree.print_tree()"
   ]
  },
  {
   "cell_type": "code",
   "execution_count": 416,
   "id": "0915d4d3-2420-48fe-b3c6-3e613a6783bf",
   "metadata": {},
   "outputs": [],
   "source": [
    "tree.delete_value(15)"
   ]
  },
  {
   "cell_type": "code",
   "execution_count": 391,
   "id": "78288919-250a-4dd6-bb56-821795eef8d2",
   "metadata": {},
   "outputs": [
    {
     "name": "stdout",
     "output_type": "stream",
     "text": [
      "2\n",
      "3\n",
      "4\n",
      "7\n",
      "8\n",
      "10\n",
      "13\n",
      "16\n",
      "18\n"
     ]
    }
   ],
   "source": [
    "tree.print_tree()"
   ]
  },
  {
   "cell_type": "code",
   "execution_count": null,
   "id": "fc3062da-5e6d-46f9-8479-0df3cc66cfbe",
   "metadata": {},
   "outputs": [],
   "source": [
    "test.describe(\"Basic tests\")\n",
    "test.assert_equals(array_manip([8, 58, 71, 18, 31, 32, 63, 92, 43, 3, 91, 93, 25, 80, 28]), [18, 63, 80, 25, 32, 43, 80, 93, 80, 25, 93, -1, 28, -1, -1])\n",
    "test.assert_equals(array_manip([ 2, 4, 18, 16, 7, 3, 9, 13, 18, 10 ]), [3, 7, -1, 18, 9, 9, 10, 18, -1, -1])"
   ]
  },
  {
   "cell_type": "code",
   "execution_count": 463,
   "id": "1880f3b8-e655-4da2-92d6-60fb41b4c380",
   "metadata": {},
   "outputs": [
    {
     "name": "stdout",
     "output_type": "stream",
     "text": [
      "8 18\n",
      "58 63\n",
      "71 80\n",
      "18 25\n",
      "31 32\n",
      "32 43\n",
      "63 80\n",
      "92 93\n",
      "43 80\n",
      "3 25\n",
      "91 93\n",
      "93 -1\n",
      "25 28\n",
      "80 -1\n",
      "28 -1\n"
     ]
    }
   ],
   "source": [
    "for i , j in zip([8, 58, 71, 18, 31, 32, 63, 92, 43, 3, 91, 93, 25, 80, 28], [18, 63, 80, 25, 32, 43, 80, 93, 80, 25, 93, -1, 28, -1, -1]):\n",
    "    print(i , j )"
   ]
  },
  {
   "cell_type": "code",
   "execution_count": 450,
   "id": "e43a992e-c4f3-48bf-80b0-6681022e2037",
   "metadata": {},
   "outputs": [],
   "source": [
    "ar = [8, 58, 71, 18, 31, 32, 63, 92, 43, 3, 91, 93, 25, 80, 28]"
   ]
  },
  {
   "cell_type": "code",
   "execution_count": 451,
   "id": "06b87d62-b907-4ff1-a3e2-a94d0def8c34",
   "metadata": {},
   "outputs": [],
   "source": [
    "tree = Binary_search_tree()\n",
    "for i in ar:\n",
    "    tree.insert( int(i) )   "
   ]
  },
  {
   "cell_type": "code",
   "execution_count": 447,
   "id": "54dc4af1-1c23-47e5-9074-402fcd92b1c4",
   "metadata": {},
   "outputs": [
    {
     "data": {
      "text/plain": [
       "91"
      ]
     },
     "execution_count": 447,
     "metadata": {},
     "output_type": "execute_result"
    }
   ],
   "source": [
    "tree.find(80).parent.value"
   ]
  },
  {
   "cell_type": "code",
   "execution_count": 448,
   "id": "2ad65137-4908-49b1-9e19-cab23aeea098",
   "metadata": {
    "collapsed": true,
    "jupyter": {
     "outputs_hidden": true
    },
    "tags": []
   },
   "outputs": [
    {
     "ename": "AttributeError",
     "evalue": "'NoneType' object has no attribute 'value'",
     "output_type": "error",
     "traceback": [
      "\u001b[0;31m---------------------------------------------------------------------------\u001b[0m",
      "\u001b[0;31mAttributeError\u001b[0m                            Traceback (most recent call last)",
      "\u001b[0;32m/var/folders/gc/dmcxjgm51rj29_6hhf4csfbm0000gn/T/ipykernel_90938/4092484087.py\u001b[0m in \u001b[0;36m<module>\u001b[0;34m\u001b[0m\n\u001b[0;32m----> 1\u001b[0;31m \u001b[0mtree\u001b[0m\u001b[0;34m.\u001b[0m\u001b[0mfind\u001b[0m\u001b[0;34m(\u001b[0m\u001b[0;36m63\u001b[0m\u001b[0;34m)\u001b[0m\u001b[0;34m.\u001b[0m\u001b[0mleft_child\u001b[0m\u001b[0;34m.\u001b[0m\u001b[0mvalue\u001b[0m\u001b[0;34m\u001b[0m\u001b[0;34m\u001b[0m\u001b[0m\n\u001b[0m",
      "\u001b[0;31mAttributeError\u001b[0m: 'NoneType' object has no attribute 'value'"
     ]
    }
   ],
   "source": [
    "tree.find(63).left_child.value"
   ]
  },
  {
   "cell_type": "code",
   "execution_count": 449,
   "id": "c9d52469-e1b4-4b26-b301-96b8433cf41e",
   "metadata": {
    "collapsed": true,
    "jupyter": {
     "outputs_hidden": true
    },
    "tags": []
   },
   "outputs": [
    {
     "ename": "AttributeError",
     "evalue": "'NoneType' object has no attribute 'value'",
     "output_type": "error",
     "traceback": [
      "\u001b[0;31m---------------------------------------------------------------------------\u001b[0m",
      "\u001b[0;31mAttributeError\u001b[0m                            Traceback (most recent call last)",
      "\u001b[0;32m/var/folders/gc/dmcxjgm51rj29_6hhf4csfbm0000gn/T/ipykernel_90938/3191770650.py\u001b[0m in \u001b[0;36m<module>\u001b[0;34m\u001b[0m\n\u001b[0;32m----> 1\u001b[0;31m \u001b[0mtree\u001b[0m\u001b[0;34m.\u001b[0m\u001b[0mfind\u001b[0m\u001b[0;34m(\u001b[0m\u001b[0;36m63\u001b[0m\u001b[0;34m)\u001b[0m\u001b[0;34m.\u001b[0m\u001b[0mright_child\u001b[0m\u001b[0;34m.\u001b[0m\u001b[0mvalue\u001b[0m\u001b[0;34m\u001b[0m\u001b[0;34m\u001b[0m\u001b[0m\n\u001b[0m",
      "\u001b[0;31mAttributeError\u001b[0m: 'NoneType' object has no attribute 'value'"
     ]
    }
   ],
   "source": [
    "tree.find(63).right_child.value"
   ]
  },
  {
   "cell_type": "code",
   "execution_count": 432,
   "id": "c37be1b8-eefc-41d4-aac0-0afa2e272673",
   "metadata": {
    "collapsed": true,
    "jupyter": {
     "outputs_hidden": true
    },
    "tags": []
   },
   "outputs": [
    {
     "name": "stdout",
     "output_type": "stream",
     "text": [
      "8\n",
      "successor.value = 18\n",
      "child = 31\n",
      "********************\n",
      "58\n",
      "successor.value = 63\n",
      "delete self\n",
      "********************\n",
      "71\n",
      "child = 92\n",
      "********************\n",
      "18\n",
      "successor.value = 80\n",
      "delete self\n",
      "********************\n",
      "31\n"
     ]
    },
    {
     "ename": "AttributeError",
     "evalue": "'NoneType' object has no attribute 'parent'",
     "output_type": "error",
     "traceback": [
      "\u001b[0;31m---------------------------------------------------------------------------\u001b[0m",
      "\u001b[0;31mAttributeError\u001b[0m                            Traceback (most recent call last)",
      "\u001b[0;32m/var/folders/gc/dmcxjgm51rj29_6hhf4csfbm0000gn/T/ipykernel_90938/1154541106.py\u001b[0m in \u001b[0;36m<module>\u001b[0;34m\u001b[0m\n\u001b[1;32m      1\u001b[0m \u001b[0;32mfor\u001b[0m \u001b[0mi\u001b[0m \u001b[0;32min\u001b[0m \u001b[0mar\u001b[0m\u001b[0;34m:\u001b[0m\u001b[0;34m\u001b[0m\u001b[0;34m\u001b[0m\u001b[0m\n\u001b[1;32m      2\u001b[0m     \u001b[0mprint\u001b[0m\u001b[0;34m(\u001b[0m\u001b[0mi\u001b[0m\u001b[0;34m)\u001b[0m\u001b[0;34m\u001b[0m\u001b[0;34m\u001b[0m\u001b[0m\n\u001b[0;32m----> 3\u001b[0;31m     \u001b[0mtree\u001b[0m\u001b[0;34m.\u001b[0m\u001b[0mdelete_value\u001b[0m\u001b[0;34m(\u001b[0m\u001b[0mi\u001b[0m\u001b[0;34m)\u001b[0m\u001b[0;34m\u001b[0m\u001b[0;34m\u001b[0m\u001b[0m\n\u001b[0m\u001b[1;32m      4\u001b[0m     \u001b[0mprint\u001b[0m\u001b[0;34m(\u001b[0m\u001b[0;34m'*'\u001b[0m\u001b[0;34m*\u001b[0m\u001b[0;36m20\u001b[0m\u001b[0;34m)\u001b[0m\u001b[0;34m\u001b[0m\u001b[0;34m\u001b[0m\u001b[0m\n",
      "\u001b[0;32m/var/folders/gc/dmcxjgm51rj29_6hhf4csfbm0000gn/T/ipykernel_90938/1043602177.py\u001b[0m in \u001b[0;36mdelete_value\u001b[0;34m(self, value)\u001b[0m\n\u001b[1;32m     91\u001b[0m \u001b[0;34m\u001b[0m\u001b[0m\n\u001b[1;32m     92\u001b[0m     \u001b[0;32mdef\u001b[0m \u001b[0mdelete_value\u001b[0m\u001b[0;34m(\u001b[0m\u001b[0mself\u001b[0m\u001b[0;34m,\u001b[0m \u001b[0mvalue\u001b[0m\u001b[0;34m)\u001b[0m\u001b[0;34m:\u001b[0m\u001b[0;34m\u001b[0m\u001b[0;34m\u001b[0m\u001b[0m\n\u001b[0;32m---> 93\u001b[0;31m         \u001b[0;32mreturn\u001b[0m \u001b[0mself\u001b[0m\u001b[0;34m.\u001b[0m\u001b[0mdelete_node\u001b[0m\u001b[0;34m(\u001b[0m\u001b[0mself\u001b[0m\u001b[0;34m.\u001b[0m\u001b[0mfind\u001b[0m\u001b[0;34m(\u001b[0m\u001b[0mvalue\u001b[0m\u001b[0;34m)\u001b[0m\u001b[0;34m)\u001b[0m\u001b[0;34m\u001b[0m\u001b[0;34m\u001b[0m\u001b[0m\n\u001b[0m\u001b[1;32m     94\u001b[0m \u001b[0;34m\u001b[0m\u001b[0m\n\u001b[1;32m     95\u001b[0m \u001b[0;34m\u001b[0m\u001b[0m\n",
      "\u001b[0;32m/var/folders/gc/dmcxjgm51rj29_6hhf4csfbm0000gn/T/ipykernel_90938/1043602177.py\u001b[0m in \u001b[0;36mdelete_node\u001b[0;34m(self, node)\u001b[0m\n\u001b[1;32m    118\u001b[0m         \u001b[0;31m#create variable to hold both the parent of the node to delete as well as\u001b[0m\u001b[0;34m\u001b[0m\u001b[0;34m\u001b[0m\u001b[0m\n\u001b[1;32m    119\u001b[0m         \u001b[0;31m#the number of children get the parent of the node to be deleted\u001b[0m\u001b[0;34m\u001b[0m\u001b[0;34m\u001b[0m\u001b[0m\n\u001b[0;32m--> 120\u001b[0;31m         \u001b[0mnode_parent\u001b[0m \u001b[0;34m=\u001b[0m \u001b[0mnode\u001b[0m\u001b[0;34m.\u001b[0m\u001b[0mparent\u001b[0m\u001b[0;34m\u001b[0m\u001b[0;34m\u001b[0m\u001b[0m\n\u001b[0m\u001b[1;32m    121\u001b[0m \u001b[0;34m\u001b[0m\u001b[0m\n\u001b[1;32m    122\u001b[0m \u001b[0;34m\u001b[0m\u001b[0m\n",
      "\u001b[0;31mAttributeError\u001b[0m: 'NoneType' object has no attribute 'parent'"
     ]
    }
   ],
   "source": [
    "for i in ar:\n",
    "    print(i)\n",
    "    tree.delete_value(i)\n",
    "    print('*'*20)"
   ]
  },
  {
   "cell_type": "code",
   "execution_count": 460,
   "id": "e878dacb-f4fb-401f-aaea-adac4861dc76",
   "metadata": {},
   "outputs": [],
   "source": [
    "def min_value_node(n):\n",
    "    current = n\n",
    "    # traverse down to the left of the tree until it finds the smallest element returning this value\n",
    "    while current.left_child != None:\n",
    "        current = current.left_child\n",
    "    return current"
   ]
  },
  {
   "cell_type": "code",
   "execution_count": 455,
   "id": "cfddf86c-149b-4380-ba42-e2b3c4516ebd",
   "metadata": {},
   "outputs": [
    {
     "data": {
      "text/plain": [
       "8"
      ]
     },
     "execution_count": 455,
     "metadata": {},
     "output_type": "execute_result"
    }
   ],
   "source": [
    "tree.root.value"
   ]
  },
  {
   "cell_type": "code",
   "execution_count": 484,
   "id": "b69aaab9-62ef-473a-b758-18385e252325",
   "metadata": {},
   "outputs": [],
   "source": [
    "def array_manip(array):\n",
    "    tree = Binary_search_tree()\n",
    "    for i in array:\n",
    "        tree.insert( int(i) )  \n",
    "    output = []\n",
    "    for i in array:\n",
    "        find_node = tree.find(i)\n",
    "        if find_node.right_child!=None:\n",
    "            result = min_value_node( find_node.right_child ).value\n",
    "            output.append(result)\n",
    "        elif (find_node.parent.right_child !=None) & (find_node.parent.right_child != find_node):\n",
    "            result = min_value_node( find_node.parent.right_child ).value\n",
    "            output.append(result)\n",
    "        else:\n",
    "            output.append(-1)   \n",
    "    return output"
   ]
  },
  {
   "cell_type": "code",
   "execution_count": 485,
   "id": "bf31efb6-e60c-48f5-a3b1-00cf2e4db2a4",
   "metadata": {},
   "outputs": [
    {
     "data": {
      "text/plain": [
       "[18, 63, 80, 25, 32, 43, 80, 93, -1, 18, 93, -1, 28, -1, -1]"
      ]
     },
     "execution_count": 485,
     "metadata": {},
     "output_type": "execute_result"
    }
   ],
   "source": [
    "array_manip([8, 58, 71, 18, 31, 32, 63, 92, 43, 3, 91, 93, 25, 80, 28])"
   ]
  },
  {
   "cell_type": "code",
   "execution_count": 480,
   "id": "50ea068f-966e-4802-a279-65b086e8f427",
   "metadata": {},
   "outputs": [],
   "source": [
    "find_node = tree.find(80)"
   ]
  },
  {
   "cell_type": "code",
   "execution_count": 481,
   "id": "b3d19cbf-b2e4-45ca-a1fa-abcdff5a34a1",
   "metadata": {},
   "outputs": [
    {
     "name": "stdout",
     "output_type": "stream",
     "text": [
      "-1\n"
     ]
    }
   ],
   "source": [
    "if find_node.right_child!=None:\n",
    "    result = min_value_node( find_node.right_child ).value\n",
    "    print(result)\n",
    "elif find_node.parent.right_child!=None:\n",
    "    result = min_value_node( find_node.parent.right_child ).value\n",
    "    print(result)\n",
    "else:\n",
    "    print(-1)"
   ]
  },
  {
   "cell_type": "code",
   "execution_count": 476,
   "id": "8af12a4f-d8bf-4088-88e5-437165affba2",
   "metadata": {},
   "outputs": [
    {
     "data": {
      "text/plain": [
       "63"
      ]
     },
     "execution_count": 476,
     "metadata": {},
     "output_type": "execute_result"
    }
   ],
   "source": [
    "find_node.value"
   ]
  },
  {
   "cell_type": "code",
   "execution_count": 483,
   "id": "e1f95232-4ca2-4bfc-859a-be7849d8998f",
   "metadata": {},
   "outputs": [
    {
     "name": "stdout",
     "output_type": "stream",
     "text": [
      "18\n",
      "***\n",
      "63\n",
      "***\n",
      "80\n",
      "***\n",
      "25\n",
      "***\n",
      "32\n",
      "***\n",
      "43\n",
      "***\n",
      "80\n",
      "***\n",
      "93\n",
      "***\n",
      "-1\n",
      "***\n",
      "18\n",
      "***\n",
      "93\n",
      "***\n",
      "-1\n",
      "***\n",
      "28\n",
      "***\n",
      "-1\n",
      "***\n",
      "-1\n",
      "***\n"
     ]
    }
   ],
   "source": [
    "for i in ar:\n",
    "    #print(i)\n",
    "    find_node = tree.find(i)\n",
    "    if find_node.right_child!=None:\n",
    "        result = min_value_node( find_node.right_child ).value\n",
    "        print(result)\n",
    "    elif (find_node.parent.right_child !=None) & (find_node.parent.right_child != find_node):\n",
    "        result = min_value_node( find_node.parent.right_child ).value\n",
    "        print(result)\n",
    "    else:\n",
    "        print(-1)   \n",
    "    print('***')"
   ]
  },
  {
   "cell_type": "code",
   "execution_count": null,
   "id": "09455282-86a3-4b4d-bf49-8315b8b50f41",
   "metadata": {},
   "outputs": [],
   "source": [
    "# leetcode題目"
   ]
  },
  {
   "cell_type": "code",
   "execution_count": 506,
   "id": "cfdd0db7-b273-4bd0-a7f3-352307cbf0da",
   "metadata": {},
   "outputs": [
    {
     "ename": "IndentationError",
     "evalue": "unindent does not match any outer indentation level (<tokenize>, line 68)",
     "output_type": "error",
     "traceback": [
      "\u001b[0;36m  File \u001b[0;32m\"<tokenize>\"\u001b[0;36m, line \u001b[0;32m68\u001b[0m\n\u001b[0;31m    if cur_node.val:\u001b[0m\n\u001b[0m    ^\u001b[0m\n\u001b[0;31mIndentationError\u001b[0m\u001b[0;31m:\u001b[0m unindent does not match any outer indentation level\n"
     ]
    }
   ],
   "source": [
    "class TreeNode(object):\n",
    "    def __init__(self, val=0, left=None, right=None):\n",
    "        self.val = val\n",
    "        self.left = left\n",
    "        self.right = right\n",
    "    def insertLeft(self,node):\n",
    "        if self.left==None:\n",
    "            self.left=TreeNode(node)\n",
    "        else:\n",
    "            self.left.insertLeft(node)\n",
    "    def insertRight(self,node):\n",
    "        if self.right==None:\n",
    "            self.right=TreeNode(node)\n",
    "        else:\n",
    "            self.right.insertRight(node)\n",
    "    def printTree(self):\n",
    "        root = self\n",
    "        stack=[root]\n",
    "        flag = 1\n",
    "        while stack:\n",
    "            root=stack.pop(0)\n",
    "            if flag==1:\n",
    "                print(root.val,end='')\n",
    "                flag=0\n",
    "            if root.left:\n",
    "                print('->',root.left.val,end='')\n",
    "                stack.append(root.left)\n",
    "            if root.right:\n",
    "                print('->',root.right.val,end='')\n",
    "                stack.append(root.right)\n",
    "        print('\\n')\n",
    "\n",
    "\n",
    "class Solution(object):\n",
    "    def recoverTree(self,root):\n",
    "        #想法: bst在inorder時順序是由小到大 因此找到不符合的兩點交換即可\n",
    "        self.pre = None\n",
    "        self.first=None\n",
    "        self.second=None\n",
    "        self.inorder(root)\n",
    "        self.first.val,self.second.val = self.second.val,self.first.val\n",
    "        \n",
    "    def inorder(self,root):\n",
    "        if not root:\n",
    "            return\n",
    "        self.inorder(root.left)\n",
    "\n",
    "        #按理說pre.val應該要比現在的root.val小\n",
    "        if self.pre and self.pre.val>root.val:\n",
    "            #第一次找到錯pre>root的，值要選pre為first\n",
    "            if not self.first:\n",
    "                self.first=self.pre\n",
    "            #第二次找到錯的pre>root，值要選root為second\n",
    "            self.second=root\n",
    "        self.pre = root\n",
    "        self.inorder(root.right)\n",
    "        \n",
    "    def print_tree(self):\n",
    "        a = []\n",
    "        if root!=None:\n",
    "        \ta.append( self._print_tree(root) ) \n",
    "\n",
    "\n",
    "    def _print_tree(self,cur_node):\n",
    "    \tif cur_node!=None:\n",
    "        \tself._print_tree(cur_node.left)\n",
    "        \tprint(str(cur_node.val))\n",
    "        \tself._print_tree(cur_node.right)\n",
    "        \n",
    "\n",
    "root = TreeNode(3)\n",
    "root.insertLeft(1)\n",
    "root.insertRight(4)\n",
    "root.right.insertLeft(2)\n",
    "root.printTree()\n",
    "\n",
    "# result = Solution()\n",
    "# result.recoverTree(root)\n",
    "# root.printTree()"
   ]
  },
  {
   "cell_type": "code",
   "execution_count": 499,
   "id": "0e8d19d9-e9fb-4062-a55d-ddffd0452fec",
   "metadata": {},
   "outputs": [],
   "source": [
    "result = Solution()"
   ]
  },
  {
   "cell_type": "code",
   "execution_count": 500,
   "id": "c4e415a4-a0f9-467d-ba75-c94297d3ed0f",
   "metadata": {},
   "outputs": [
    {
     "name": "stdout",
     "output_type": "stream",
     "text": [
      "1\n",
      "3\n",
      "2\n",
      "4\n"
     ]
    }
   ],
   "source": [
    "result.print_tree()"
   ]
  },
  {
   "cell_type": "code",
   "execution_count": null,
   "id": "7a5ddef6-ad89-4598-bb3e-ce66caca8f15",
   "metadata": {},
   "outputs": [],
   "source": []
  }
 ],
 "metadata": {
  "kernelspec": {
   "display_name": "Python 3 (ipykernel)",
   "language": "python",
   "name": "python3"
  },
  "language_info": {
   "codemirror_mode": {
    "name": "ipython",
    "version": 3
   },
   "file_extension": ".py",
   "mimetype": "text/x-python",
   "name": "python",
   "nbconvert_exporter": "python",
   "pygments_lexer": "ipython3",
   "version": "3.9.13"
  }
 },
 "nbformat": 4,
 "nbformat_minor": 5
}
