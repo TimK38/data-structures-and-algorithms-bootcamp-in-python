{
 "cells": [
  {
   "cell_type": "code",
   "execution_count": 13,
   "id": "e099682a-cf6d-4f9f-b699-ebffd8a5b23d",
   "metadata": {},
   "outputs": [
    {
     "name": "stdout",
     "output_type": "stream",
     "text": [
      "2\n",
      "3\n",
      "2\n",
      "1\n"
     ]
    }
   ],
   "source": [
    "# without size limited\n",
    "class Stack:\n",
    "    def __init__(self):\n",
    "        self.list = []\n",
    "    \n",
    "    def __str__(self):\n",
    "        values = self.list.reverse() # [1,2,3]->[3,2,1] ， reverse執行後會直接改變self.list現有順序\n",
    "        values = [str(x) for x in self.list]\n",
    "        return '\\n'.join(values)\n",
    "    \n",
    "    # isEmpty\n",
    "    def isEmpty(self):\n",
    "        if self.list == []:\n",
    "            return True\n",
    "        else:\n",
    "            return False\n",
    "    # push\n",
    "    def push(self, value):\n",
    "        self.list.append(value)\n",
    "        return \"The element has been successfully inserted\"\n",
    "\n",
    "    # pop\n",
    "    def pop(self):\n",
    "        if self.isEmpty():\n",
    "            return \"There is not any element in the stack\"\n",
    "        else:\n",
    "            return self.list.pop()\n",
    "    \n",
    "    # peek\n",
    "    def peek(self):\n",
    "        if self.isEmpty():\n",
    "            return \"There is not any element in the stack\"\n",
    "        else:\n",
    "            return self.list[-1]#len(self.list)-1] #可以簡化\n",
    "    \n",
    "    # delete\n",
    "    def delete(self):\n",
    "        self.list = None\n",
    "\n",
    "\n",
    "\n",
    "\n",
    "customStack = Stack()\n",
    "customStack.push(1)\n",
    "customStack.push(2)\n",
    "customStack.push(3)\n",
    "print(customStack.peek())\n",
    "print(customStack)\n"
   ]
  },
  {
   "cell_type": "code",
   "execution_count": 8,
   "id": "f6a6ed15-264f-44cb-9e12-c9b8aeb4075c",
   "metadata": {},
   "outputs": [
    {
     "name": "stdout",
     "output_type": "stream",
     "text": [
      "3\n",
      "2\n",
      "1\n"
     ]
    }
   ],
   "source": [
    "print(customStack)"
   ]
  },
  {
   "cell_type": "code",
   "execution_count": 9,
   "id": "def3ff58-fd12-41a9-9c28-c806c8777b57",
   "metadata": {},
   "outputs": [
    {
     "data": {
      "text/plain": [
       "[3, 2, 1]"
      ]
     },
     "execution_count": 9,
     "metadata": {},
     "output_type": "execute_result"
    }
   ],
   "source": [
    "customStack.list"
   ]
  },
  {
   "cell_type": "code",
   "execution_count": 19,
   "id": "cc067373-5e95-4249-bc02-b5ecd883c119",
   "metadata": {},
   "outputs": [
    {
     "name": "stdout",
     "output_type": "stream",
     "text": [
      "The element has been successfully inserted\n",
      "The element has been successfully inserted\n",
      "The element has been successfully inserted\n",
      "The element has been successfully inserted\n",
      "The stack is full\n",
      "The stack is full\n",
      "4\n",
      "3\n",
      "2\n",
      "1\n"
     ]
    }
   ],
   "source": [
    "# withsize limited\n",
    "class Stack:\n",
    "    def __init__(self, maxSize):\n",
    "        self.maxSize = maxSize\n",
    "        self.list = []\n",
    "    \n",
    "    def __str__(self):\n",
    "        values = self.list.reverse()\n",
    "        values = [str(x) for x in self.list]\n",
    "        return '\\n'.join(values)\n",
    "    \n",
    "    # isEmpty\n",
    "    def isEmpty(self):\n",
    "        if self.list == []:\n",
    "            return True\n",
    "        else:\n",
    "            return False\n",
    "    \n",
    "    # isFull\n",
    "    def isFull(self):\n",
    "        if len(self.list) == self.maxSize:\n",
    "            return True\n",
    "        else:\n",
    "            return False\n",
    "    \n",
    "    #  Push\n",
    "    def push(self, value):\n",
    "        if self.isFull():\n",
    "            return \"The stack is full\"\n",
    "        else:\n",
    "            self.list.append(value)\n",
    "            return \"The element has been successfully inserted\"\n",
    "    # Pop\n",
    "    def pop(self):\n",
    "        if self.isEmpty():\n",
    "            return \"There is not any element in the stack\"\n",
    "        else:\n",
    "            return self.list.pop()\n",
    "    \n",
    "    # peek\n",
    "    def peek(self):\n",
    "        if self.isEmpty():\n",
    "            return \"There is not any element in the stack\"\n",
    "        else:\n",
    "            return self.list[len(self.list)-1]\n",
    "\n",
    "    #  delete\n",
    "    def delete(self):\n",
    "        self.list = None\n",
    "    \n",
    "\n",
    "customStack = Stack(4)\n",
    "# print(customStack.isEmpty())\n",
    "# print(customStack.isFull())\n",
    "print(customStack.push(1))\n",
    "print(customStack.push(2))\n",
    "print(customStack.push(3))\n",
    "print(customStack.push(4))\n",
    "print(customStack.push(5))\n",
    "print( customStack.push(5) )\n",
    "print(customStack)"
   ]
  },
  {
   "cell_type": "code",
   "execution_count": null,
   "id": "5be718dd-95c5-4ecf-a925-17f3291dc949",
   "metadata": {},
   "outputs": [],
   "source": []
  }
 ],
 "metadata": {
  "kernelspec": {
   "display_name": "Python 3 (ipykernel)",
   "language": "python",
   "name": "python3"
  },
  "language_info": {
   "codemirror_mode": {
    "name": "ipython",
    "version": 3
   },
   "file_extension": ".py",
   "mimetype": "text/x-python",
   "name": "python",
   "nbconvert_exporter": "python",
   "pygments_lexer": "ipython3",
   "version": "3.7.3"
  }
 },
 "nbformat": 4,
 "nbformat_minor": 5
}
