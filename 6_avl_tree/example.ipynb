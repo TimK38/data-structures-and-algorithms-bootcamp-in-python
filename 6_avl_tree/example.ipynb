{
 "cells": [
  {
   "cell_type": "code",
   "execution_count": 1,
   "id": "62e32b3b-2787-454a-a0b7-9caafd9d4dbe",
   "metadata": {},
   "outputs": [],
   "source": [
    "import QueueLinkedList as queue\n",
    "\n",
    "class AVLNode:\n",
    "    def __init__(self, data):\n",
    "        self.data = data\n",
    "        self.leftChild = None\n",
    "        self.rightChild = None\n",
    "        self.height = 1\n",
    "\n",
    "def preOrderTraversal(rootNode):\n",
    "    if not rootNode:\n",
    "        return\n",
    "    print(rootNode.data)\n",
    "    preOrderTraversal(rootNode.leftChild)\n",
    "    preOrderTraversal(rootNode.rightChild)\n",
    "\n",
    "def inOrderTraversal(rootNode):\n",
    "    if not rootNode:\n",
    "        return\n",
    "    inOrderTraversal(rootNode.leftChild)\n",
    "    print(rootNode.data)\n",
    "    inOrderTraversal(rootNode.rightChild)\n",
    "\n",
    "def postOrderTraversal(rootNode):\n",
    "    if not rootNode:\n",
    "        return\n",
    "    postOrderTraversal(rootNode.leftChild)\n",
    "    postOrderTraversal(rootNode.rightChild)\n",
    "    print(rootNode.data)\n",
    "\n",
    "def levelOrderTraversal(rootNode):\n",
    "    if not rootNode:\n",
    "        return\n",
    "    else:\n",
    "        customQueue = queue.Queue()\n",
    "        customQueue.enqueue(rootNode)\n",
    "        while not(customQueue.isEmpty()):\n",
    "            root = customQueue.dequeue()\n",
    "            print(root.value.data)\n",
    "            if root.value.leftChild is not None:\n",
    "                customQueue.enqueue(root.value.leftChild)\n",
    "            if root.value.rightChild is not None:\n",
    "                customQueue.enqueue(root.value.rightChild)"
   ]
  },
  {
   "cell_type": "code",
   "execution_count": 3,
   "id": "69d802dc-bab1-45a8-9788-21787338801c",
   "metadata": {},
   "outputs": [],
   "source": [
    "avl_node = AVLNode(10)"
   ]
  },
  {
   "cell_type": "code",
   "execution_count": 4,
   "id": "f79f351d-4376-4894-b0d0-2abd4bac05fc",
   "metadata": {},
   "outputs": [],
   "source": [
    "def getHeight(rootNode):\n",
    "    if not rootNode:\n",
    "        return 0\n",
    "    return rootNode.height"
   ]
  },
  {
   "cell_type": "code",
   "execution_count": 5,
   "id": "093b7577-12a5-4d2e-82e1-fd371a5a1902",
   "metadata": {},
   "outputs": [
    {
     "data": {
      "text/plain": [
       "1"
      ]
     },
     "execution_count": 5,
     "metadata": {},
     "output_type": "execute_result"
    }
   ],
   "source": [
    "avl_node.height"
   ]
  },
  {
   "cell_type": "code",
   "execution_count": 6,
   "id": "73064c78-726f-4d43-8b41-33a9436cc052",
   "metadata": {},
   "outputs": [],
   "source": [
    "def getBalance(rootNode):\n",
    "    if not rootNode:\n",
    "        return 0\n",
    "    return getHeight(rootNode.leftChild) - getHeight(rootNode.rightChild)"
   ]
  },
  {
   "cell_type": "code",
   "execution_count": 21,
   "id": "9e3d7836-8cf8-41af-9213-fc0c8a5f9227",
   "metadata": {},
   "outputs": [],
   "source": [
    "# insert方式共有四種場景，依序檢視\n",
    "\n",
    "def insertNode(rootNode, nodeValue):\n",
    "    # if node是空直，直接創建一個新的\n",
    "    if not rootNode:\n",
    "        return AVLNode(nodeValue)\n",
    "    # node value ＋在左邊，\n",
    "    elif nodeValue < rootNode.data:\n",
    "        rootNode.leftChild = insertNode(rootNode.leftChild, nodeValue)\n",
    "    # nodevalue＋在右邊\n",
    "    else:\n",
    "        rootNode.rightChild = insertNode(rootNode.rightChild, nodeValue)\n",
    "    # 每一層計算他的node是否balanced\n",
    "    rootNode.height = 1 + max(getHeight(rootNode.leftChild), getHeight(rootNode.rightChild))\n",
    "    balance = getBalance(rootNode)\n",
    "    if balance > 1 and nodeValue < rootNode.leftChild.data:\n",
    "        print('left left')\n",
    "        return rightRotate(rootNode)\n",
    "    if balance > 1 and nodeValue > rootNode.leftChild.data:\n",
    "        rootNode.leftChild = leftRotate(rootNode.leftChild)\n",
    "        print('left right')\n",
    "        return rightRotate(rootNode)\n",
    "    if balance < -1 and nodeValue > rootNode.rightChild.data:\n",
    "        print('right right')\n",
    "        return leftRotate(rootNode)\n",
    "    if balance < -1 and nodeValue < rootNode.rightChild.data:\n",
    "        rootNode.rightChild = rightRotate(rootNode.rightChild)\n",
    "        print('right left')\n",
    "        return leftRotate(rootNode)\n",
    "    else:\n",
    "        print('None')\n",
    "    print(rootNode.data)\n",
    "    return rootNode"
   ]
  },
  {
   "cell_type": "code",
   "execution_count": 10,
   "id": "da782b64-bd81-459e-97b2-367241d86ed6",
   "metadata": {},
   "outputs": [],
   "source": [
    "def rightRotate(disbalanceNode):\n",
    "    newRoot = disbalanceNode.leftChild\n",
    "    disbalanceNode.leftChild = disbalanceNode.leftChild.rightChild\n",
    "    newRoot.rightChild = disbalanceNode\n",
    "    disbalanceNode.height = 1 + max(getHeight(disbalanceNode.leftChild), getHeight(disbalanceNode.rightChild))\n",
    "    newRoot.height = 1 + max(getHeight(newRoot.leftChild), getHeight(newRoot.rightChild))\n",
    "    return newRoot\n",
    "\n",
    "def leftRotate(disbalanceNode):\n",
    "    newRoot = disbalanceNode.rightChild\n",
    "    disbalanceNode.rightChild = disbalanceNode.rightChild.leftChild\n",
    "    newRoot.leftChild = disbalanceNode\n",
    "    disbalanceNode.height = 1 + max(getHeight(disbalanceNode.leftChild), getHeight(disbalanceNode.rightChild))\n",
    "    newRoot.height = 1 + max(getHeight(newRoot.leftChild), getHeight(newRoot.rightChild))\n",
    "    return newRoot"
   ]
  },
  {
   "cell_type": "code",
   "execution_count": 20,
   "id": "5465995e-ff33-41cb-b7bb-6f86065e1231",
   "metadata": {
    "collapsed": true,
    "jupyter": {
     "outputs_hidden": true
    },
    "tags": []
   },
   "outputs": [
    {
     "name": "stdout",
     "output_type": "stream",
     "text": [
      "---\n",
      "None\n",
      "30\n",
      "---\n",
      "None\n",
      "30\n",
      "---\n",
      "None\n",
      "25\n",
      "None\n",
      "30\n",
      "---\n",
      "None\n",
      "20\n",
      "left left\n",
      "None\n",
      "30\n",
      "---\n",
      "None\n",
      "15\n",
      "None\n",
      "20\n",
      "left left\n",
      "---\n",
      "None\n",
      "5\n",
      "left right\n",
      "None\n",
      "20\n",
      "---\n",
      "None\n",
      "35\n",
      "None\n",
      "30\n",
      "None\n",
      "20\n",
      "---\n",
      "None\n",
      "50\n",
      "right left\n",
      "None\n",
      "30\n",
      "None\n",
      "20\n",
      "---\n",
      "None\n",
      "60\n",
      "None\n",
      "50\n",
      "right left\n",
      "None\n",
      "20\n",
      "---\n",
      "None\n",
      "70\n",
      "right right\n",
      "None\n",
      "50\n",
      "None\n",
      "20\n"
     ]
    }
   ],
   "source": [
    "# newAVL = AVLNode(20)\n",
    "# print('---')\n",
    "newAVL = insertNode(None, 30)\n",
    "print('---')\n",
    "\n",
    "newAVL = insertNode(newAVL, 25)\n",
    "print('---')\n",
    "newAVL = insertNode(newAVL, 35)\n",
    "print('---')\n",
    "newAVL = insertNode(newAVL, 20)\n",
    "print('---')\n",
    "newAVL = insertNode(newAVL, 15)\n",
    "print('---')\n",
    "newAVL = insertNode(newAVL, 5)\n",
    "print('---')\n",
    "newAVL = insertNode(newAVL, 10)\n",
    "print('---')\n",
    "newAVL = insertNode(newAVL, 50)\n",
    "print('---')\n",
    "newAVL = insertNode(newAVL, 60)\n",
    "print('---')\n",
    "newAVL = insertNode(newAVL, 70)\n",
    "print('---')\n",
    "newAVL = insertNode(newAVL, 65)"
   ]
  },
  {
   "cell_type": "code",
   "execution_count": null,
   "id": "9c05fefd-84f1-4802-95de-614f23523bd9",
   "metadata": {},
   "outputs": [],
   "source": [
    "QAZ888qaz_"
   ]
  }
 ],
 "metadata": {
  "kernelspec": {
   "display_name": "Python 3 (ipykernel)",
   "language": "python",
   "name": "python3"
  },
  "language_info": {
   "codemirror_mode": {
    "name": "ipython",
    "version": 3
   },
   "file_extension": ".py",
   "mimetype": "text/x-python",
   "name": "python",
   "nbconvert_exporter": "python",
   "pygments_lexer": "ipython3",
   "version": "3.9.13"
  }
 },
 "nbformat": 4,
 "nbformat_minor": 5
}
