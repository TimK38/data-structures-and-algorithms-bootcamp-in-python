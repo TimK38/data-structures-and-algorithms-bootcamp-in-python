{
 "cells": [
  {
   "cell_type": "markdown",
   "id": "42d00fdc-3642-4266-88a8-bf31cabad6c1",
   "metadata": {},
   "source": [
    "# 參考網址\n",
    "https://www.codewars.com/kata/598106cb34e205e074000031/solutions/python"
   ]
  },
  {
   "cell_type": "raw",
   "id": "72ab8fc2-0b56-482e-b24f-da80f57a840d",
   "metadata": {},
   "source": [
    "test.it(\"ex1\")\n",
    "test.assert_equals(count_deaf_rats(\"~O~O~O~O P\"), 0)\n",
    "  \n",
    "test.it(\"ex2\")\n",
    "test.assert_equals(count_deaf_rats(\"P O~ O~ ~O O~\"), 1)\n",
    "  \n",
    "test.it(\"ex3\")\n",
    "test.assert_equals(count_deaf_rats(\"~O~O~O~OP~O~OO~\"), 2)"
   ]
  },
  {
   "cell_type": "code",
   "execution_count": 45,
   "id": "fdaf8af9-ba3a-46a2-87b6-db8d4a2944c3",
   "metadata": {},
   "outputs": [],
   "source": [
    "a = \"~O~O~O~O P\"\n",
    "b = \"P O~ O~ ~O O~\"\n",
    "c = \"~O~O~O~OP~O~OO~\""
   ]
  },
  {
   "cell_type": "code",
   "execution_count": 37,
   "id": "fdd1ba84-1c07-4397-a049-30b6a12e3aa9",
   "metadata": {},
   "outputs": [],
   "source": [
    "def count_deaf_rats(b):\n",
    "    b = b.replace(' ' ,'')\n",
    "    b1= b[:b.find('P')]\n",
    "    b1_list = []\n",
    "    while b1:\n",
    "        b1_list.append(b1[:2])\n",
    "        b1 = b1[2:]\n",
    "    \n",
    "    b2= b[b.find('P')+1:]\n",
    "    b2_list = []\n",
    "    while b2:\n",
    "        b2_list.append(b2[:2])\n",
    "        b2 = b2[2:]\n",
    "    return len( [ i for i in b1_list if i != '~O']  ) + len( [ i for i in b2_list if i != 'O~']  ) "
   ]
  },
  {
   "cell_type": "code",
   "execution_count": 38,
   "id": "dda52152-dcd1-4d90-8887-28714611fbf9",
   "metadata": {},
   "outputs": [
    {
     "data": {
      "text/plain": [
       "0"
      ]
     },
     "execution_count": 38,
     "metadata": {},
     "output_type": "execute_result"
    }
   ],
   "source": [
    "count_deaf_rats(a)"
   ]
  },
  {
   "cell_type": "code",
   "execution_count": 39,
   "id": "5ed9e5a2-65cf-4135-a02e-5256825fd0a0",
   "metadata": {},
   "outputs": [],
   "source": [
    "b = 'PO~O~~OO~O~O~O~O~O~O~O~~O O~O~O~O~O~~OO~~O~O~OO~O~O~O~O~O~O~O~O~O~O~O~O~O~ O~O~O~O~O~O~O~O~O~O~'"
   ]
  },
  {
   "cell_type": "code",
   "execution_count": 40,
   "id": "f069d2f4-d11b-4130-b458-3f513e77d50d",
   "metadata": {},
   "outputs": [
    {
     "data": {
      "text/plain": [
       "6"
      ]
     },
     "execution_count": 40,
     "metadata": {},
     "output_type": "execute_result"
    }
   ],
   "source": [
    "count_deaf_rats(b)"
   ]
  },
  {
   "cell_type": "markdown",
   "id": "fcb05753-5459-486c-a0c6-69cb4b0b0971",
   "metadata": {},
   "source": [
    "# https://www.codewars.com/kata/5b538734beb8654d6b00016d"
   ]
  },
  {
   "cell_type": "code",
   "execution_count": null,
   "id": "706ecf42-b8c3-48c5-a253-0bd061c0dad2",
   "metadata": {},
   "outputs": [],
   "source": [
    "test.describe(\"Basic Tests\")\n",
    "test.assert_equals(queue([2, 5, 3, 6, 4], 0), 6)\n",
    "test.assert_equals(queue([2, 5, 3, 6, 4], 1), 18)\n",
    "test.assert_equals(queue([2, 5, 3, 6, 4], 2), 12)\n",
    "test.assert_equals(queue([2, 5, 3, 6, 4], 3), 20)\n",
    "test.assert_equals(queue([2, 5, 3, 6, 4], 4), 17)\n",
    "print(\"<COMPLETEDIN::>\")"
   ]
  },
  {
   "cell_type": "code",
   "execution_count": 77,
   "id": "297a809f-17e9-40cd-b430-fe9125484a0b",
   "metadata": {},
   "outputs": [],
   "source": [
    "def queue(q,pos):\n",
    "    time = 0\n",
    "    while True:\n",
    "        time += 1\n",
    "        if q[0] == 1:\n",
    "            if pos: q.pop(0)\n",
    "            else:   return time\n",
    "        else:\n",
    "            q.append(q.pop(0) - 1)\n",
    "        pos = pos - 1 if pos  else len(q) - 1"
   ]
  },
  {
   "cell_type": "code",
   "execution_count": 99,
   "id": "728e025c-80d1-4fda-80a4-65443f01ddb7",
   "metadata": {},
   "outputs": [],
   "source": [
    "queuers = [2, 5, 3, 6, 4]\n",
    "pos = 3\n",
    "\n",
    "#queue(queuers,pos)"
   ]
  },
  {
   "cell_type": "code",
   "execution_count": 100,
   "id": "19815fc6-ee5b-4474-877c-d27e06f9c17c",
   "metadata": {
    "collapsed": true,
    "jupyter": {
     "outputs_hidden": true
    },
    "tags": []
   },
   "outputs": [
    {
     "name": "stdout",
     "output_type": "stream",
     "text": [
      "[2, 5, 3, 6, 4]\n",
      "[5, 3, 6, 4, 1]\n",
      "[3, 6, 4, 1, 4]\n",
      "[6, 4, 1, 4, 2]\n",
      "[4, 1, 4, 2, 5]\n",
      "[1, 4, 2, 5, 3]\n",
      "[4, 2, 5, 3]\n",
      "[2, 5, 3, 3]\n",
      "[5, 3, 3, 1]\n",
      "[3, 3, 1, 4]\n",
      "[3, 1, 4, 2]\n",
      "[1, 4, 2, 2]\n",
      "[4, 2, 2]\n",
      "[2, 2, 3]\n",
      "[2, 3, 1]\n",
      "[3, 1, 1]\n",
      "[1, 1, 2]\n",
      "[1, 2]\n",
      "[2]\n",
      "[1]\n",
      "20\n"
     ]
    }
   ],
   "source": [
    "q = queuers\n",
    "pos = pos\n",
    "time = 0\n",
    "while True:\n",
    "    print(queuers)\n",
    "    time += 1\n",
    "    if q[0] == 1:\n",
    "        if pos: q.pop(0)\n",
    "        else:\n",
    "            print( time)\n",
    "            break\n",
    "    else:\n",
    "        q.append(q.pop(0) - 1)\n",
    "    #print(pos)\n",
    "    if pos:\n",
    "        pos = pos-1\n",
    "    else:\n",
    "        pos = len(q) - 1"
   ]
  },
  {
   "cell_type": "markdown",
   "id": "297c5b29-f6ef-4113-a532-f5f7cb5293f9",
   "metadata": {},
   "source": [
    "# https://www.codewars.com/kata/550cc572b9e7b563be00054f"
   ]
  },
  {
   "cell_type": "code",
   "execution_count": null,
   "id": "12aae6de-4fd1-420d-aa44-67a44731c493",
   "metadata": {},
   "outputs": [],
   "source": [
    "test.assert_equals(SJF([100], 0), 100)\n",
    "test.assert_equals(SJF([3,10,20,1,2], 0), 6)\n",
    "test.assert_equals(SJF([3,10,20,1,2], 1), 16)"
   ]
  },
  {
   "cell_type": "code",
   "execution_count": 1,
   "id": "63a516cc-6fad-4d12-8a59-ad4ef226897e",
   "metadata": {},
   "outputs": [],
   "source": [
    "def SJF(jobs, index):\n",
    "    time = 0\n",
    "    for i in range(len(jobs)):\n",
    "        if jobs[i]<jobs[index]:\n",
    "            time+=jobs[i]\n",
    "            jobs[i] = 0\n",
    "        else:\n",
    "            continue\n",
    "    for j in range(index+1):\n",
    "        if jobs[j]==jobs[index]:\n",
    "            time+=jobs[j]\n",
    "    return time"
   ]
  },
  {
   "cell_type": "code",
   "execution_count": 5,
   "id": "4d77992d-9891-4f2b-b4bc-ab8641803e75",
   "metadata": {},
   "outputs": [
    {
     "data": {
      "text/plain": [
       "6"
      ]
     },
     "execution_count": 5,
     "metadata": {},
     "output_type": "execute_result"
    }
   ],
   "source": [
    "# SJF([3,10,20,1,2], 0) == 6\n",
    "\n",
    "jobs = [3,10,10,20,1,2]\n",
    "index = 0\n",
    "\n",
    "time = 0\n",
    "for i in range(len(jobs)):\n",
    "    if jobs[i]<jobs[index]:\n",
    "        time+=jobs[i]\n",
    "        jobs[i] = 0\n",
    "    else:\n",
    "        continue\n",
    "for j in range(index+1):\n",
    "    if jobs[j]==jobs[index]:\n",
    "        time+=jobs[j]\n",
    "time"
   ]
  },
  {
   "cell_type": "code",
   "execution_count": null,
   "id": "053a0a4c-124f-4aaf-84df-332f01dd241b",
   "metadata": {},
   "outputs": [],
   "source": []
  }
 ],
 "metadata": {
  "kernelspec": {
   "display_name": "Python 3 (ipykernel)",
   "language": "python",
   "name": "python3"
  },
  "language_info": {
   "codemirror_mode": {
    "name": "ipython",
    "version": 3
   },
   "file_extension": ".py",
   "mimetype": "text/x-python",
   "name": "python",
   "nbconvert_exporter": "python",
   "pygments_lexer": "ipython3",
   "version": "3.9.13"
  }
 },
 "nbformat": 4,
 "nbformat_minor": 5
}
