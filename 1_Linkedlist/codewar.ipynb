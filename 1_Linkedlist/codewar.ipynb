{
 "cells": [
  {
   "cell_type": "code",
   "execution_count": 58,
   "id": "82427efd-30da-405e-a2dd-9436018a79c8",
   "metadata": {},
   "outputs": [],
   "source": [
    "# 已鍛鍊題目"
   ]
  },
  {
   "cell_type": "code",
   "execution_count": null,
   "id": "94f944f3-0258-4c3c-bb4b-a99664b5af4f",
   "metadata": {},
   "outputs": [],
   "source": [
    "Linked Lists - Length & Count\n",
    "https://www.codewars.com/kata/55beec7dd347078289000021/train/python"
   ]
  },
  {
   "cell_type": "code",
   "execution_count": null,
   "id": "36079d5a-bb3b-4d30-9a77-b91c58f29f83",
   "metadata": {},
   "outputs": [],
   "source": [
    "Linked Lists - Insert Nth Node\n",
    "https://www.codewars.com/kata/55cacc3039607536c6000081/train/python"
   ]
  },
  {
   "cell_type": "code",
   "execution_count": null,
   "id": "481c41e6-9370-4bd7-8136-2bb8fedcf3a3",
   "metadata": {},
   "outputs": [],
   "source": [
    "#未完成\n",
    "https://www.codewars.com/kata/55cc33e97259667a08000044\n",
    "https://www.codewars.com/kata/55d9f257d60c5fd98d00001b"
   ]
  },
  {
   "cell_type": "code",
   "execution_count": null,
   "id": "83505e91-7033-4b8d-833c-09ba297ae5d3",
   "metadata": {},
   "outputs": [],
   "source": []
  },
  {
   "cell_type": "code",
   "execution_count": 80,
   "id": "085021e3-2a73-447a-b3e8-bfe16051b20d",
   "metadata": {},
   "outputs": [],
   "source": [
    "class Node:\n",
    "    def __init__(self, value=None):\n",
    "        self.value = value\n",
    "        self.next = None\n",
    "\n",
    "class SLinkedList:\n",
    "    def __init__(self):\n",
    "        self.head = None\n",
    "        self.tail = None\n",
    "    def __iter__(self):\n",
    "        node = self.head\n",
    "        while node:\n",
    "            yield node\n",
    "            node = node.next\n",
    "    # insert in Linked List\n",
    "    # def insertSLL(self, value, location):\n",
    "    #     newNode = Node(value)\n",
    "    #     if self.head is None:\n",
    "    #         self.head = newNode\n",
    "    #         self.tail = newNode\n",
    "    #     else:\n",
    "    #         if location == 0:\n",
    "    #             newNode.next = self.head\n",
    "    #             self.head = newNode\n",
    "    #         elif location == -1:\n",
    "    #             newNode.next = None\n",
    "    #             self.tail.next = newNode\n",
    "    #             self.tail = newNode\n",
    "    #         else:\n",
    "    #             tempNode = self.head\n",
    "    #             index = 0\n",
    "    #             while index < location - 1:\n",
    "    #                 if tempNode.next == None:\n",
    "    #                     break \n",
    "    #                 tempNode = tempNode.next\n",
    "    #                 index += 1\n",
    "    #             nextNode = tempNode.next\n",
    "    #             tempNode.next = newNode\n",
    "    #             newNode.next = nextNode\n",
    "    #             if tempNode == self.tail:\n",
    "    #                 self.tail=newNode\n",
    "    def insertSLL(self, value, location):\n",
    "            newNode = Node(value)\n",
    "            if self.head is None:\n",
    "                self.head = newNode\n",
    "                self.tail = newNode\n",
    "            else:\n",
    "                if location == 0:\n",
    "                    newNode.next = self.head\n",
    "                    self.head = newNode\n",
    "                elif location == -1:\n",
    "                    newNode.next = None\n",
    "                    self.tail.next = newNode\n",
    "                    self.tail = newNode\n",
    "                else:\n",
    "                    tempNode = self.head\n",
    "                    index = 0\n",
    "                    while index < location - 1:\n",
    "                        tempNode = tempNode.next\n",
    "                        index += 1\n",
    "                    nextNode = tempNode.next\n",
    "                    tempNode.next = newNode\n",
    "                    newNode.next = nextNode\n",
    "                    if tempNode == self.tail:\n",
    "                        self.tail=newNode\n",
    "    # Traverse Singly Linked List\n",
    "    def traverseSLL(self):\n",
    "        if self.head is None:\n",
    "            print(\"The Singly Linked List does not exist\")\n",
    "        else:\n",
    "            node = self.head\n",
    "            while node is not None:\n",
    "                print(node.value)\n",
    "                node = node.next\n",
    "    # Search for a node in Singly Linked List\n",
    "    def searchSLL(self, nodeValue):\n",
    "        if self.head is None:\n",
    "           return \"The list does not exist\"\n",
    "        else:\n",
    "            node = self.head\n",
    "            while node is not None:\n",
    "                if node.value == nodeValue:\n",
    "                    return node.value\n",
    "                node = node.next\n",
    "            return \"The value does not exist in this list\"\n",
    "\n",
    "    #  Delete a node from Singly Linked List\n",
    "    def deleteNode(self, location):\n",
    "        if self.head is None:\n",
    "            print(\"The SLL does not exist\")\n",
    "        else:\n",
    "            if location == 0:\n",
    "                if self.head == self.tail:\n",
    "                    self.head = None\n",
    "                    self.tail = None\n",
    "                else:\n",
    "                    self.head = self.head.next\n",
    "            elif location == -1:\n",
    "                if self.head == self.tail:\n",
    "                    self.head = None\n",
    "                    self.tail = None\n",
    "                else:\n",
    "                    node = self.head\n",
    "                    while node is not None:\n",
    "                        if node.next == self.tail:\n",
    "                            break\n",
    "                        node = node.next\n",
    "                    node.next = None\n",
    "                    self.tail = node\n",
    "            else:\n",
    "                tempNode = self.head\n",
    "                index = 0\n",
    "                while index < location - 1:\n",
    "                    tempNode = tempNode.next\n",
    "                    index += 1\n",
    "                nextNode = tempNode.next\n",
    "                tempNode.next = nextNode.next\n",
    "    # Delete entire SLL\n",
    "    def deleteEntireSLL(self):\n",
    "        if self.head is None:\n",
    "            print(\"The SLL does not exist\")\n",
    "        else:\n",
    "            self.head = None\n",
    "            self.tail = None\n",
    "\n",
    "\n",
    "singlyLinkedList = SLinkedList()\n",
    "# singlyLinkedList.insertSLL(1, 1)\n",
    "# singlyLinkedList.insertSLL(2, 3)\n",
    "# singlyLinkedList.insertSLL(3, 1)\n",
    "# singlyLinkedList.insertSLL(4, 1)\n",
    "# singlyLinkedList.insertSLL(0, 0)\n",
    "# singlyLinkedList.insertSLL(7, -1)\n",
    "# singlyLinkedList.insertSLL(5, 6)\n",
    "\n",
    "\n",
    "# singlyLinkedList.insertSLL(1,1)\n",
    "# singlyLinkedList.insertSLL(2,5)\n",
    "# singlyLinkedList.insertSLL(3,1)\n",
    "# singlyLinkedList.insertSLL(4,9)\n",
    "# singlyLinkedList.insertSLL(5,-1)\n",
    "singlyLinkedList.insertSLL(1, 0)\n",
    "singlyLinkedList.insertSLL(2, 0)\n",
    "singlyLinkedList.insertSLL(3, 0)"
   ]
  },
  {
   "cell_type": "code",
   "execution_count": 81,
   "id": "0fd8382d-e0f7-4df0-9641-0819578891f2",
   "metadata": {},
   "outputs": [
    {
     "name": "stdout",
     "output_type": "stream",
     "text": [
      "[3, 2, 1]\n"
     ]
    }
   ],
   "source": [
    "print([node.value for node in singlyLinkedList]) "
   ]
  },
  {
   "cell_type": "code",
   "execution_count": 82,
   "id": "7b1789b7-8a56-4fe5-8a28-1c9c20c83585",
   "metadata": {},
   "outputs": [],
   "source": [
    "class Node(object):\n",
    "    def __init__(self, data):\n",
    "        self.data = data\n",
    "        self.next = None\n",
    "    \n",
    "def insert_nth(head, index, data):\n",
    "    new_node = Non\n",
    "    while head:\n",
    "        if cnt_+1 ==index:\n",
    "            new_node.next = head.next\n",
    "            head.next = new_node\n",
    "            break\n",
    "        head =head.next\n",
    "    return head"
   ]
  },
  {
   "cell_type": "code",
   "execution_count": 112,
   "id": "208067b8-bcfd-4843-a709-7a3dad6cd880",
   "metadata": {
    "collapsed": true,
    "jupyter": {
     "outputs_hidden": true
    },
    "tags": []
   },
   "outputs": [
    {
     "ename": "KeyboardInterrupt",
     "evalue": "",
     "output_type": "error",
     "traceback": [
      "\u001b[1;31m---------------------------------------------------------------------------\u001b[0m",
      "\u001b[1;31mKeyboardInterrupt\u001b[0m                         Traceback (most recent call last)",
      "\u001b[1;32m~\\AppData\\Local\\Temp\\ipykernel_30580\\31804719.py\u001b[0m in \u001b[0;36m<module>\u001b[1;34m\u001b[0m\n\u001b[0;32m     17\u001b[0m \u001b[0msinglyLinkedList\u001b[0m\u001b[1;33m.\u001b[0m\u001b[0minsertSLL\u001b[0m\u001b[1;33m(\u001b[0m\u001b[1;36m2\u001b[0m\u001b[1;33m,\u001b[0m \u001b[1;36m0\u001b[0m\u001b[1;33m)\u001b[0m\u001b[1;33m\u001b[0m\u001b[1;33m\u001b[0m\u001b[0m\n\u001b[0;32m     18\u001b[0m \u001b[0msinglyLinkedList\u001b[0m\u001b[1;33m.\u001b[0m\u001b[0minsertSLL\u001b[0m\u001b[1;33m(\u001b[0m\u001b[1;36m3\u001b[0m\u001b[1;33m,\u001b[0m \u001b[1;36m0\u001b[0m\u001b[1;33m)\u001b[0m\u001b[1;33m\u001b[0m\u001b[1;33m\u001b[0m\u001b[0m\n\u001b[1;32m---> 19\u001b[1;33m \u001b[0ma\u001b[0m  \u001b[1;33m=\u001b[0m \u001b[0minsert_nth\u001b[0m\u001b[1;33m(\u001b[0m \u001b[0msinglyLinkedList\u001b[0m\u001b[1;33m.\u001b[0m\u001b[0mhead\u001b[0m \u001b[1;33m,\u001b[0m \u001b[1;36m0\u001b[0m\u001b[1;33m,\u001b[0m \u001b[1;36m23\u001b[0m\u001b[1;33m)\u001b[0m\u001b[1;33m\u001b[0m\u001b[1;33m\u001b[0m\u001b[0m\n\u001b[0m",
      "\u001b[1;32m~\\AppData\\Local\\Temp\\ipykernel_30580\\1522235612.py\u001b[0m in \u001b[0;36minsert_nth\u001b[1;34m(head, index, data)\u001b[0m\n\u001b[0;32m      8\u001b[0m     \u001b[0mnew_node\u001b[0m \u001b[1;33m=\u001b[0m \u001b[0mNode\u001b[0m\u001b[1;33m(\u001b[0m\u001b[0mdata\u001b[0m\u001b[1;33m)\u001b[0m\u001b[1;33m\u001b[0m\u001b[1;33m\u001b[0m\u001b[0m\n\u001b[0;32m      9\u001b[0m     \u001b[1;32mwhile\u001b[0m \u001b[0mhead\u001b[0m\u001b[1;33m:\u001b[0m\u001b[1;33m\u001b[0m\u001b[1;33m\u001b[0m\u001b[0m\n\u001b[1;32m---> 10\u001b[1;33m         \u001b[1;32mif\u001b[0m \u001b[0mcnt_\u001b[0m\u001b[1;33m+\u001b[0m\u001b[1;36m1\u001b[0m \u001b[1;33m==\u001b[0m\u001b[0mindex\u001b[0m\u001b[1;33m:\u001b[0m\u001b[1;33m\u001b[0m\u001b[1;33m\u001b[0m\u001b[0m\n\u001b[0m\u001b[0;32m     11\u001b[0m             \u001b[0mnew_node\u001b[0m\u001b[1;33m.\u001b[0m\u001b[0mnext\u001b[0m \u001b[1;33m=\u001b[0m \u001b[0mhead\u001b[0m\u001b[1;33m.\u001b[0m\u001b[0mnext\u001b[0m\u001b[1;33m\u001b[0m\u001b[1;33m\u001b[0m\u001b[0m\n\u001b[0;32m     12\u001b[0m             \u001b[0mhead\u001b[0m\u001b[1;33m.\u001b[0m\u001b[0mnext\u001b[0m \u001b[1;33m=\u001b[0m \u001b[0mnew_node\u001b[0m\u001b[1;33m\u001b[0m\u001b[1;33m\u001b[0m\u001b[0m\n",
      "\u001b[1;31mKeyboardInterrupt\u001b[0m: "
     ]
    }
   ],
   "source": [
    "singlyLinkedList = SLinkedList()\n",
    "# singlyLinkedList.insertSLL(1, 1)\n",
    "# singlyLinkedList.insertSLL(2, 3)\n",
    "# singlyLinkedList.insertSLL(3, 1)\n",
    "# singlyLinkedList.insertSLL(4, 1)\n",
    "# singlyLinkedList.insertSLL(0, 0)\n",
    "# singlyLinkedList.insertSLL(7, -1)\n",
    "# singlyLinkedList.insertSLL(5, 6)\n",
    "\n",
    "\n",
    "# singlyLinkedList.insertSLL(1,1)\n",
    "# singlyLinkedList.insertSLL(2,5)\n",
    "# singlyLinkedList.insertSLL(3,1)\n",
    "# singlyLinkedList.insertSLL(4,9)\n",
    "# singlyLinkedList.insertSLL(5,-1)\n",
    "singlyLinkedList.insertSLL(1, 0)\n",
    "singlyLinkedList.insertSLL(2, 0)\n",
    "singlyLinkedList.insertSLL(3, 0)\n",
    "a  = insert_nth( singlyLinkedList.head , 0, 23) "
   ]
  },
  {
   "cell_type": "code",
   "execution_count": 134,
   "id": "b372582d-25ca-44ca-9ae7-cab8f800ccfc",
   "metadata": {},
   "outputs": [],
   "source": [
    "singlyLinkedList = SLinkedList()\n",
    "singlyLinkedList.insertSLL(1, 0)\n",
    "singlyLinkedList.insertSLL(2, 0)\n",
    "singlyLinkedList.insertSLL(3, 0)\n",
    "head  = singlyLinkedList.head"
   ]
  },
  {
   "cell_type": "code",
   "execution_count": 136,
   "id": "b138c403-1c8b-4060-98e7-5a3b5ce9a3e8",
   "metadata": {
    "tags": []
   },
   "outputs": [
    {
     "name": "stdout",
     "output_type": "stream",
     "text": [
      "a\n"
     ]
    }
   ],
   "source": [
    "class Node(object):\n",
    "    def __init__(self, data):\n",
    "        self.data = data\n",
    "        self.next = None\n",
    "    \n",
    "def insert_nth(head, index, data):\n",
    "    headNode = head\n",
    "    if head is None:\n",
    "        return Node(data)\n",
    "    else:\n",
    "        cnt_ = 0\n",
    "        new_node = Node(data)\n",
    "        while head:\n",
    "            if index ==0:\n",
    "                new_node.next = head\n",
    "                return new_node\n",
    "                \n",
    "            else:\n",
    "                if cnt_+1 > index:\n",
    "                    raise ValueError\n",
    "                if cnt_+1 == index :\n",
    "                    new_node.next = head.next\n",
    "                    head.next = new_node\n",
    "                    break\n",
    "                cnt_ += 1\n",
    "                head = head.next\n",
    "    return headNode\n",
    "            "
   ]
  },
  {
   "cell_type": "code",
   "execution_count": 137,
   "id": "ec8f2754-97f4-4797-b96c-cde3d121e835",
   "metadata": {},
   "outputs": [
    {
     "name": "stdout",
     "output_type": "stream",
     "text": [
      "<__main__.Node object at 0x000001444F3803C8>\n"
     ]
    }
   ],
   "source": [
    "print(head) "
   ]
  },
  {
   "cell_type": "code",
   "execution_count": 138,
   "id": "646495dd-fa3f-464e-9362-e841abd415f2",
   "metadata": {},
   "outputs": [
    {
     "name": "stdout",
     "output_type": "stream",
     "text": [
      "3\n",
      "23\n",
      "2\n",
      "1\n"
     ]
    }
   ],
   "source": [
    "singlyLinkedList.traverseSLL()"
   ]
  },
  {
   "cell_type": "code",
   "execution_count": null,
   "id": "44d4a68e-d633-4697-a18a-b8708a8ae8cf",
   "metadata": {},
   "outputs": [],
   "source": [
    "def insert_nth(head, index, data):\n",
    "    if index == 0: return Node(data, head)\n",
    "    if head and index > 0:\n",
    "    head.next = insert_nth(head.next, index - 1, data)\n",
    "    return head\n",
    "    raise ValueError"
   ]
  },
  {
   "cell_type": "code",
   "execution_count": null,
   "id": "603a2e11-22f3-45df-b404-3cd704c9c1ea",
   "metadata": {},
   "outputs": [],
   "source": []
  },
  {
   "cell_type": "markdown",
   "id": "9dd6b587-7ab7-425c-b01c-056d508eaddc",
   "metadata": {},
   "source": [
    "# Linked Lists - Push & BuildOneTwoThree"
   ]
  },
  {
   "cell_type": "code",
   "execution_count": 31,
   "id": "b1020855-eb90-4522-b99a-82391f53e015",
   "metadata": {},
   "outputs": [],
   "source": [
    "# Linked Lists - Push & BuildOneTwoThree\n",
    "# https://www.codewars.com/kata/55be95786abade3c71000079/train/python \n",
    "class Node(object):\n",
    "    def __init__(self, data, next=None):\n",
    "        self.data = data\n",
    "        self.next = next\n",
    "    \n",
    "def push(head, data):\n",
    "    return Node(data, head)\n",
    "  \n",
    "def build_one_two_three():\n",
    "    return Node(1, Node(2, Node(3)))"
   ]
  },
  {
   "cell_type": "code",
   "execution_count": 33,
   "id": "ace34cd8-4858-4532-8898-363210716125",
   "metadata": {},
   "outputs": [
    {
     "data": {
      "text/plain": [
       "1"
      ]
     },
     "execution_count": 33,
     "metadata": {},
     "output_type": "execute_result"
    }
   ],
   "source": [
    "build_one_two_three().data"
   ]
  },
  {
   "cell_type": "code",
   "execution_count": 34,
   "id": "12ccc5d6-bc11-4818-b16b-be2067472b84",
   "metadata": {},
   "outputs": [
    {
     "data": {
      "text/plain": [
       "2"
      ]
     },
     "execution_count": 34,
     "metadata": {},
     "output_type": "execute_result"
    }
   ],
   "source": [
    "build_one_two_three().next.data"
   ]
  },
  {
   "cell_type": "markdown",
   "id": "ed88fa7b-a145-498f-930b-b8c165d3c0b6",
   "metadata": {},
   "source": [
    "# Linked Lists - Get Nth Node"
   ]
  },
  {
   "cell_type": "code",
   "execution_count": 63,
   "id": "17a5ff34-a6d4-4054-b830-33eecc35367c",
   "metadata": {},
   "outputs": [],
   "source": [
    "# Linked Lists - Get Nth Node\n",
    "#https://www.codewars.com/kata/55befc42bfe4d13ab1000007/train/python\n",
    "class Node(object):\n",
    "    def __init__(self, data):\n",
    "        self.data = data\n",
    "        self.next = None\n",
    "    \n",
    "def get_nth(node, index):\n",
    "    base = 0 \n",
    "    while node:\n",
    "        if base ==index :\n",
    "            return node  \n",
    "        node = node.next\n",
    "        base+=1\n",
    "    raise ValueError"
   ]
  },
  {
   "cell_type": "code",
   "execution_count": 64,
   "id": "f992fc27-6734-4eba-820b-5f4ea76ed53f",
   "metadata": {},
   "outputs": [],
   "source": [
    "a = Node(1)"
   ]
  },
  {
   "cell_type": "code",
   "execution_count": 65,
   "id": "bb1939ad-2c92-4093-8d01-7a950eb3e573",
   "metadata": {},
   "outputs": [],
   "source": [
    "a.next = Node(2)\n",
    "a.next.next = Node(3)"
   ]
  },
  {
   "cell_type": "code",
   "execution_count": 66,
   "id": "e8233e74-c176-4e59-80b4-bb805d8274ea",
   "metadata": {
    "tags": []
   },
   "outputs": [
    {
     "ename": "ValueError",
     "evalue": "",
     "output_type": "error",
     "traceback": [
      "\u001b[0;31m---------------------------------------------------------------------------\u001b[0m",
      "\u001b[0;31mValueError\u001b[0m                                Traceback (most recent call last)",
      "\u001b[0;32m/var/folders/gc/dmcxjgm51rj29_6hhf4csfbm0000gn/T/ipykernel_38425/3724520263.py\u001b[0m in \u001b[0;36m<module>\u001b[0;34m\u001b[0m\n\u001b[0;32m----> 1\u001b[0;31m \u001b[0mget_nth\u001b[0m\u001b[0;34m(\u001b[0m\u001b[0;32mNone\u001b[0m\u001b[0;34m,\u001b[0m \u001b[0;36m3\u001b[0m\u001b[0;34m)\u001b[0m\u001b[0;34m\u001b[0m\u001b[0;34m\u001b[0m\u001b[0m\n\u001b[0m",
      "\u001b[0;32m/var/folders/gc/dmcxjgm51rj29_6hhf4csfbm0000gn/T/ipykernel_38425/2957675879.py\u001b[0m in \u001b[0;36mget_nth\u001b[0;34m(node, index)\u001b[0m\n\u001b[1;32m     13\u001b[0m         \u001b[0mnode\u001b[0m \u001b[0;34m=\u001b[0m \u001b[0mnode\u001b[0m\u001b[0;34m.\u001b[0m\u001b[0mnext\u001b[0m\u001b[0;34m\u001b[0m\u001b[0;34m\u001b[0m\u001b[0m\n\u001b[1;32m     14\u001b[0m         \u001b[0mbase\u001b[0m\u001b[0;34m+=\u001b[0m\u001b[0;36m1\u001b[0m\u001b[0;34m\u001b[0m\u001b[0;34m\u001b[0m\u001b[0m\n\u001b[0;32m---> 15\u001b[0;31m     \u001b[0;32mraise\u001b[0m \u001b[0mValueError\u001b[0m\u001b[0;34m\u001b[0m\u001b[0;34m\u001b[0m\u001b[0m\n\u001b[0m",
      "\u001b[0;31mValueError\u001b[0m: "
     ]
    }
   ],
   "source": [
    "get_nth(None, 3)"
   ]
  },
  {
   "cell_type": "code",
   "execution_count": 69,
   "id": "51b85a2b-a0cd-4af5-b973-7a14005fa165",
   "metadata": {},
   "outputs": [
    {
     "data": {
      "text/plain": [
       "2"
      ]
     },
     "execution_count": 69,
     "metadata": {},
     "output_type": "execute_result"
    }
   ],
   "source": [
    "get_nth(a, 1).data"
   ]
  },
  {
   "cell_type": "code",
   "execution_count": 70,
   "id": "db7fae16-0ba6-4500-9570-4bcb74994a88",
   "metadata": {
    "collapsed": true,
    "jupyter": {
     "outputs_hidden": true
    },
    "tags": []
   },
   "outputs": [
    {
     "ename": "ValueError",
     "evalue": "",
     "output_type": "error",
     "traceback": [
      "\u001b[0;31m---------------------------------------------------------------------------\u001b[0m",
      "\u001b[0;31mValueError\u001b[0m                                Traceback (most recent call last)",
      "\u001b[0;32m/var/folders/gc/dmcxjgm51rj29_6hhf4csfbm0000gn/T/ipykernel_38425/327009356.py\u001b[0m in \u001b[0;36m<module>\u001b[0;34m\u001b[0m\n\u001b[0;32m----> 1\u001b[0;31m \u001b[0mget_nth\u001b[0m\u001b[0;34m(\u001b[0m\u001b[0ma\u001b[0m\u001b[0;34m,\u001b[0m \u001b[0;36m3\u001b[0m\u001b[0;34m)\u001b[0m\u001b[0;34m.\u001b[0m\u001b[0mdata\u001b[0m\u001b[0;34m\u001b[0m\u001b[0;34m\u001b[0m\u001b[0m\n\u001b[0m",
      "\u001b[0;32m/var/folders/gc/dmcxjgm51rj29_6hhf4csfbm0000gn/T/ipykernel_38425/2957675879.py\u001b[0m in \u001b[0;36mget_nth\u001b[0;34m(node, index)\u001b[0m\n\u001b[1;32m     13\u001b[0m         \u001b[0mnode\u001b[0m \u001b[0;34m=\u001b[0m \u001b[0mnode\u001b[0m\u001b[0;34m.\u001b[0m\u001b[0mnext\u001b[0m\u001b[0;34m\u001b[0m\u001b[0;34m\u001b[0m\u001b[0m\n\u001b[1;32m     14\u001b[0m         \u001b[0mbase\u001b[0m\u001b[0;34m+=\u001b[0m\u001b[0;36m1\u001b[0m\u001b[0;34m\u001b[0m\u001b[0;34m\u001b[0m\u001b[0m\n\u001b[0;32m---> 15\u001b[0;31m     \u001b[0;32mraise\u001b[0m \u001b[0mValueError\u001b[0m\u001b[0;34m\u001b[0m\u001b[0;34m\u001b[0m\u001b[0m\n\u001b[0m",
      "\u001b[0;31mValueError\u001b[0m: "
     ]
    }
   ],
   "source": [
    "get_nth(a, 3).data"
   ]
  },
  {
   "cell_type": "markdown",
   "id": "39f533e2-91c4-42e0-8abb-55fcbe21eb28",
   "metadata": {},
   "source": [
    "# Linked Lists - Append\n",
    "#https://www.codewars.com/kata/55d17ddd6d7868493e000074"
   ]
  },
  {
   "cell_type": "code",
   "execution_count": 73,
   "id": "6bd54a21-1828-4a2b-b8c6-57ff91284d19",
   "metadata": {},
   "outputs": [],
   "source": [
    "def push(head, data):\n",
    "  newNode = Node(data)\n",
    "  newNode.next = head\n",
    "  return newNode\n",
    "\n",
    "def build_one_two_three():\n",
    "  head = None\n",
    "  head = push(head, 3)\n",
    "  head = push(head, 2)\n",
    "  head = push(head, 1)\n",
    "  return head\n",
    "\n",
    "def build_four_five_six():\n",
    "  head = None\n",
    "  head = push(head, 6)\n",
    "  head = push(head, 5)\n",
    "  head = push(head, 4)\n",
    "  return head\n",
    "\n",
    "def build_one_two_three_four_five_six():\n",
    "  head = None\n",
    "  head = push(head, 6)\n",
    "  head = push(head, 5)\n",
    "  head = push(head, 4)\n",
    "  head = push(head, 3)\n",
    "  head = push(head, 2)\n",
    "  head = push(head, 1)\n",
    "  return head\n",
    "\n",
    "def build_four_five_six_one_two_three():\n",
    "  head = None\n",
    "  head = push(head, 3)\n",
    "  head = push(head, 2)\n",
    "  head = push(head, 1)\n",
    "  head = push(head, 6)\n",
    "  head = push(head, 5)\n",
    "  head = push(head, 4)\n",
    "  return head\n",
    "\n",
    "def build_one_two():\n",
    "  head = None\n",
    "  head = push(head, 2)\n",
    "  head = push(head, 1)\n",
    "  return head\n",
    "\n",
    "def build_two_one():\n",
    "  head = None\n",
    "  head = push(head, 1)\n",
    "  head = push(head, 2)\n",
    "  return head\n",
    "  \n",
    "def assert_linked_list_equals(listA, listB, message):\n",
    "  while listA is not None and listB is not None:\n",
    "    test.assert_equals(listA.data, listB.data, message)\n",
    "    listA = listA.next\n",
    "    listB = listB.next\n",
    "  test.assert_equals(listA, None, message)\n",
    "  test.assert_equals(listB, None, message)\n",
    "\n",
    "# @test.describe(\"Tests\") \n",
    "# def te():\n",
    "#     @test.it(\"should be able to handle two empty lists.\")\n",
    "#     def f():\n",
    "#         test.assert_equals(append(None, None), None, \"appending two empty lists should return None.\")\n",
    "    \n",
    "#     @test.it(\"should be able to handle one empty list and one non-empty list.\")\n",
    "#     def f():\n",
    "#         assert_linked_list_equals(append(None, build_one_two_three()), build_one_two_three(), \"appending a list to None should return the list.\")\n",
    "#         assert_linked_list_equals(append(build_one_two_three(), None), build_one_two_three(), \"appending None to a list should return the list.\")\n",
    "    \n",
    "#     @test.it(\"should be able to handle two non-empty lists of length 1.\")\n",
    "#     def f():\n",
    "#         assert_linked_list_equals(append(Node(1), Node(2)), build_one_two(), \"appending a list to another list should return the concatenated list.\")\n",
    "#         assert_linked_list_equals(append(Node(2), Node(1)), build_two_one(), \"appending a list to another list should return the concatenated list.\")\n",
    "#         assert_linked_list_equals(append(Node(2), Node(1)).next.next, None, \"None should exist at end of concatenated linked list.\")\n",
    "    \n",
    "#     @test.it(\"should be able to handle two non-empty lists of length > 1.\")\n",
    "#     def f():\n",
    "#         assert_linked_list_equals(append(build_one_two_three(), build_four_five_six()), build_one_two_three_four_five_six(), \"appending a list to another list should return the concatenated list.\")\n",
    "#         assert_linked_list_equals(append(build_four_five_six(), build_one_two_three()), build_four_five_six_one_two_three(), \"appending a list to another list should return the concatenated list.\")\n",
    "#         assert_linked_list_equals(append(build_four_five_six(), build_one_two_three()).next.next.next.next.next.next, None, \"None should exist at end of concatenated linked list.\")"
   ]
  },
  {
   "cell_type": "code",
   "execution_count": 156,
   "id": "35bd7b6d-6014-44bc-aa6b-2de01edf4036",
   "metadata": {},
   "outputs": [],
   "source": [
    "# 解法一\n",
    "class Node(object):\n",
    "    def __init__(self, data):\n",
    "        self.data = data\n",
    "        self.next = None\n",
    "\n",
    "def append(listA, listB):\n",
    "    list_all = [ listA , listB ] \n",
    "    list_all = [i for i in list_all if i != None]\n",
    "    head = None\n",
    "    a = []\n",
    "    for i in list_all:\n",
    "        while i :\n",
    "            #push(head, i.data)\n",
    "            a.append(i.data)\n",
    "            i = i.next\n",
    "    a.reverse()\n",
    "    for j in a:\n",
    "        head = push(head, j)\n",
    "    return head\n",
    "        \n",
    "        \n",
    "    # Your code goes here.\n",
    "    # Remember to return the head of the list.\n",
    "b = append(build_one_two_three(), build_four_five_six())\n",
    "b.next.next.next.next.next.data"
   ]
  },
  {
   "cell_type": "code",
   "execution_count": null,
   "id": "127fdb04-08fe-4287-8d62-34d7ea1378c8",
   "metadata": {},
   "outputs": [],
   "source": [
    "# soluiton 2 \n",
    "class Node(object):\n",
    "    def __init__(self, data, next = None):\n",
    "        self.data = data\n",
    "        self.next = next\n",
    "\n",
    "def append(A, B):\n",
    "    if A == None and B == None:\n",
    "        return None\n",
    "    elif A == None or B == None:\n",
    "        return A if A else B\n",
    "    current = A\n",
    "    while current.next != None:\n",
    "        current = current.next\n",
    "    current.next = B\n",
    "    return A\n"
   ]
  },
  {
   "cell_type": "code",
   "execution_count": 205,
   "id": "6106b508-7f4f-4029-b6f0-8491258d2c37",
   "metadata": {},
   "outputs": [],
   "source": [
    "# solution 3 \n",
    "def append(listA, listB):\n",
    "    list_all = [ listA , listB ] \n",
    "    list_all = [i for i in list_all if i != None]\n",
    "    head = None\n",
    "    base = 0 \n",
    "    for i in list_all:\n",
    "        while i :\n",
    "            if base == 0:\n",
    "                head = Node(i.data)\n",
    "                current = head\n",
    "                base +=1\n",
    "                i = i.next\n",
    "            else:\n",
    "                print(i.data)\n",
    "                current.next = Node(i.data)\n",
    "                current  = current.next\n",
    "                i = i.next\n",
    "    return head\n",
    "        "
   ]
  },
  {
   "cell_type": "code",
   "execution_count": 206,
   "id": "fe3ff652-c73f-4bc1-9dd4-08edf868cb11",
   "metadata": {},
   "outputs": [
    {
     "name": "stdout",
     "output_type": "stream",
     "text": [
      "2\n",
      "3\n",
      "4\n",
      "5\n",
      "6\n"
     ]
    }
   ],
   "source": [
    "b = append(build_one_two_three(), build_four_five_six())"
   ]
  },
  {
   "cell_type": "code",
   "execution_count": 213,
   "id": "59af08be-5228-4914-9cfd-67389bef2b19",
   "metadata": {},
   "outputs": [
    {
     "data": {
      "text/plain": [
       "6"
      ]
     },
     "execution_count": 213,
     "metadata": {},
     "output_type": "execute_result"
    }
   ],
   "source": [
    "b.next.next.next.next.next.data"
   ]
  },
  {
   "cell_type": "markdown",
   "id": "81934749-53b0-4926-ba8b-f4ef4ed0fa68",
   "metadata": {},
   "source": [
    "# Linked Lists - Insert Sort\n",
    "#https://www.codewars.com/kata/linked-lists-sorted-insert"
   ]
  },
  {
   "cell_type": "code",
   "execution_count": null,
   "id": "19878efb-2926-4c69-b8cc-9dbb65028578",
   "metadata": {},
   "outputs": [],
   "source": [
    "@test.describe(\"Fixed tests\")\n",
    "def check():\n",
    "    @test.it(\"should be able to handle an empty list.\")\n",
    "    def f():\n",
    "        test.assert_equals(insert_sort(None), None, \"sorting an empty linked list should return None.\")\n",
    "\n",
    "    @test.it(\"should be able to handle a list of length 1.\")\n",
    "    def f():\n",
    "        test.assert_equals(insert_sort(Node(5)).data, 5, \"list should be return if length is 1.\")\n",
    "\n",
    "    @test.it(\"should be able to handle a pre-sorted list of length 2.\")\n",
    "    def f():\n",
    "        test.assert_equals(insert_sort(build_one_two()).data, 1, \"Node at index 0 of InsertSort(1 -> 2) should return 1.\")\n",
    "        test.assert_equals(insert_sort(build_one_two()).next.data, 2, \"Node at index 1 InsertSort(1 -> 2) should return 2.\")\n",
    "        test.assert_equals(insert_sort(build_one_two()).next.next, None, \"Index 2 of InsertSort(1 -> 2) should return None.\")\n",
    "\n",
    "    @test.it(\"should be able to handle a reverse sorted list of length 2.\")\n",
    "    def f():\n",
    "        test.assert_equals(insert_sort(build_two_one()).data, 1, \"Node at index 0 of InsertSort(2 -> 1) should return 1.\")\n",
    "        test.assert_equals(insert_sort(build_two_one()).next.data, 2, \"Node at index 1 InsertSort(2 -> 1) should return 2.\")\n",
    "        test.assert_equals(insert_sort(build_two_one()).next.next, None, \"Index 2 of InsertSort(2 -> 1) should return None.\")\n",
    "\n",
    "    @test.it(\"should be able to handle a pre-sorted list of length 3.\")\n",
    "    def f():\n",
    "        test.assert_equals(insert_sort(build_one_two_three()).data, 1, \"Node at index 0 of InsertSort(1 -> 2 -> 3) should return 1.\")\n",
    "        test.assert_equals(insert_sort(build_one_two_three()).next.data, 2, \"Node at index 1 of InsertSort(1 -> 2 -> 3) should return 2.\")\n",
    "        test.assert_equals(insert_sort(build_one_two_three()).next.next.data, 3, \"Node at index 2 of InsertSort(1 -> 2 -> 3) should return 3.\")\n",
    "        test.assert_equals(insert_sort(build_one_two_three()).next.next.next, None, \"Value at index 3 of InsertSort(1 -> 2 -> 3) should be None.\")\n",
    "\n",
    "    @test.it(\"should be able to handle a reverse sorted list of length 3.\")\n",
    "    def f():\n",
    "        test.assert_equals(insert_sort(build_three_two_one()).data, 1, \"Node at index 0 of InsertSort(3 -> 2 -> 1) should return 1.\")\n",
    "        test.assert_equals(insert_sort(build_three_two_one()).next.data, 2, \"Node at index 1 of InsertSort(3 -> 2 -> 1) should return 2.\")\n",
    "        test.assert_equals(insert_sort(build_three_two_one()).next.next.data, 3, \"Node at index 2 of InsertSort(3 -> 2 -> 1) should return 3.\")\n",
    "        test.assert_equals(insert_sort(build_three_two_one()).next.next.next, None, \"Value at index 3 of InsertSort(3 -> 2 -> 1) should be None.\")\n",
    "\n",
    "    @test.it(\"should be able to handle an unordered list of length > 3.\")\n",
    "    def f():\n",
    "        test.assert_equals(insert_sort(build_nodes([4, 8, 1, 3, 2, 9, 6, 5, 9, 2])).data, 1, \"Node at index 0 of InsertSort(4 -> 8 -> 1 -> 3 -> 2 -> 9 -> 6 -> 5 -> 9 ->2) should return 1.\")\n",
    "        test.assert_equals(insert_sort(build_nodes([4, 8, 1, 3, 2, 9, 6, 5, 9, 2])).next.data, 2, \"Node at index 1 of InsertSort(4 -> 8 -> 1 -> 3 -> 2 -> 9 -> 6 -> 5 -> 9 ->2) should return 2.\")\n",
    "        test.assert_equals(insert_sort(build_nodes([4, 8, 1, 3, 2, 9, 6, 5, 9, 2])).next.next.data, 2, \"Node at index 2 of InsertSort(4 -> 8 -> 1 -> 3 -> 2 -> 9 -> 6 -> 5 -> 9 ->2) should return 2.\")\n",
    "        test.assert_equals(insert_sort(build_nodes([4, 8, 1, 3, 2, 9, 6, 5, 9, 2])).next.next.next.data, 3, \"Value at index 3 of InsertSort(4 -> 8 -> 1 -> 3 -> 2 -> 9 -> 6 -> 5 -> 9 ->2) should be 3.\")\n",
    "        test.assert_equals(insert_sort(build_nodes([4, 8, 1, 3, 2, 9, 6, 5, 9, 2])).next.next.next.next.data, 4, \"Value at index 4 of InsertSort(4 -> 8 -> 1 -> 3 -> 2 -> 9 -> 6 -> 5 -> 9 ->2) should be 4.\")\n",
    "        test.assert_equals(insert_sort(build_nodes([4, 8, 1, 3, 2, 9, 6, 5, 9, 2])).next.next.next.next.next.data, 5, \"Value at index 5 of InsertSort(4 -> 8 -> 1 -> 3 -> 2 -> 9 -> 6 -> 5 -> 9 ->2) should be 5.\")\n",
    "        test.assert_equals(insert_sort(build_nodes([4, 8, 1, 3, 2, 9, 6, 5, 9, 2])).next.next.next.next.next.next.data, 6, \"Value at index 6 of InsertSort(4 -> 8 -> 1 -> 3 -> 2 -> 9 -> 6 -> 5 -> 9 ->2) should be 6.\")\n",
    "        test.assert_equals(insert_sort(build_nodes([4, 8, 1, 3, 2, 9, 6, 5, 9, 2])).next.next.next.next.next.next.next.data, 8, \"Value at index 7 of InsertSort(4 -> 8 -> 1 -> 3 -> 2 -> 9 -> 6 -> 5 -> 9 ->2) should be 8.\")\n",
    "        test.assert_equals(insert_sort(build_nodes([4, 8, 1, 3, 2, 9, 6, 5, 9, 2])).next.next.next.next.next.next.next.next.data, 9, \"Value at index 8 of InsertSort(4 -> 8 -> 1 -> 3 -> 2 -> 9 -> 6 -> 5 -> 9 ->2) should be 9.\")\n",
    "        test.assert_equals(insert_sort(build_nodes([4, 8, 1, 3, 2, 9, 6, 5, 9, 2])).next.next.next.next.next.next.next.next.next.data, 9, \"Value at index 9 of InsertSort(4 -> 8 -> 1 -> 3 -> 2 -> 9 -> 6 -> 5 -> 9 ->2) should be 9.\")\n",
    "        test.assert_equals(insert_sort(build_nodes([4, 8, 1, 3, 2, 9, 6, 5, 9, 2])).next.next.next.next.next.next.next.next.next.next, None, \"Value at index 10 of InsertSort(4 -> 8 -> 1 -> 3 -> 2 -> 9 -> 6 -> 5 -> 9 ->2) should be None.\")"
   ]
  },
  {
   "cell_type": "code",
   "execution_count": 231,
   "id": "f7195697-af99-4ae6-9717-e5caa1df6acc",
   "metadata": {},
   "outputs": [],
   "source": [
    "class Node(object):\n",
    "    def __init__(self, data):\n",
    "        self.data = data\n",
    "        self.next = None\n",
    "\n",
    "def count_node(head):\n",
    "    # 計算linkedlist有多\n",
    "    num = 0 \n",
    "    while head:\n",
    "        num+=1\n",
    "        head = head.next\n",
    "    return num\n",
    "\n",
    "def insert_sort(head):\n",
    "    if head == None:\n",
    "        return None\n",
    "    elif count_node( head ) ==1:# 如果只有單一一個node,變回傳單一結果\n",
    "        return head\n",
    "    else:\n",
    "        result_list = []\n",
    "        while head:\n",
    "            result_list.append( head.data )\n",
    "            head = head.next\n",
    "        result_list = sorted(result_list)\n",
    "\n",
    "        new_node_head = Node( result_list[0] )\n",
    "        current = new_node_head\n",
    "        for i in result_list[1:] :\n",
    "            current.next = Node(i)\n",
    "            current = current.next          \n",
    "        return new_node_head     "
   ]
  },
  {
   "cell_type": "code",
   "execution_count": 239,
   "id": "11133bb9-8eab-478c-a880-8d4f51ed33e0",
   "metadata": {},
   "outputs": [],
   "source": [
    "base_node = build_two_one()#build_one_two_three_four_five_six()"
   ]
  },
  {
   "cell_type": "code",
   "execution_count": 224,
   "id": "26e66692-27f7-479a-a767-e9a5441e3f5e",
   "metadata": {},
   "outputs": [
    {
     "data": {
      "text/plain": [
       "0"
      ]
     },
     "execution_count": 224,
     "metadata": {},
     "output_type": "execute_result"
    }
   ],
   "source": [
    "count_node(None)"
   ]
  },
  {
   "cell_type": "code",
   "execution_count": 240,
   "id": "e00eca77-7498-4301-8f39-77019f380a56",
   "metadata": {},
   "outputs": [],
   "source": [
    "b = insert_sort(base_node)"
   ]
  },
  {
   "cell_type": "code",
   "execution_count": 242,
   "id": "e841087a-2298-4372-a04b-7371d5c9af56",
   "metadata": {},
   "outputs": [
    {
     "data": {
      "text/plain": [
       "1"
      ]
     },
     "execution_count": 242,
     "metadata": {},
     "output_type": "execute_result"
    }
   ],
   "source": [
    "b.data"
   ]
  },
  {
   "cell_type": "code",
   "execution_count": 243,
   "id": "bf06fcef-2ce0-43c4-9963-d4b9862d16c7",
   "metadata": {},
   "outputs": [
    {
     "data": {
      "text/plain": [
       "2"
      ]
     },
     "execution_count": 243,
     "metadata": {},
     "output_type": "execute_result"
    }
   ],
   "source": [
    "base_node.data"
   ]
  },
  {
   "cell_type": "code",
   "execution_count": 256,
   "id": "719408d5-8d0c-4023-ba41-e9b0c436468d",
   "metadata": {},
   "outputs": [],
   "source": [
    "class Node_(object):\n",
    "    def __init__(self, data, next = None):\n",
    "        self.data = data\n",
    "        self.next = next\n",
    "    \n",
    "head = Node_(5)# 皆在前面的方法"
   ]
  },
  {
   "cell_type": "code",
   "execution_count": 257,
   "id": "75e16ea8-54a7-490e-9e0e-44d87b8579a4",
   "metadata": {},
   "outputs": [],
   "source": [
    "head = Node_(1, head)"
   ]
  },
  {
   "cell_type": "code",
   "execution_count": 259,
   "id": "c81d54d1-a19a-469e-924a-0d85603d03b6",
   "metadata": {},
   "outputs": [
    {
     "data": {
      "text/plain": [
       "1"
      ]
     },
     "execution_count": 259,
     "metadata": {},
     "output_type": "execute_result"
    }
   ],
   "source": [
    "head.data"
   ]
  },
  {
   "cell_type": "code",
   "execution_count": 254,
   "id": "2f1f1b4d-06bf-49e1-9422-6dfee48548af",
   "metadata": {},
   "outputs": [],
   "source": [
    "class Node(object):\n",
    "    def __init__(self, data):\n",
    "        self.data = data\n",
    "        self.next = None"
   ]
  },
  {
   "cell_type": "code",
   "execution_count": 264,
   "id": "07f4b6a3-2fc0-4383-9fb1-ab0388bfff5e",
   "metadata": {},
   "outputs": [],
   "source": [
    "head_ = Node(5)# 皆在前面的方法"
   ]
  },
  {
   "cell_type": "code",
   "execution_count": 265,
   "id": "1e6822d6-45c8-48b0-a1c0-788e0eb273bf",
   "metadata": {},
   "outputs": [],
   "source": [
    "new_node = Node(1)\n",
    "new_node.next = head_\n",
    "head_ = new_node"
   ]
  },
  {
   "cell_type": "code",
   "execution_count": 267,
   "id": "1b18e314-63c2-43c8-981f-c4faaacf02f4",
   "metadata": {},
   "outputs": [
    {
     "data": {
      "text/plain": [
       "5"
      ]
     },
     "execution_count": 267,
     "metadata": {},
     "output_type": "execute_result"
    }
   ],
   "source": [
    "new_node.next.data"
   ]
  },
  {
   "cell_type": "markdown",
   "id": "5612833b-3bc9-435f-b040-666257c92b63",
   "metadata": {},
   "source": [
    "# Linked Lists - Sorted Insert\n",
    "https://www.codewars.com/kata/55cc33e97259667a08000044/train/python"
   ]
  },
  {
   "cell_type": "code",
   "execution_count": null,
   "id": "b3e9c39b-c7d8-4f8d-8471-e43c4a179ef7",
   "metadata": {},
   "outputs": [],
   "source": [
    "@test.describe(\"Tests\")\n",
    "def te():\n",
    "    @test.it(\"should be able to handle an empty list.\")\n",
    "    def check():\n",
    "        test.assert_equals(sorted_insert(None, 23).data, 23, \"should be able to insert a node on an empty/None list.\")\n",
    "        test.assert_equals(sorted_insert(None, 23).next, None, \"value at index 1 should be None.\")\n",
    "\n",
    "    @test.it(\"should be able to insert a new node at the head of a list.\")\n",
    "    def check():\n",
    "        test.assert_equals(sorted_insert(build_one_two_three(), 0.5).data, 0.5, \"should be able to insert new node at head of list.\")\n",
    "        test.assert_equals(sorted_insert(build_one_two_three(), 0.5).next.data, 1, \"value for node at index 1 should be 1.\")\n",
    "        test.assert_equals(sorted_insert(build_one_two_three(), 0.5).next.next.data, 2, \"value for node at index 2 should be 2.\")\n",
    "        test.assert_equals(sorted_insert(build_one_two_three(), 0.5).next.next.next.data, 3, \"value for node at index 3 should be 3.\")\n",
    "        test.assert_equals(sorted_insert(build_one_two_three(), 0.5).next.next.next.next, None, \"value at index 4 should be None.\")\n",
    "\n",
    "    @test.it(\"should be able to insert a new node at index 1 of a list.\")\n",
    "    def check():\n",
    "        test.assert_equals(sorted_insert(build_one_two_three(), 1.5).data, 1, \"value for node at index 0 should be 1.\")\n",
    "        test.assert_equals(sorted_insert(build_one_two_three(), 1.5).next.data, 1.5, \"value for node at index 1 should be 1.5\")\n",
    "        test.assert_equals(sorted_insert(build_one_two_three(), 1.5).next.next.data, 2, \"value for node at index 2 should be 2.\")\n",
    "        test.assert_equals(sorted_insert(build_one_two_three(), 1.5).next.next.next.data, 3, \"value for node at index 3 should be 3.\")\n",
    "        test.assert_equals(sorted_insert(build_one_two_three(), 1.5).next.next.next.next, None, \"value at index 4 should be None.\")\n",
    "\n",
    "    @test.it(\"should be able to insert a new node at index 2 of a list.\")\n",
    "    def check():\n",
    "        test.assert_equals(sorted_insert(build_one_two_three(), 2.5).data, 1, \"head should remain unchanged after inserting new node at index 2\")\n",
    "        test.assert_equals(sorted_insert(build_one_two_three(), 2.5).next.data, 2, \"value at index 1 should remain unchanged after inserting new node at index 2\")\n",
    "        test.assert_equals(sorted_insert(build_one_two_three(), 2.5).next.next.data, 2.5, \"value for node at index 2 should be 2.5.\")\n",
    "        test.assert_equals(sorted_insert(build_one_two_three(), 2.5).next.next.next.data, 3, \"value for node at index 3 should be 3.\")\n",
    "        test.assert_equals(sorted_insert(build_one_two_three(), 2.5).next.next.next.next, None, \"value at index 4 should be None.\")\n",
    "\n",
    "    @test.it(\"should be able to insert a new node at tail of a list.\")\n",
    "    def check():\n",
    "        test.assert_equals(sorted_insert(build_one_two_three(), 3.5).data, 1, \"head should remain unchanged after inserting new node at tail\")\n",
    "        test.assert_equals(sorted_insert(build_one_two_three(), 3.5).next.data, 2, \"value at index 1 should remain unchanged after inserting new node at tail\")\n",
    "        test.assert_equals(sorted_insert(build_one_two_three(), 3.5).next.next.data, 3, \"value for node at index 2 should be 3.\")\n",
    "        test.assert_equals(sorted_insert(build_one_two_three(), 3.5).next.next.next.data, 3.5, \"value for node at index 3 should be 3.5.\")\n",
    "        test.assert_equals(sorted_insert(build_one_two_three(), 3.5).next.next.next.next, None, \"value at index 4 should be None.\")\n",
    "        "
   ]
  },
  {
   "cell_type": "code",
   "execution_count": 298,
   "id": "fed55a7a-4110-4ba2-8689-082e35c7f877",
   "metadata": {},
   "outputs": [],
   "source": [
    "class Node(object):\n",
    "    def __init__(self, data):\n",
    "        self.data = data\n",
    "        self.next = None\n",
    "\n",
    "def sorted_insert(head, data):\n",
    "    # Your code goes here.\n",
    "    # Make sure to return the head of the list.\n",
    "    if head == None:\n",
    "        head = Node(data)\n",
    "        return head\n",
    "    else:\n",
    "        current_node = head\n",
    "        \n",
    "        current_node_next = current_node.next\n",
    "        \n",
    "        while current_node:\n",
    "            # 情境一 插在最前面\n",
    "            if data < current_node.data:\n",
    "                #print('2')\n",
    "                output_node = Node(data)\n",
    "                output_node.next = current_node\n",
    "                return output_node\n",
    "            # 情境三 插在最後面\n",
    "            elif data >= current_node.data and current_node_next==None:\n",
    "                #print('3')\n",
    "                output_node = Node(data)\n",
    "                current_node.next = output_node\n",
    "                return head\n",
    "            # 情境二 插在中間\n",
    "            else:#  data >= current_node.data and current_node_next!=None:\n",
    "                #print('2')\n",
    "                current_node_next_data = current_node.next.data\n",
    "                # 若今天此數值小於下一個node value，便把它插在最後\n",
    "                if data < current_node_next_data:\n",
    "                    output_node = Node(data)\n",
    "                    output_node.next = current_node.next\n",
    "                    current_node.next = output_node\n",
    "                    return head\n",
    "                current_node = current_node.next\n",
    "                current_node_next = current_node.next# 下下個，會了確保會跳到elif環境\n",
    "        #return head\n",
    "                    "
   ]
  },
  {
   "cell_type": "code",
   "execution_count": 307,
   "id": "d140a800-44f9-4fcb-aa66-b4af3ad7f972",
   "metadata": {},
   "outputs": [],
   "source": [
    "# 網路解法\n",
    "class Node(object):\n",
    "    def __init__(self, data):\n",
    "        self.data = data\n",
    "        self.next = None\n",
    "    \n",
    "def sorted_insert(head, data):\n",
    "    if head is None or head.data > data:\n",
    "        return push(head, data)\n",
    "\n",
    "    current = head\n",
    "    while current.next and data > current.next.data:\n",
    "        current = current.next\n",
    "\n",
    "    current.next = push(current.next, data)\n",
    "    return head"
   ]
  },
  {
   "cell_type": "code",
   "execution_count": 306,
   "id": "eaaf38fc-127e-439f-95aa-2bf7506ead4e",
   "metadata": {},
   "outputs": [
    {
     "name": "stdout",
     "output_type": "stream",
     "text": [
      "2\n",
      "2\n"
     ]
    },
    {
     "data": {
      "text/plain": [
       "3"
      ]
     },
     "execution_count": 306,
     "metadata": {},
     "output_type": "execute_result"
    }
   ],
   "source": [
    "# 情況一，插在第一個\n",
    "#sorted_insert(build_one_two_three(), 0.5).next.next.next.data\n",
    "# 情況二，插在中間\n",
    "#sorted_insert(build_one_two_three(), 3.5).next.next.next.next#.data\n",
    "\n",
    "# 情況三插在最後一個\n",
    "sorted_insert(build_one_two_three(), 2.5).next.next.next.data"
   ]
  },
  {
   "cell_type": "markdown",
   "id": "a4e144ad-c001-42b9-8843-03b1ca6c8390",
   "metadata": {},
   "source": [
    "# Linked Lists - Move Node\n",
    "https://www.codewars.com/kata/55da347204760ba494000038/train/python"
   ]
  },
  {
   "cell_type": "code",
   "execution_count": null,
   "id": "b4b1b440-4309-41b4-95c5-3a9382bd7336",
   "metadata": {},
   "outputs": [],
   "source": [
    "@test.describe(\"Fixed tests\")\n",
    "def fxd():\n",
    "    @test.it(\"should be able to handle two empty lists.\")\n",
    "    def f():\n",
    "        test.expect_error(\"error should be thrown when source list is empty\", lambda : move_node(None, None))\n",
    "    \n",
    "    @test.it(\"should be able to handle one empty list.\")\n",
    "    def f():\n",
    "        test.expect_error(\"error should be thrown when source list is empty\", lambda : move_node(None, Node(23)))\n",
    "        assert_context_equals(move_node(build_one_two_three(), None), Context(build_list([2, 3]), Node(1)))\n",
    "    \n",
    "    @test.it(\"should be able to handle two non-empty lists.\")\n",
    "    def f():\n",
    "        assert_context_equals(move_node(build_one_two_three(), build_one_two_three()), Context(build_list([2, 3]), build_list([1, 1, 2, 3])))\n",
    "        assert_context_equals(move_node(build_one_two_three_four_five_six(), build_one_two_three_four_five_six()), Context(build_list([2, 3, 4, 5, 6]), build_list([1, 1, 2, 3, 4, 5, 6])))\n",
    "        assert_context_equals(move_node(build_list([1, 2, 3, 4, 5, 6, 7]), build_list([4, 5, 6, 7])), Context(build_list([2, 3, 4, 5, 6, 7]), build_list([1, 4, 5, 6, 7])))"
   ]
  },
  {
   "cell_type": "code",
   "execution_count": 321,
   "id": "74147317-9bca-4ee0-9ee9-163d568e47c5",
   "metadata": {},
   "outputs": [],
   "source": [
    "class Node(object):\n",
    "    def __init__(self, data):\n",
    "        self.data = data\n",
    "        self.next = None\n",
    "    \n",
    "class Context(object):\n",
    "    def __init__(self, source, dest):\n",
    "        self.source = source\n",
    "        self.dest = dest\n",
    "    \n",
    "def move_node(source, dest):\n",
    "    # Your code goes here.\n",
    "    c = Context(source, dest)\n",
    "    \n",
    "    \n",
    "    source_node = c.source\n",
    "    dest_node = c.dest\n",
    "    if source_node ==None:\n",
    "        raise Error\n",
    "    else:\n",
    "    \n",
    "        source_node_data = source_node.data\n",
    "        source_node = source_node.next\n",
    "\n",
    "        dest_node = push(dest_node, source_node_data)    \n",
    "    # Remember to return the context.\n",
    "    return Context(source_node, dest_node)"
   ]
  },
  {
   "cell_type": "code",
   "execution_count": 314,
   "id": "2f2eea27-d27d-45de-807a-7a21ecd75579",
   "metadata": {},
   "outputs": [],
   "source": [
    "c = Context( build_one_two_three(), build_one_two_three() ) "
   ]
  },
  {
   "cell_type": "code",
   "execution_count": 322,
   "id": "ab4e6c14-c50b-4be0-a1c5-922829c99547",
   "metadata": {},
   "outputs": [],
   "source": [
    "c = move_node( build_one_two_three(), None )"
   ]
  },
  {
   "cell_type": "code",
   "execution_count": 323,
   "id": "77f290ad-fbd6-4459-ad4e-a47bb37916ff",
   "metadata": {},
   "outputs": [
    {
     "name": "stdout",
     "output_type": "stream",
     "text": [
      "2\n",
      "3\n"
     ]
    }
   ],
   "source": [
    "ccc = c.source\n",
    "while ccc:\n",
    "    print(ccc.data)\n",
    "    ccc = ccc.next"
   ]
  },
  {
   "cell_type": "code",
   "execution_count": 324,
   "id": "193ea732-4576-44af-8b7f-d6196559d0d0",
   "metadata": {},
   "outputs": [
    {
     "name": "stdout",
     "output_type": "stream",
     "text": [
      "1\n"
     ]
    }
   ],
   "source": [
    "ccc = c.dest\n",
    "while ccc:\n",
    "    print(ccc.data)\n",
    "    ccc = ccc.next"
   ]
  },
  {
   "cell_type": "code",
   "execution_count": null,
   "id": "132ad33e-25f7-46ff-bb68-6bf09671b74a",
   "metadata": {},
   "outputs": [],
   "source": [
    "# 網路解\n",
    "class Node(object):\n",
    "  def __init__(self, data, nxt = None):\n",
    "    self.data, self.next = data, nxt\n",
    "class Context(object):\n",
    "  def __init__(self, source, dest):\n",
    "    self.source, self.dest = source, dest\n",
    "def move_node(source, dest):\n",
    "  if source is None: raise ValueError\n",
    "  return Context(source.next, Node(source.data, dest))"
   ]
  },
  {
   "cell_type": "markdown",
   "id": "2857cae1-e954-4ccf-b22b-075b9f2d59a4",
   "metadata": {},
   "source": [
    "# Linked Lists - Remove Duplicates\n",
    "https://www.codewars.com/kata/55d9f257d60c5fd98d00001b/train/python"
   ]
  },
  {
   "cell_type": "code",
   "execution_count": null,
   "id": "bb541115-9298-4935-abb5-1bb918ac5035",
   "metadata": {},
   "outputs": [],
   "source": [
    "test.it(\"should be able to handle an empty list.\")\n",
    "test.assert_equals(remove_duplicates(None), None, \"removing duplicates from None should return None.\")\n",
    "\n",
    "test.it(\"should be able to handle a list of length 1.\")\n",
    "test.assert_equals(remove_duplicates(Node(23)).data, 23, \"removing duplicates from linked list consisting of one node should return the node.\")\n",
    "\n",
    "test.it(\"should be able to handle a list without duplicates.\")\n",
    "assert_linked_list_equals(remove_duplicates(build_one_two_three()), build_one_two_three(), \"removing duplicates from a linked list without duplicates node should return the list.\")\n",
    "assert_linked_list_equals(remove_duplicates(build_one_two_three_four_five_six()), build_one_two_three_four_five_six(), \"removing duplicates from linked list without duplicates node should return the list.\")\n",
    "\n",
    "test.it(\"should be able to handle a list with duplicates.\")\n",
    "assert_linked_list_equals(remove_duplicates(build_list([1, 2, 2])), build_list([1, 2]), \"should remove the duplicate '2' entries\")\n",
    "assert_linked_list_equals(remove_duplicates(build_list([1, 1, 1, 1, 1])), build_list([1]), \"should remove the duplicate '1' entries\")\n",
    "assert_linked_list_equals(remove_duplicates(build_list([1, 2, 3, 3, 4, 4, 5])), build_list([1, 2, 3, 4, 5]), \"should remove the duplicate '3' and '4' entries\")\n",
    "assert_linked_list_equals(remove_duplicates(build_list([1, 1, 1, 1, 2, 2, 2, 2])), build_list([1, 2]), \"should remove the duplicate '1' and '2' entries\")"
   ]
  },
  {
   "cell_type": "code",
   "execution_count": 410,
   "id": "8fdd9435-73d4-49c6-8204-6361f793511a",
   "metadata": {},
   "outputs": [],
   "source": [
    "class Node(object):\n",
    "    def __init__(self, data):\n",
    "        self.data = data\n",
    "        self.next = None"
   ]
  },
  {
   "cell_type": "markdown",
   "id": "f6e054fd-8cb0-4659-a257-5d091bd4a545",
   "metadata": {},
   "source": [
    "def remove_duplicates(head):\n",
    "    # Your code goes here.\n",
    "    # Remember to return the head of the list.\n",
    "    num_set = set([])\n",
    "    #current_node = head\n",
    "    base = 0\n",
    "    while head:\n",
    "        if base ==0:\n",
    "            output_node = Node(head.data)\n",
    "            current_node = output_node\n",
    "            base+=1\n",
    "            num_set.add(head.data)\n",
    "            head = head.next\n",
    "        else:    \n",
    "            if head.data in num_set:\n",
    "                head = head.next\n",
    "            else:\n",
    "                #print(head.data)#若此數字過去未曾出現過，會加在當後方\n",
    "                replace_node = Node(head.data)\n",
    "                current_node.next = replace_node\n",
    "                current_node = replace_node\n",
    "                ####\n",
    "                num_set.add(head.data )\n",
    "                head = head.next\n",
    "    try:\n",
    "        return output_node\n",
    "    except:\n",
    "        return None"
   ]
  },
  {
   "cell_type": "code",
   "execution_count": 422,
   "id": "f21135e1-0c81-415d-930c-8cdcd63e3ed3",
   "metadata": {},
   "outputs": [],
   "source": [
    "a = Node(1)\n",
    "a = push(a , 1)\n",
    "a = push(a , 2)\n",
    "a = push(a , 2)\n",
    "a = push(a , 2)\n",
    "a = push(a , 3)"
   ]
  },
  {
   "cell_type": "code",
   "execution_count": 375,
   "id": "11c1c6d5-9e47-4e8b-934c-cea006e623ae",
   "metadata": {},
   "outputs": [
    {
     "data": {
      "text/plain": [
       "3"
      ]
     },
     "execution_count": 375,
     "metadata": {},
     "output_type": "execute_result"
    }
   ],
   "source": [
    "a.data"
   ]
  },
  {
   "cell_type": "code",
   "execution_count": 347,
   "id": "d152e7f1-003c-431f-bba7-51f49930cfb0",
   "metadata": {},
   "outputs": [
    {
     "data": {
      "text/plain": [
       "2"
      ]
     },
     "execution_count": 347,
     "metadata": {},
     "output_type": "execute_result"
    }
   ],
   "source": [
    "Node(1,Node(2)).next.data"
   ]
  },
  {
   "cell_type": "code",
   "execution_count": 423,
   "id": "46082c40-90de-4f5e-9ec1-52c3dfa12d08",
   "metadata": {},
   "outputs": [],
   "source": [
    "b= remove_duplicates(a)"
   ]
  },
  {
   "cell_type": "code",
   "execution_count": 425,
   "id": "80705bda-f79d-4a15-ac90-84986ad7a6b7",
   "metadata": {},
   "outputs": [
    {
     "data": {
      "text/plain": [
       "3"
      ]
     },
     "execution_count": 425,
     "metadata": {},
     "output_type": "execute_result"
    }
   ],
   "source": [
    "b.data"
   ]
  },
  {
   "cell_type": "markdown",
   "id": "3bd4ce1a-71f0-4a06-ad09-18a15277a1db",
   "metadata": {},
   "source": [
    "# Linked Lists - Alternating Split\n",
    "https://www.codewars.com/kata/55dd5386575839a74f0000a9/train/python"
   ]
  },
  {
   "cell_type": "code",
   "execution_count": 427,
   "id": "6f63199c-9786-49bf-83d1-5690ec9a8075",
   "metadata": {
    "collapsed": true,
    "jupyter": {
     "outputs_hidden": true
    },
    "tags": []
   },
   "outputs": [
    {
     "data": {
      "text/plain": [
       "'\\n@test.describe(\"Test\")\\ndef tes():\\n    @test.it(\"should be able to handle an empty list.\")\\n    def f():\\n        test.expect_error(\"splitting a None list should throw an error.\", lambda : alternating_split(None))\\n\\n    @test.it(\"should be able to handle a list of length 1.\")\\n    def f():\\n        test.expect_error(\"splitting a single node list should throw an error.\", lambda : alternating_split(Node(23)))\\n\\n    @test.it(\"should be able to handle a list of length 2.\")\\n    def f():\\n        test.assert_equals(alternating_split(build_one_two()).first.data, 1, \"First index of first linked list should have value of 1.\")\\n        test.assert_equals(alternating_split(build_one_two()).first.next, None, \"Second index of first linked list should be None.\")\\n        test.assert_equals(alternating_split(build_one_two()).second.data, 2, \"First index of second linked list should have value of 2.\")\\n        test.assert_equals(alternating_split(build_one_two()).second.next, None, \"Second index of second linked list should be None.\")\\n\\n    @test.it(\"should be able to handle a list of length 3\")\\n    def f():\\n        test.assert_equals(alternating_split(build_one_two_three()).first.data, 1, \"First index of first linked list should have value of 1.\")\\n        test.assert_equals(alternating_split(build_one_two_three()).first.next.data, 3, \"Second index of first linked list should have value 3.\")\\n        test.assert_equals(alternating_split(build_one_two_three()).first.next.next, None, \"Third index of first linked list should be None.\")\\n        test.assert_equals(alternating_split(build_one_two_three()).second.data, 2, \"First index of second linked list should have value of 2.\")\\n        test.assert_equals(alternating_split(build_one_two_three()).second.next, None, \"Second index of second linked list should be None.\")\\n\\n    @test.it(\"should be able to handle a list of length 6\")\\n    def f():\\n        assert_linked_list_equals(alternating_split(build_one_two_three_four_five_six()).first, build_list([1, 3, 5]), \"First list of alternating_split(1 -> 2 -> 3 -> ... 6 -> None) should be 1 -> 3 -> 5 -> None\")\\n        assert_linked_list_equals(alternating_split(build_one_two_three_four_five_six()).second, build_list([2, 4, 6]), \"Second list of alternating_split(1 -> 2 -> 3 -> ... 6 -> None) should be 2 -> 4 -> 6 -> None\")\\n        test.assert_equals(alternating_split(build_one_two_three_four_five_six()).first.next.next.next, None, \"Fourth index of first linked list should be None.\")\\n        test.assert_equals(alternating_split(build_one_two_three_four_five_six()).second.next.next.next, None, \"Fourth index of second linked list should be None.\")\\n\\n    @test.it(\"should be able to handle a list of length 11\")\\n    def f():\\n        assert_linked_list_equals(alternating_split(build_list([1, 2, 3, 4, 5, 6, 7, 8, 9, 10, 11])).first, build_list([1, 3, 5, 7, 9, 11]), \"First list of alternating_split(1 -> 2 -> 3 -> ... 11 -> None) should be 1 -> 3 -> 5 -> 7 -> 9 -> 11 -> None\")\\n        assert_linked_list_equals(alternating_split(build_list([1, 2, 3, 4, 5, 6, 7, 8, 9, 10, 11])).second, build_list([2, 4, 6, 8, 10]), \"Second list of alternating_split(1 -> 2 -> 3 -> ... 11 -> None) should be 2 -> 4 -> 6 -> 8 -> 10 -> None\")\\n        assert_linked_list_equals(alternating_split(build_list([1, 2, 3, 4, 5, 6, 7, 8, 9, 10, 11])).first.next.next.next.next.next.next, None, \"Seventh index of first linked list should be None.\")\\n        assert_linked_list_equals(alternating_split(build_list([1, 2, 3, 4, 5, 6, 7, 8, 9, 10, 11])).second.next.next.next.next.next, None, \"Sixth index of second linked list should be None.\")\\n\\n    @test.it(\"should be able to handle are large unordered list.\")\\n    def f():\\n        assert_linked_list_equals(alternating_split(build_list([5, 6, 1, 2, 3, 3, 3, 4, 8, 5, 4, 1])).first, build_list([5, 1, 3, 3, 8, 4]), \"First list of alternating_split(5 -> 6 -> 1 -> 2 -> 3 -> 3 -> 3 -> 4 -> 8 -> 5 -> 4 -> 1 -> None) should be 5 -> 1 -> 3 -> 3 -> 8 -> 4 -> None\")\\n        assert_linked_list_equals(alternating_split(build_list([5, 6, 1, 2, 3, 3, 3, 4, 8, 5, 4, 1])).second, build_list([6, 2, 3, 4, 5, 1]), \"Second list of alternating_split(5 -> 6 -> 1 -> 2 -> 3 -> 3 -> 3 -> 4 -> 8 -> 5 -> 4 -> 1 -> None) should be 6 -> 2 -> 3 -> 4 -> 5 -> -> 1 -> None\")\\n        assert_linked_list_equals(alternating_split(build_list([5, 6, 1, 2, 3, 3, 3, 4, 8, 5, 4, 1])).first.next.next.next.next.next.next, None, \"Seventh index of first linked list should be None.\")\\n        assert_linked_list_equals(alternating_split(build_list([5, 6, 1, 2, 3, 3, 3, 4, 8, 5, 4, 1])).second.next.next.next.next.next.next, None, \"Seventh index of second linked list should be None.\")\\n   '"
      ]
     },
     "execution_count": 427,
     "metadata": {},
     "output_type": "execute_result"
    }
   ],
   "source": [
    "def push(head, data):\n",
    "  newNode = Node(data)\n",
    "  newNode.next = head\n",
    "  return newNode\n",
    "\n",
    "def build_one_two_three():\n",
    "  head = None\n",
    "  head = push(head, 3)\n",
    "  head = push(head, 2)\n",
    "  head = push(head, 1)\n",
    "  return head\n",
    "  \n",
    "def build_one_two():\n",
    "  head = None\n",
    "  head = push(head, 2)\n",
    "  head = push(head, 1)\n",
    "  return head\n",
    "\n",
    "def build_one_two_three_four_five_six():\n",
    "  head = None\n",
    "  head = push(head, 6)\n",
    "  head = push(head, 5)\n",
    "  head = push(head, 4)\n",
    "  head = push(head, 3)\n",
    "  head = push(head, 2)\n",
    "  head = push(head, 1)\n",
    "  return head\n",
    "  \n",
    "def build_list(data):\n",
    "  data.reverse()\n",
    "  head = None\n",
    "  for num in data:\n",
    "    head = push(head, num)\n",
    "  return head\n",
    "\n",
    "def assert_linked_list_equals(listA, listB, message):\n",
    "  while listA is not None and listB is not None:\n",
    "    test.assert_equals(listA.data, listB.data, message)\n",
    "    listA = listA.next\n",
    "    listB = listB.next\n",
    "  test.assert_equals(listA, None, message)\n",
    "  test.assert_equals(listB, None, message)\n",
    "\n",
    "'''\n",
    "@test.describe(\"Test\")\n",
    "def tes():\n",
    "    @test.it(\"should be able to handle an empty list.\")\n",
    "    def f():\n",
    "        test.expect_error(\"splitting a None list should throw an error.\", lambda : alternating_split(None))\n",
    "\n",
    "    @test.it(\"should be able to handle a list of length 1.\")\n",
    "    def f():\n",
    "        test.expect_error(\"splitting a single node list should throw an error.\", lambda : alternating_split(Node(23)))\n",
    "\n",
    "    @test.it(\"should be able to handle a list of length 2.\")\n",
    "    def f():\n",
    "        test.assert_equals(alternating_split(build_one_two()).first.data, 1, \"First index of first linked list should have value of 1.\")\n",
    "        test.assert_equals(alternating_split(build_one_two()).first.next, None, \"Second index of first linked list should be None.\")\n",
    "        test.assert_equals(alternating_split(build_one_two()).second.data, 2, \"First index of second linked list should have value of 2.\")\n",
    "        test.assert_equals(alternating_split(build_one_two()).second.next, None, \"Second index of second linked list should be None.\")\n",
    "\n",
    "    @test.it(\"should be able to handle a list of length 3\")\n",
    "    def f():\n",
    "        test.assert_equals(alternating_split(build_one_two_three()).first.data, 1, \"First index of first linked list should have value of 1.\")\n",
    "        test.assert_equals(alternating_split(build_one_two_three()).first.next.data, 3, \"Second index of first linked list should have value 3.\")\n",
    "        test.assert_equals(alternating_split(build_one_two_three()).first.next.next, None, \"Third index of first linked list should be None.\")\n",
    "        test.assert_equals(alternating_split(build_one_two_three()).second.data, 2, \"First index of second linked list should have value of 2.\")\n",
    "        test.assert_equals(alternating_split(build_one_two_three()).second.next, None, \"Second index of second linked list should be None.\")\n",
    "\n",
    "    @test.it(\"should be able to handle a list of length 6\")\n",
    "    def f():\n",
    "        assert_linked_list_equals(alternating_split(build_one_two_three_four_five_six()).first, build_list([1, 3, 5]), \"First list of alternating_split(1 -> 2 -> 3 -> ... 6 -> None) should be 1 -> 3 -> 5 -> None\")\n",
    "        assert_linked_list_equals(alternating_split(build_one_two_three_four_five_six()).second, build_list([2, 4, 6]), \"Second list of alternating_split(1 -> 2 -> 3 -> ... 6 -> None) should be 2 -> 4 -> 6 -> None\")\n",
    "        test.assert_equals(alternating_split(build_one_two_three_four_five_six()).first.next.next.next, None, \"Fourth index of first linked list should be None.\")\n",
    "        test.assert_equals(alternating_split(build_one_two_three_four_five_six()).second.next.next.next, None, \"Fourth index of second linked list should be None.\")\n",
    "\n",
    "    @test.it(\"should be able to handle a list of length 11\")\n",
    "    def f():\n",
    "        assert_linked_list_equals(alternating_split(build_list([1, 2, 3, 4, 5, 6, 7, 8, 9, 10, 11])).first, build_list([1, 3, 5, 7, 9, 11]), \"First list of alternating_split(1 -> 2 -> 3 -> ... 11 -> None) should be 1 -> 3 -> 5 -> 7 -> 9 -> 11 -> None\")\n",
    "        assert_linked_list_equals(alternating_split(build_list([1, 2, 3, 4, 5, 6, 7, 8, 9, 10, 11])).second, build_list([2, 4, 6, 8, 10]), \"Second list of alternating_split(1 -> 2 -> 3 -> ... 11 -> None) should be 2 -> 4 -> 6 -> 8 -> 10 -> None\")\n",
    "        assert_linked_list_equals(alternating_split(build_list([1, 2, 3, 4, 5, 6, 7, 8, 9, 10, 11])).first.next.next.next.next.next.next, None, \"Seventh index of first linked list should be None.\")\n",
    "        assert_linked_list_equals(alternating_split(build_list([1, 2, 3, 4, 5, 6, 7, 8, 9, 10, 11])).second.next.next.next.next.next, None, \"Sixth index of second linked list should be None.\")\n",
    "\n",
    "    @test.it(\"should be able to handle are large unordered list.\")\n",
    "    def f():\n",
    "        assert_linked_list_equals(alternating_split(build_list([5, 6, 1, 2, 3, 3, 3, 4, 8, 5, 4, 1])).first, build_list([5, 1, 3, 3, 8, 4]), \"First list of alternating_split(5 -> 6 -> 1 -> 2 -> 3 -> 3 -> 3 -> 4 -> 8 -> 5 -> 4 -> 1 -> None) should be 5 -> 1 -> 3 -> 3 -> 8 -> 4 -> None\")\n",
    "        assert_linked_list_equals(alternating_split(build_list([5, 6, 1, 2, 3, 3, 3, 4, 8, 5, 4, 1])).second, build_list([6, 2, 3, 4, 5, 1]), \"Second list of alternating_split(5 -> 6 -> 1 -> 2 -> 3 -> 3 -> 3 -> 4 -> 8 -> 5 -> 4 -> 1 -> None) should be 6 -> 2 -> 3 -> 4 -> 5 -> -> 1 -> None\")\n",
    "        assert_linked_list_equals(alternating_split(build_list([5, 6, 1, 2, 3, 3, 3, 4, 8, 5, 4, 1])).first.next.next.next.next.next.next, None, \"Seventh index of first linked list should be None.\")\n",
    "        assert_linked_list_equals(alternating_split(build_list([5, 6, 1, 2, 3, 3, 3, 4, 8, 5, 4, 1])).second.next.next.next.next.next.next, None, \"Seventh index of second linked list should be None.\")\n",
    "   '''     \n",
    "        "
   ]
  },
  {
   "cell_type": "code",
   "execution_count": 442,
   "id": "1cba4dda-7976-46aa-87cb-be832f93349e",
   "metadata": {},
   "outputs": [],
   "source": [
    "class Node(object):\n",
    "    def __init__(self, data=None):\n",
    "        self.data = data\n",
    "        self.next = None\n",
    "    \n",
    "class Context(object):\n",
    "    def __init__(self, first, second):\n",
    "        self.first = first\n",
    "        self.second = second\n",
    "    \n",
    "#def alternating_split(head):\n",
    "    \n",
    "    # Your code goes here.\n",
    "    # Remember to return the context."
   ]
  },
  {
   "cell_type": "code",
   "execution_count": 467,
   "id": "3629b52e-7090-43c1-87d4-505ac390cdb3",
   "metadata": {},
   "outputs": [],
   "source": [
    "def count_node(head):\n",
    "    # 計算linkedlist有多\n",
    "    num = 0 \n",
    "    while head:\n",
    "        num+=1\n",
    "        head = head.next\n",
    "    return num\n",
    "def alternating_split(head):\n",
    "    # 當 該輪除二的餘數等於0時放在first , 其餘放在second\n",
    "    if count_node(head)<2:\n",
    "        raise Error\n",
    "    else:\n",
    "        base = 0 \n",
    "        first = Node()\n",
    "        second = Node()\n",
    "        first_current = first\n",
    "        second_current = second\n",
    "        while head:    \n",
    "            if base%2==0:\n",
    "                if first_current.data==None:\n",
    "                    first_current.data = head.data\n",
    "                else:\n",
    "                    new_node = Node(head.data)\n",
    "                    first_current.next = new_node\n",
    "                    first_current = new_node\n",
    "                base+=1\n",
    "            else:\n",
    "                if second_current.data==None:\n",
    "                    second_current.data = head.data\n",
    "                else:\n",
    "                    new_node = Node(head.data)\n",
    "                    second_current.next = new_node\n",
    "                    second_current = new_node        \n",
    "                base+=1\n",
    "            head = head.next    \n",
    "        return Context(first,second)"
   ]
  },
  {
   "cell_type": "code",
   "execution_count": 469,
   "id": "7c4cd7df-2c2f-4782-a068-20233b1894a2",
   "metadata": {},
   "outputs": [],
   "source": [
    "head = build_list([5, 6, 1, 2, 3, 3, 3, 4, 8, 5, 4, 1])\n",
    "c = alternating_split(head)"
   ]
  },
  {
   "cell_type": "code",
   "execution_count": 461,
   "id": "45ec3ab1-c5c8-4339-b997-8941a06a6efe",
   "metadata": {},
   "outputs": [
    {
     "data": {
      "text/plain": [
       "12"
      ]
     },
     "execution_count": 461,
     "metadata": {},
     "output_type": "execute_result"
    }
   ],
   "source": [
    "count_node(head)"
   ]
  },
  {
   "cell_type": "code",
   "execution_count": 465,
   "id": "8ed38904-bcc6-43f0-aa2e-965a4b183ab1",
   "metadata": {},
   "outputs": [
    {
     "name": "stdout",
     "output_type": "stream",
     "text": [
      "5\n",
      "1\n",
      "3\n",
      "3\n",
      "8\n",
      "4\n",
      "************\n",
      "6\n",
      "2\n",
      "3\n",
      "4\n",
      "5\n",
      "1\n"
     ]
    }
   ],
   "source": [
    "first = c.first\n",
    "second = c.second\n",
    "\n",
    "while first:\n",
    "    print(first.data)\n",
    "    first = first.next\n",
    "print('************')\n",
    "while second:\n",
    "    print(second.data)\n",
    "    second = second.next"
   ]
  },
  {
   "cell_type": "markdown",
   "id": "5aac11ba-05ad-45d3-b29b-f4e1ab84b434",
   "metadata": {},
   "source": [
    "# Linked Lists - Recursive Reverse\n",
    "https://www.codewars.com/kata/55e725b930957a038a000042/train/python"
   ]
  },
  {
   "cell_type": "code",
   "execution_count": null,
   "id": "1f017e4e-6e49-43b6-9a58-9a3920528c48",
   "metadata": {},
   "outputs": [],
   "source": [
    "@test.describe(\"Tests\")\n",
    "def check():\n",
    "    @test.it(\"should be able to handle a None list.\")\n",
    "    def f():\n",
    "        test.assert_equals(reverse(None), None, \"should return None if passed in list is None.\")\n",
    "    \n",
    "    @test.it(\"should be able to handle a list of length 1\")\n",
    "    def f():\n",
    "        _list = build_list([1])\n",
    "        assert_linked_list_equals(reverse(_list), build_list([1]), \"result should be 1 -> None.\")\n",
    "        \n",
    "    @test.it(\"should be able to handle lists of length 2\")\n",
    "    def f():\n",
    "        _list = build_list([1, 3])\n",
    "        assert_linked_list_equals(reverse(_list), build_list([3, 1]), \"result should be 3 -> 1 -> None.\")\n",
    "        _list = build_list([3, 1])\n",
    "        assert_linked_list_equals(reverse(_list), build_list([1, 3]), \"result should be 1 -> 3 -> None.\")\n",
    "    \n",
    "    @test.it(\"should be able to handle lists of length 3\")\n",
    "    def f():\n",
    "        _list = build_list([1, 3, 8])\n",
    "        assert_linked_list_equals(reverse(_list), build_list([8, 3, 1]), \"result should be 8 -> 3 -> 1 -> None.\")\n",
    "        _list = build_list([8, 3, 1])\n",
    "        assert_linked_list_equals(reverse(_list), build_list([1, 3, 8]), \"result should be 1 -> 3 -> 8 -> None.\")\n",
    "        _list = build_list([1, 8, 3])\n",
    "        assert_linked_list_equals(reverse(_list), build_list([3, 8, 1]), \"result should be 3 -> 8 -> 1 -> None.\")\n",
    "        _list = build_list([3, 8, 1])\n",
    "        assert_linked_list_equals(reverse(_list), build_list([1, 8, 3]), \"result should be 1 -> 8 -> 3 -> None.\")\n",
    "    \n",
    "    @test.it(\"should be able to handle a list of length 8\")\n",
    "    def f():\n",
    "        _list = build_list([1, 3, 5, 7, 9, 11, 13, 15])\n",
    "        assert_linked_list_equals(reverse(_list), build_list([15, 13, 11, 9, 7, 5, 3, 1]), \"result should be 15 -> 13 -> 11 ... -> 1 -> None.\")\n",
    "        _list = build_list([15, 13, 11, 9, 7, 5, 3, 1])\n",
    "        assert_linked_list_equals(reverse(_list), build_list([1, 3, 5, 7, 9, 11, 13, 15]), \"result should be 1 -> 3 -> 5 ... 15 -> None.\")\n",
    "        _list = build_list([9, 1, 7, 3, 5, 15, 13, 11])\n",
    "        assert_linked_list_equals(reverse(_list), build_list([11, 13, 15, 5, 3, 7, 1, 9]), \"result should be 11 -> 13 -> 15 -> 5 -> 3 -> 7 -> 1 -> 9 -> None.\")\n",
    "        _list = build_list([1, 1, 1, 1, 1, 1, 1, 1])\n",
    "        assert_linked_list_equals(reverse(_list), build_list([1, 1, 1, 1, 1, 1, 1, 1]), \"result should be 1 -> 1 -> 1 -> 1 -> 1 -> 1 -> 1 -> 1 -> None.\")\n",
    "    \n",
    "    @test.it(\"should be able to handle a very large list.\")\n",
    "    def f():\n",
    "        large_array = build_random_array(500)\n",
    "        _list = build_list(list(large_array))\n",
    "        large_reversed_array = list(large_array)\n",
    "        large_reversed_array.reverse()\n",
    "        assert_linked_list_equals(reverse(_list), build_list(large_reversed_array), \"result should equal large reversed list.\")\n",
    "        "
   ]
  },
  {
   "cell_type": "code",
   "execution_count": 505,
   "id": "e6aeea56-250e-4422-b1d6-5771fd9e407d",
   "metadata": {},
   "outputs": [],
   "source": [
    "class Node(object):\n",
    "    def __init__(self, data=None):\n",
    "        self.data = data\n",
    "        self.next = None\n",
    "\n",
    "def reverse(head):\n",
    "    try:\n",
    "        x = []\n",
    "        while head:\n",
    "            x.append(head.data)\n",
    "            head = head.next\n",
    "        x.reverse()\n",
    "        head = Node(x[0])\n",
    "        current_node = head\n",
    "        for i in x[1:]:\n",
    "            print(i)\n",
    "            new_node = Node(i)\n",
    "            current_node.next = new_node\n",
    "            current_node = new_node\n",
    "        return head\n",
    "    except:\n",
    "        return None\n"
   ]
  },
  {
   "cell_type": "code",
   "execution_count": 506,
   "id": "7bdfa922-e267-4f39-b2bc-5dc1908cdbb7",
   "metadata": {},
   "outputs": [],
   "source": [
    "head_Node = reverse(None)#build_list([11, 13, 15, 5, 3, 7, 1, 9]) )"
   ]
  },
  {
   "cell_type": "code",
   "execution_count": 502,
   "id": "ce89d786-31ff-4520-89a9-895d2b3c7646",
   "metadata": {},
   "outputs": [
    {
     "name": "stdout",
     "output_type": "stream",
     "text": [
      "9\n",
      "1\n",
      "7\n",
      "3\n",
      "5\n",
      "15\n",
      "13\n",
      "11\n"
     ]
    }
   ],
   "source": [
    "while head_Node:\n",
    "    print(head_Node.data)\n",
    "    head_Node = head_Node.next"
   ]
  },
  {
   "cell_type": "code",
   "execution_count": 535,
   "id": "de12ee88-6e06-423b-8aaa-6596d77d1a4b",
   "metadata": {},
   "outputs": [],
   "source": [
    "# 網路解法\n",
    "class Node:\n",
    "    def __init__(self, data=None, next=None):\n",
    "        self.data = data\n",
    "        self.next = next\n",
    "\n",
    "def reverse(head, tail=None):\n",
    "    tt = tail\n",
    "    while tt:\n",
    "        print(tt.data)\n",
    "        tt = tt.next\n",
    "    print('---')\n",
    "    return reverse( head.next, Node(head.data, next= tail) \n",
    "                  ) if head else tail"
   ]
  },
  {
   "cell_type": "code",
   "execution_count": 537,
   "id": "bad2a22b-7a55-40c5-9720-58cd076ca449",
   "metadata": {},
   "outputs": [
    {
     "name": "stdout",
     "output_type": "stream",
     "text": [
      "---\n",
      "11\n",
      "---\n",
      "13\n",
      "11\n",
      "---\n",
      "15\n",
      "13\n",
      "11\n",
      "---\n"
     ]
    }
   ],
   "source": [
    "head_Node = reverse(build_list([11, 13, 15]) )"
   ]
  },
  {
   "cell_type": "code",
   "execution_count": 531,
   "id": "3413688a-31f4-4200-9da7-70e727b48162",
   "metadata": {},
   "outputs": [
    {
     "data": {
      "text/plain": [
       "1"
      ]
     },
     "execution_count": 531,
     "metadata": {},
     "output_type": "execute_result"
    }
   ],
   "source": [
    "head_Node"
   ]
  },
  {
   "cell_type": "code",
   "execution_count": 538,
   "id": "2f130223-1c72-49ce-b108-10c7e6231a76",
   "metadata": {},
   "outputs": [
    {
     "name": "stdout",
     "output_type": "stream",
     "text": [
      "15\n",
      "13\n",
      "11\n"
     ]
    }
   ],
   "source": [
    "while head_Node:\n",
    "    print(head_Node.data)\n",
    "    head_Node = head_Node.next"
   ]
  },
  {
   "cell_type": "code",
   "execution_count": 520,
   "id": "9a4e779b-ca12-4eb8-9468-62c1dd85a58f",
   "metadata": {},
   "outputs": [
    {
     "data": {
      "text/plain": [
       "1"
      ]
     },
     "execution_count": 520,
     "metadata": {},
     "output_type": "execute_result"
    }
   ],
   "source": [
    "head_Node"
   ]
  }
 ],
 "metadata": {
  "kernelspec": {
   "display_name": "Python 3 (ipykernel)",
   "language": "python",
   "name": "python3"
  },
  "language_info": {
   "codemirror_mode": {
    "name": "ipython",
    "version": 3
   },
   "file_extension": ".py",
   "mimetype": "text/x-python",
   "name": "python",
   "nbconvert_exporter": "python",
   "pygments_lexer": "ipython3",
   "version": "3.9.13"
  }
 },
 "nbformat": 4,
 "nbformat_minor": 5
}
