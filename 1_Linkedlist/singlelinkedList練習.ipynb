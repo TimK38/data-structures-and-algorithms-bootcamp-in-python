{
 "cells": [
  {
   "cell_type": "code",
   "execution_count": 3,
   "id": "13785934-0e70-4eea-b608-b5f9b4f83aa3",
   "metadata": {},
   "outputs": [],
   "source": [
    "class Node:\n",
    "    def __init__(self, value=None):\n",
    "        self.value = value\n",
    "        self.next = None\n"
   ]
  },
  {
   "cell_type": "code",
   "execution_count": 4,
   "id": "da3af92d-269f-49d8-89d2-65a336cc6748",
   "metadata": {},
   "outputs": [],
   "source": [
    "a = Node(5)"
   ]
  },
  {
   "cell_type": "code",
   "execution_count": null,
   "id": "ff5d7736-852d-4ffd-a89d-17d5898debb7",
   "metadata": {},
   "outputs": [],
   "source": [
    "a.next = 5"
   ]
  },
  {
   "cell_type": "code",
   "execution_count": 57,
   "id": "c2bcf864-863c-488c-b6bc-7e754f94b908",
   "metadata": {},
   "outputs": [],
   "source": [
    "a.next = 9"
   ]
  },
  {
   "cell_type": "code",
   "execution_count": 61,
   "id": "390984ea-e690-4c84-a211-7529ed2670ee",
   "metadata": {},
   "outputs": [
    {
     "name": "stdout",
     "output_type": "stream",
     "text": [
      "9\n"
     ]
    }
   ],
   "source": [
    "print(a.next)"
   ]
  },
  {
   "cell_type": "code",
   "execution_count": 28,
   "id": "3d7cbf1a-220b-4791-87cf-ffbe7c39bf87",
   "metadata": {},
   "outputs": [],
   "source": [
    "def test():\n",
    "    number = 0\n",
    "    while number <= 10:\n",
    "        yield number\n",
    "        number+=2\n",
    "a = test()"
   ]
  },
  {
   "cell_type": "code",
   "execution_count": 29,
   "id": "24d078ee-97e8-4ca9-8db3-e6d33c6c9c21",
   "metadata": {},
   "outputs": [
    {
     "name": "stdout",
     "output_type": "stream",
     "text": [
      "0\n",
      "2\n",
      "4\n",
      "6\n",
      "8\n",
      "10\n"
     ]
    }
   ],
   "source": [
    "for i in a:\n",
    "    print(i)"
   ]
  },
  {
   "cell_type": "markdown",
   "id": "3cd7786f-8995-48c5-9c34-9656199d7965",
   "metadata": {},
   "source": [
    "# linked list 練習題目"
   ]
  },
  {
   "cell_type": "code",
   "execution_count": 9,
   "id": "1fbb5595-e9f4-4ef6-ad32-a0b98f6eed12",
   "metadata": {},
   "outputs": [],
   "source": [
    "# 創建一個general linkedlist"
   ]
  },
  {
   "cell_type": "code",
   "execution_count": 48,
   "id": "3184fbfc-882c-461d-a9ea-4eea7c86ccf2",
   "metadata": {},
   "outputs": [
    {
     "name": "stdout",
     "output_type": "stream",
     "text": [
      "['2', '2', '4', '4', '4']\n",
      "5\n"
     ]
    }
   ],
   "source": [
    "from random import randint\n",
    "class Node:\n",
    "    def __init__(self, value=None):\n",
    "        self.value = value\n",
    "        self.next = None\n",
    "        self.prev = None\n",
    "    \n",
    "    def __str__(self):\n",
    "        return str(self.value)\n",
    "\n",
    "class LinkedList:\n",
    "    def __init__(self, values = None):\n",
    "        self.head = None\n",
    "        self.tail = None\n",
    "\n",
    "    def __iter__(self):\n",
    "        curNode = self.head\n",
    "        while curNode:\n",
    "            yield curNode\n",
    "            curNode = curNode.next\n",
    "    \n",
    "    def __str__(self):\n",
    "        values = [str(x.value) for x in self]\n",
    "        return str(values)#' -> '.join(values)\n",
    "    \n",
    "    def __len__(self):\n",
    "        result = 0\n",
    "        node = self.head\n",
    "        while node:\n",
    "            result += 1\n",
    "            node = node.next\n",
    "        return result\n",
    "    \n",
    "    def add(self, value):\n",
    "        if self.head is None:\n",
    "            newNode = Node(value)\n",
    "            self.head = newNode\n",
    "            self.tail = newNode\n",
    "        else:\n",
    "            #print(Node(value))\n",
    "            self.tail.next = Node(value)\n",
    "            #print(self.tail.next)\n",
    "            self.tail = self.tail.next\n",
    "        #return self.tail\n",
    "    \n",
    "    def generate(self, n, min_value, max_value):\n",
    "        self.head = None\n",
    "        self.tail = None\n",
    "        for i in range(n):\n",
    "            self.add(randint(min_value,max_value))\n",
    "        return self\n",
    "\n",
    "customLL = LinkedList()\n",
    "customLL.generate(5, 0, 5)\n",
    "print(customLL)\n",
    "print(len(customLL))"
   ]
  },
  {
   "cell_type": "code",
   "execution_count": 49,
   "id": "c15902dc-d8d1-4cb2-adad-29760a1fb712",
   "metadata": {},
   "outputs": [
    {
     "name": "stdout",
     "output_type": "stream",
     "text": [
      "['2', '2', '4', '4', '4', '0', '0']\n"
     ]
    }
   ],
   "source": [
    "customLL.add(0)\n",
    "customLL.add(0)\n",
    "print(customLL)"
   ]
  },
  {
   "cell_type": "markdown",
   "id": "cbd1ab5f-f054-4af5-b2f1-15318d5d4a71",
   "metadata": {},
   "source": [
    "# 第一題 刪除linkedlist內重複的數值"
   ]
  },
  {
   "cell_type": "code",
   "execution_count": 50,
   "id": "0abaa2c0-85e5-4e04-bcc7-0c77959eee7a",
   "metadata": {},
   "outputs": [],
   "source": [
    "# 能使用tempory情況下，也就是能使用set_\n",
    "def removeDups(ll):\n",
    "    if ll.head is None:\n",
    "        return 'll is not a linkedlist'\n",
    "    else :\n",
    "        current_node = ll.head\n",
    "        set_ = set([current_node.value])\n",
    "        while current_node.next:\n",
    "            if current_node.next.value in set_:# 如果這個node與之前的重複\n",
    "                current_node.next = current_node.next.next\n",
    "            else:\n",
    "                set_.add( current_node.next.value )\n",
    "                current_node = current_node.next\n",
    "        return ll"
   ]
  },
  {
   "cell_type": "code",
   "execution_count": 51,
   "id": "3850e26f-0627-47f3-999a-05c92a266e9b",
   "metadata": {},
   "outputs": [],
   "source": [
    "a = removeDups(customLL)"
   ]
  },
  {
   "cell_type": "code",
   "execution_count": 52,
   "id": "d13176dc-14f5-465f-9006-00a110fb2450",
   "metadata": {},
   "outputs": [
    {
     "name": "stdout",
     "output_type": "stream",
     "text": [
      "['2', '4', '0']\n"
     ]
    }
   ],
   "source": [
    "print(a)"
   ]
  },
  {
   "cell_type": "code",
   "execution_count": 75,
   "id": "b002989d-f679-4814-8109-ce3459ef711d",
   "metadata": {},
   "outputs": [],
   "source": [
    "# without tempory\n",
    "def removeDups1(ll):\n",
    "    if ll.head is None:\n",
    "        return 'll is not a linkedlist'\n",
    "    else :\n",
    "        currnode = ll.head\n",
    "        while currnode:\n",
    "            runnode = currnode\n",
    "            while runnode.next:\n",
    "                # print('*****')\n",
    "                # print(currnode)\n",
    "                # print(runnode)\n",
    "                # print(ll)\n",
    "                if runnode.next.value == currnode.value:\n",
    "                    runnode.next = runnode.next.next\n",
    "                else:\n",
    "                    runnode = runnode.next\n",
    "            currnode = currnode.next\n",
    "            #print('-----')\n",
    "        return ll"
   ]
  },
  {
   "cell_type": "code",
   "execution_count": 80,
   "id": "c7f203ba-5679-41ac-8341-212ab1fb2b4b",
   "metadata": {
    "tags": []
   },
   "outputs": [
    {
     "name": "stdout",
     "output_type": "stream",
     "text": [
      "['10', '7', '1', '2', '10', '10', '5', '4', '9', '3', '5', '4', '9', '1', '1']\n",
      "['10', '7', '1', '2', '5', '4', '9', '3']\n"
     ]
    }
   ],
   "source": [
    "customLL = LinkedList()\n",
    "customLL.generate(15, 0, 10)\n",
    "print(customLL)\n",
    "a = removeDups1(customLL)\n",
    "print(a)"
   ]
  },
  {
   "cell_type": "code",
   "execution_count": 98,
   "id": "d5661b01-adc2-438a-8616-43999cc3a4c9",
   "metadata": {},
   "outputs": [
    {
     "name": "stdout",
     "output_type": "stream",
     "text": [
      "['10', '7', '1', '2', '5', '4', '9', '3']\n"
     ]
    }
   ],
   "source": [
    "print(customLL)"
   ]
  },
  {
   "cell_type": "markdown",
   "id": "1ceeb02d-861f-49b0-aa21-26ab055d0806",
   "metadata": {},
   "source": [
    "# Return Nth to the last\n",
    "回傳距離最後一node的第N筆資料"
   ]
  },
  {
   "cell_type": "code",
   "execution_count": 96,
   "id": "d4d06811-bb16-4630-b699-9f94ea74d1eb",
   "metadata": {},
   "outputs": [],
   "source": [
    "def nthToLast(ll , n):\n",
    "    pointer1 = ll.head\n",
    "    pointer2 = ll.head\n",
    "    for i in range(n):\n",
    "        while pointer2 is None:\n",
    "            return None\n",
    "        pointer2  = pointer2.next\n",
    "    while pointer2:\n",
    "        pointer1 = pointer1.next\n",
    "        pointer2 = pointer2.next\n",
    "    return ll # pointer1"
   ]
  },
  {
   "cell_type": "code",
   "execution_count": 97,
   "id": "b2cd1e8f-86cf-429e-8f8f-2dd2c755220d",
   "metadata": {},
   "outputs": [
    {
     "name": "stdout",
     "output_type": "stream",
     "text": [
      "['10', '7', '1', '2', '5', '4', '9', '3']\n"
     ]
    }
   ],
   "source": [
    "a = nthToLast(customLL , 5)\n",
    "print(a)"
   ]
  },
  {
   "cell_type": "code",
   "execution_count": 88,
   "id": "c7f5b1a4-730b-46ec-8f85-54ab8a667d81",
   "metadata": {},
   "outputs": [
    {
     "name": "stdout",
     "output_type": "stream",
     "text": [
      "5\n"
     ]
    }
   ],
   "source": [
    "print(a.next)"
   ]
  },
  {
   "cell_type": "code",
   "execution_count": 95,
   "id": "76776413-984f-41ef-bfff-9d3876be9a87",
   "metadata": {},
   "outputs": [
    {
     "name": "stdout",
     "output_type": "stream",
     "text": [
      "None\n"
     ]
    }
   ],
   "source": [
    "print(a.next.next.next.next.next)"
   ]
  },
  {
   "cell_type": "markdown",
   "id": "db7083f5-00f0-4e58-be60-28f0ee71d14d",
   "metadata": {},
   "source": [
    "回串倒數前N筆資料"
   ]
  },
  {
   "cell_type": "code",
   "execution_count": 104,
   "id": "8bf55bea-1742-4d98-afec-3d1d9f707c9e",
   "metadata": {},
   "outputs": [],
   "source": [
    "def nToLast(ll , n):\n",
    "    node = ll.head\n",
    "    len_ = len(ll) - n\n",
    "    for i in range(len_):\n",
    "        node = node.next\n",
    "        ll.head = node\n",
    "    return ll"
   ]
  },
  {
   "cell_type": "code",
   "execution_count": 105,
   "id": "83000795-e24c-45b8-8fdd-ad186f0cf0c8",
   "metadata": {},
   "outputs": [
    {
     "name": "stdout",
     "output_type": "stream",
     "text": [
      "['4', '9', '3']\n"
     ]
    }
   ],
   "source": [
    "print( nToLast(customLL , n=3) )"
   ]
  },
  {
   "cell_type": "markdown",
   "id": "74f1bba9-df24-4619-b542-4ca509031d1e",
   "metadata": {},
   "source": [
    "# Partition\n",
    "根據一個數值，將原本linkedlist切分，比該數值小的，排在前面，大於或等於的排在後面"
   ]
  },
  {
   "cell_type": "markdown",
   "id": "b91b356a-5c88-4e94-9d62-4bb16ee19fac",
   "metadata": {},
   "source": [
    "![title](img/partition.png)"
   ]
  },
  {
   "cell_type": "code",
   "execution_count": 118,
   "id": "c7586149-057d-49f7-83ab-4cf9928340ac",
   "metadata": {},
   "outputs": [],
   "source": [
    "def partition(ll , p ):\n",
    "    curNode = ll.head\n",
    "    ll.tail = ll.head\n",
    "    while curNode:\n",
    "        nextNode = curNode.next\n",
    "        curNode.next = None\n",
    "        if curNode.value < p:# 如果數值小於切分點，會放在第一個\n",
    "            curNode.next = ll.head\n",
    "            ll.head = curNode\n",
    "        else : # 如果大於等於，會放在最後\n",
    "            #curNode.next = None\n",
    "            ll.tail.next = curNode\n",
    "            ll.tail = curNode \n",
    "        curNode = nextNode#curNode.next\n",
    "    if ll.tail.next  is not None:# 如果全部都在最前面的話，要強制把tail改為None\n",
    "        ll.tail.next = None\n",
    "    return ll \n",
    "            "
   ]
  },
  {
   "cell_type": "code",
   "execution_count": 120,
   "id": "0fbd4901-2c0b-4423-b862-d1bfaebbc6f2",
   "metadata": {},
   "outputs": [
    {
     "name": "stdout",
     "output_type": "stream",
     "text": [
      "['5', '1', '1', '9', '7']\n",
      "['1', '1', '5', '9', '7']\n",
      "['1', '1', '5', '9', '7']\n"
     ]
    }
   ],
   "source": [
    "customLL = LinkedList()\n",
    "customLL.generate(5, 0, 10)\n",
    "print(customLL)\n",
    "print( partition(customLL , p=5) )\n",
    "print(customLL)\n"
   ]
  },
  {
   "cell_type": "markdown",
   "id": "18a2dd1d-03c2-409b-8d18-e2e2c091ca1b",
   "metadata": {},
   "source": [
    "# Sum \n",
    "將兩個linkedlist by each node 加起來，進位的數值會帶到下一位去"
   ]
  },
  {
   "cell_type": "markdown",
   "id": "9373c1e2-ff3c-4fd4-9875-83386e6a8ad1",
   "metadata": {},
   "source": [
    "![title](img/Sumlist.png)"
   ]
  },
  {
   "cell_type": "code",
   "execution_count": 121,
   "id": "10fc9492-7ca3-4a6f-9c92-4b95f1de0f5c",
   "metadata": {},
   "outputs": [
    {
     "name": "stdout",
     "output_type": "stream",
     "text": [
      "7 -> 1 -> 6\n",
      "5 -> 9 -> 2\n",
      "2 -> 1 -> 9\n"
     ]
    }
   ],
   "source": [
    "from LinkedList import LinkedList\n",
    "\n",
    "def sumList(llA, llB):\n",
    "    n1 = llA.head\n",
    "    n2 = llB.head\n",
    "    carry = 0\n",
    "    ll = LinkedList()\n",
    "\n",
    "    while n1 or n2:\n",
    "        result = carry\n",
    "        if n1:\n",
    "            result += n1.value\n",
    "            n1 = n1.next\n",
    "        if n2:\n",
    "            result += n2.value\n",
    "            n2 = n2.next\n",
    "        ll.add(int(result % 10))\n",
    "        carry = result / 10\n",
    "    \n",
    "    return ll\n",
    "\n",
    "llA = LinkedList()\n",
    "llA.add(7)\n",
    "llA.add(1)\n",
    "llA.add(6)\n",
    "\n",
    "\n",
    "llB = LinkedList()\n",
    "llB.add(5)\n",
    "llB.add(9)\n",
    "llB.add(2)\n",
    "print(llA)\n",
    "print(llB)\n",
    "print(sumList(llA, llB))\n"
   ]
  },
  {
   "cell_type": "markdown",
   "id": "a6dee531-fd3f-4399-ad66-799ad0193805",
   "metadata": {},
   "source": [
    "# intersection\n",
    "找出第N個reference相同的node，注意不是相同的value<br>\n",
    "![title](img/insertion.png)"
   ]
  },
  {
   "cell_type": "code",
   "execution_count": 123,
   "id": "5fa365d8-7e05-40e8-b7ea-f5d6e3be1ab9",
   "metadata": {},
   "outputs": [
    {
     "name": "stdout",
     "output_type": "stream",
     "text": [
      "9 -> 9 -> 10 -> 7 -> 2 -> 1\n",
      "1 -> 1 -> 4 -> 6 -> 7 -> 2 -> 1\n",
      "7\n"
     ]
    }
   ],
   "source": [
    "from LinkedList import LinkedList, Node\n",
    "\n",
    "def intersection(llA, llB):\n",
    "    if llA.tail is not llB.tail:\n",
    "        return False\n",
    "    \n",
    "    lenA = len(llA)\n",
    "    lenB = len(llB)\n",
    "\n",
    "    shorter = llA if lenA < lenB else llB\n",
    "    longer = llB if lenA < lenB else llA\n",
    "\n",
    "    diff = len(longer) - len(shorter)\n",
    "    longerNode = longer.head\n",
    "    shorterNode = shorter.head\n",
    "\n",
    "    for i in range(diff):\n",
    "        longerNode = longerNode.next\n",
    "    \n",
    "    while shorterNode is not longerNode:\n",
    "        shorterNode = shorterNode.next\n",
    "        longerNode = longerNode.next\n",
    "    \n",
    "    return longerNode\n",
    "\n",
    "\n",
    "# Helper addition method\n",
    "def addSameNode(llA, llB, value):\n",
    "    tempNode = Node(value)\n",
    "    llA.tail.next = tempNode\n",
    "    llA.tail = tempNode\n",
    "    llB.tail.next = tempNode\n",
    "    llB.tail = tempNode\n",
    "\n",
    "llA = LinkedList()\n",
    "llA.generate(3,0, 10)\n",
    "\n",
    "llB = LinkedList()\n",
    "llB.generate(4,0, 10)\n",
    "\n",
    "addSameNode(llA, llB, 7)\n",
    "addSameNode(llA, llB, 2)\n",
    "addSameNode(llA, llB, 1)\n",
    "\n",
    "\n",
    "print(llA)\n",
    "print(llB)\n",
    "\n",
    "print(intersection(llA, llB))\n"
   ]
  },
  {
   "cell_type": "code",
   "execution_count": null,
   "id": "2d755dac-3e14-490a-bbbd-c3b7381acdae",
   "metadata": {},
   "outputs": [],
   "source": []
  }
 ],
 "metadata": {
  "kernelspec": {
   "display_name": "Python 3 (ipykernel)",
   "language": "python",
   "name": "python3"
  },
  "language_info": {
   "codemirror_mode": {
    "name": "ipython",
    "version": 3
   },
   "file_extension": ".py",
   "mimetype": "text/x-python",
   "name": "python",
   "nbconvert_exporter": "python",
   "pygments_lexer": "ipython3",
   "version": "3.7.3"
  }
 },
 "nbformat": 4,
 "nbformat_minor": 5
}
