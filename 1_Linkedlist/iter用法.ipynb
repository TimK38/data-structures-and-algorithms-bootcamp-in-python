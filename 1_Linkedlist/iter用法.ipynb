{
 "cells": [
  {
   "cell_type": "code",
   "execution_count": null,
   "id": "0fdd91d1-1b4e-4550-9e6d-3bc48cc180bf",
   "metadata": {},
   "outputs": [],
   "source": [
    "while tempNode:\n",
    "    print(tempNode.value)\n",
    "    tempNode = tempNode.next"
   ]
  },
  {
   "cell_type": "code",
   "execution_count": null,
   "id": "c47d6414-19f0-4a49-a23c-c1a683e31d24",
   "metadata": {},
   "outputs": [],
   "source": []
  }
 ],
 "metadata": {
  "kernelspec": {
   "display_name": "Python 3",
   "language": "python",
   "name": "python3"
  },
  "language_info": {
   "codemirror_mode": {
    "name": "ipython",
    "version": 3
   },
   "file_extension": ".py",
   "mimetype": "text/x-python",
   "name": "python",
   "nbconvert_exporter": "python",
   "pygments_lexer": "ipython3",
   "version": "3.6.13"
  }
 },
 "nbformat": 4,
 "nbformat_minor": 5
}
